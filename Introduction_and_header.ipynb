{
 "cells": [
  {
   "cell_type": "markdown",
   "metadata": {},
   "source": [
    "# **Predicting Election Results with Polling and Spending Data**\n",
    "\n",
    "Fall 2024 Data Science Project\n",
    "\n",
    "Paul Crumrine, Jamin Day, Garrison Wells, Jared Ramirez, Daniel Luom, and Xiwei(Aaron) Tong \n",
    "\n",
    "Contributions: \n",
    "- Paul Crumrine - \n",
    "- Jamin Day - \n",
    "- Garrison Wells - \n",
    "- Jared Ramirez - \n",
    "- Daniel Luom - \n",
    "- Xiwei(Aaron) Tong - \n",
    "\n",
    "<!-- A: Project idea\n",
    "B: Dataset Curation and Preprocessing\n",
    "C: Data Exploration and Summary Statistics\n",
    "D: ML Algorithm Design/Development\n",
    "E: ML Algorithm Training and Test Data Analysis\n",
    "F: Visualization, Result Analysis, Conclusion\n",
    "G: Final Tutorial Report Creation\n",
    "H: Additional (not listed above) -->"
   ]
  },
  {
   "cell_type": "markdown",
   "metadata": {},
   "source": [
    "## Introduction\n",
    "\n",
    "For our topic we focused on US presidential elections and campaign spending. We know candidates focus on different states differently and money is massively influential, especially in American politics. So how can campaign spending, along with other predictors like polling and location, impact election results? What patterns exist in these factors and can they be used to make predictions or insights about US presidential elections? \n",
    "\n",
    "It goes without saying that the presidential election is important and is something a lot of people care about, or else it wouldn’t be plastered over regular and social media. A model that can completely predict an election based on spending and polling data would be impressive but is a bit of a pipe dream. Even if the model doesn't predict each state perfectly, this project should still be able to show where some correlation is and patterns that exist, even if it can’t predict with perfect accuracy. This would still be useful to measure the impact of campaign finance and gain new understanding of elections. \n"
   ]
  },
  {
   "cell_type": "markdown",
   "metadata": {},
   "source": [
    "**Imports**"
   ]
  },
  {
   "cell_type": "code",
   "execution_count": 1,
   "metadata": {},
   "outputs": [],
   "source": [
    "import numpy as np\n",
    "import pandas as pd\n",
    "import seaborn as sns\n",
    "import matplotlib.pyplot as plt\n",
    "import matplotlib.ticker as ticker\n",
    "import scipy\n",
    "from scipy.stats import wilcoxon\n",
    "import datetime\n",
    "from dateutil.relativedelta import relativedelta\n",
    "\n",
    "from sklearn.preprocessing import StandardScaler, OneHotEncoder\n",
    "from sklearn.metrics import accuracy_score, classification_report, confusion_matrix, silhouette_score\n",
    "from sklearn.compose import ColumnTransformer\n",
    "\n",
    "from sklearn.tree import DecisionTreeClassifier\n",
    "from sklearn.neighbors import KNeighborsClassifier\n",
    "from sklearn.linear_model import LogisticRegression\n",
    "from sklearn.ensemble import RandomForestClassifier, AdaBoostClassifier\n",
    "from sklearn.neural_network import MLPClassifier\n",
    "\n",
    "from sklearn.pipeline import Pipeline"
   ]
  },
  {
   "cell_type": "markdown",
   "metadata": {},
   "source": [
    "# SECTION 3: Dataset Curation and Preprocessing"
   ]
  },
  {
   "cell_type": "markdown",
   "metadata": {},
   "source": [
    "# Polling Data Preprocessing"
   ]
  },
  {
   "cell_type": "markdown",
   "metadata": {},
   "source": [
    "Set the constants needed to process the data.\n",
    "\n",
    "Date of each election being processed.\n",
    "\n",
    "Party Affiliation of Candidates"
   ]
  },
  {
   "cell_type": "code",
   "execution_count": 2,
   "metadata": {},
   "outputs": [],
   "source": [
    "election_days = {\n",
    "    2024: datetime.date(2024, 11, 5),\n",
    "    2020: datetime.date(2020, 11, 3),\n",
    "    2016: datetime.date(2016, 11, 8),\n",
    "    2012: datetime.date(2012, 11, 6),\n",
    "    2008: datetime.date(2008, 11, 4),\n",
    "    2004: datetime.date(2004, 11, 2)\n",
    "}\n",
    "\n",
    "candidate_parties = {\n",
    "    'Donald Trump': 'Republican', \n",
    "    'Hillary Rodham Clinton': 'Democrat', \n",
    "    'Barack Obama': 'Democrat', \n",
    "    'Mitt Romney': 'Republican', \n",
    "    'John McCain': 'Republican', \n",
    "    'George W. Bush': 'Republican', \n",
    "    'John Kerry': 'Democrat',\n",
    "    'Harris': 'Democrat',\n",
    "    'Trump': 'Republican',\n",
    "    'Joseph R. Biden Jr.': 'Democrat'\n",
    "}\n",
    "\n",
    "fix_party = {'DEM': 'Democrat', 'REP': 'Republican'}\n",
    "\n",
    "standard_states = {\n",
    "    'Nebraska CD-1': 'NE-1',\n",
    "    'Nebraska CD-2': 'NE-2',\n",
    "    'Nebraska CD-3': 'NE-3',\n",
    "    'Maine CD-1': 'ME-1',\n",
    "    'Maine CD-2': 'ME-2'\n",
    "}"
   ]
  },
  {
   "cell_type": "markdown",
   "metadata": {},
   "source": [
    "**Load Datasets**"
   ]
  },
  {
   "cell_type": "markdown",
   "metadata": {},
   "source": [
    "Load the data for past election results from\n",
    "\n",
    "MIT Election Data and Science Lab, 2017, \"U.S. President 1976–2020\", https://doi.org/10.7910/DVN/42MVDX, Harvard Dataverse, V8, UNF:6:F0opd1IRbeYI9QyVfzglUw== [fileUNF]"
   ]
  },
  {
   "cell_type": "code",
   "execution_count": 3,
   "metadata": {},
   "outputs": [],
   "source": [
    "past_elections = pd.read_csv('1976-2020-president.csv')"
   ]
  },
  {
   "cell_type": "markdown",
   "metadata": {},
   "source": [
    "**Data Exploration**"
   ]
  },
  {
   "cell_type": "code",
   "execution_count": 4,
   "metadata": {},
   "outputs": [],
   "source": [
    "## No exploration so far"
   ]
  },
  {
   "cell_type": "markdown",
   "metadata": {},
   "source": [
    "**Data Processing**"
   ]
  },
  {
   "cell_type": "markdown",
   "metadata": {},
   "source": [
    "Extract the important columns.\n",
    "\n",
    "Then, for each state in each cycle, assign the party which won that state, this will be used later to label the data."
   ]
  },
  {
   "cell_type": "code",
   "execution_count": 5,
   "metadata": {},
   "outputs": [],
   "source": [
    "past_elections = past_elections[['state', 'year', 'party_detailed', 'candidatevotes']]\n",
    "\n",
    "winning_parties = (past_elections.loc[past_elections.groupby(['state', 'year'])['candidatevotes'].idxmax()][['state', 'year', 'party_detailed']])"
   ]
  },
  {
   "cell_type": "markdown",
   "metadata": {},
   "source": [
    "Load the polling data for all the elections from the two csv files.\n",
    "\n",
    "Convert the dates to datetime format for easier processing, and rename the columns so that they match between the dataframes."
   ]
  },
  {
   "cell_type": "code",
   "execution_count": 6,
   "metadata": {},
   "outputs": [],
   "source": [
    "polling_20to24 = pd.read_csv('presidential_general_averages.csv')\n",
    "\n",
    "## Convert columns to useable datatypes\n",
    "polling_20to24['date'] = pd.to_datetime(polling_20to24['date']).dt.date\n",
    "polling_20to24['cycle'] = polling_20to24['cycle'].astype(int)\n",
    "\n",
    "polling_else = pd.read_csv('pres_pollaverages_1968-2016.csv')\n",
    "\n",
    "## Convert columns to useable datatypes\n",
    "polling_else['modeldate'] = pd.to_datetime(polling_else['modeldate']).dt.date\n",
    "polling_else['cycle'] = polling_else['cycle'].astype(int)\n",
    "\n",
    "## Extract important columns from both dataframes\n",
    "important_20to24 = polling_20to24[['state', 'cycle', 'candidate', 'date', 'pct_estimate']].copy()\n",
    "important_else = polling_else[['state', 'cycle', 'candidate_name', 'modeldate', 'pct_estimate']][polling_else['cycle'] >= 2004]\n",
    "\n",
    "## Rename columns so that they match\n",
    "important_20to24.rename(columns={'candidate': 'party'}, inplace=True)\n",
    "important_else.rename(columns={'candidate_name': 'party', 'modeldate': 'date'}, inplace=True)\n",
    "\n",
    "## Convert candidate names to their corresponding party\n",
    "important_20to24['party'] = important_20to24['party'].map(lambda e: candidate_parties[e] if e in candidate_parties.keys() else e)\n",
    "important_else['party'] = important_else['party'].map(lambda e: candidate_parties[e] if e in candidate_parties.keys() else e)\n",
    "\n",
    "## Fill in missing values\n",
    "important_20to24['pct_estimate'] = important_20to24['pct_estimate'].fillna(polling_20to24['pct_trend_adjusted'])\n",
    "\n",
    "## Combine all cycles into one dataframe\n",
    "combined_df = pd.concat([important_20to24, important_else], ignore_index=True)\n",
    "combined_df.reset_index(inplace=True)\n",
    "combined_df = combined_df[combined_df['state'] != 'National']\n",
    "\n",
    "## Fix some inconsistent naming of the congressional districts for Nebraska and Maine\n",
    "combined_df['state'] = combined_df['state'].map(lambda e: 'NE-2' if e == 'Nebraska Cd 2' else e)\n",
    "combined_df['state'] = combined_df['state'].map(lambda e: 'ME-2' if e == 'Maine Cd 2' else e)"
   ]
  },
  {
   "cell_type": "markdown",
   "metadata": {},
   "source": [
    "From our data exploration, we know that the 2024 data is missing for quite a few states, so we need to add those states using the raw polling data.\n",
    "1. Load the raw polling data"
   ]
  },
  {
   "cell_type": "code",
   "execution_count": 7,
   "metadata": {},
   "outputs": [],
   "source": [
    "poll_data = pd.read_csv('president_polls.csv')"
   ]
  },
  {
   "cell_type": "markdown",
   "metadata": {},
   "source": [
    "Grab the most important columns"
   ]
  },
  {
   "cell_type": "code",
   "execution_count": 8,
   "metadata": {},
   "outputs": [],
   "source": [
    "processed_polls = poll_data[['pollster_id', 'state', 'end_date', 'party', 'pct', 'office_type']]\n",
    "\n",
    "## Ignore the rows with NaN states bc those are national polls\n",
    "processed_polls = processed_polls[processed_polls['state'].notna()].reset_index()\n",
    "\n",
    "## Convert the dates to datetime\n",
    "processed_polls['end_date'] = pd.to_datetime(processed_polls['end_date'], format=\"mixed\", dayfirst=False).dt.date"
   ]
  },
  {
   "cell_type": "markdown",
   "metadata": {},
   "source": [
    "2. Get the pollsters with grades higher than 2.3. This ensures that the polling average is not skewed by biased pollsters."
   ]
  },
  {
   "cell_type": "code",
   "execution_count": 9,
   "metadata": {},
   "outputs": [],
   "source": [
    "top_pollsters = poll_data.groupby('pollster_id', as_index=False).agg({'numeric_grade': 'max'})\n",
    "top_pollsters.sort_values(by='numeric_grade', ascending=False, inplace=True)\n",
    "top_pollsters = top_pollsters[top_pollsters['numeric_grade'] > 1.6]['pollster_id'].to_list()"
   ]
  },
  {
   "cell_type": "markdown",
   "metadata": {},
   "source": [
    "Remove all entries that aren't by the top pollsters. And fix the state names for the Nebraska and Maine districts"
   ]
  },
  {
   "cell_type": "code",
   "execution_count": 10,
   "metadata": {},
   "outputs": [],
   "source": [
    "processed_polls = processed_polls[processed_polls['pollster_id'].isin(top_pollsters)]\n",
    "processed_polls['party'] = processed_polls['party'].map(lambda e: fix_party[e] if e in fix_party.keys() else e)\n",
    "processed_polls['state'] = processed_polls['state'].map(lambda e: standard_states[e] if e in standard_states.keys() else e)"
   ]
  },
  {
   "cell_type": "markdown",
   "metadata": {},
   "source": [
    "3. Add the necessary columns to the polls to match the combined_df, and also reorder them too"
   ]
  },
  {
   "cell_type": "code",
   "execution_count": 11,
   "metadata": {},
   "outputs": [],
   "source": [
    "processed_polls['cycle'] = 2024\n",
    "processed_polls = processed_polls[['state', 'cycle', 'party', 'end_date', 'pct']].copy()"
   ]
  },
  {
   "cell_type": "markdown",
   "metadata": {},
   "source": [
    "4. Concat the new data onto the combined data"
   ]
  },
  {
   "cell_type": "code",
   "execution_count": 12,
   "metadata": {},
   "outputs": [],
   "source": [
    "processed_polls.rename(columns={'pct': 'pct_estimate', 'end_date': 'date'}, inplace=True)\n",
    "combined_df = pd.concat([combined_df, processed_polls], ignore_index=True)"
   ]
  },
  {
   "cell_type": "markdown",
   "metadata": {},
   "source": [
    "Some states don't have polls within the month of the 2024 election because of how recent it was, so we will instead use the most recent poll for those states."
   ]
  },
  {
   "cell_type": "code",
   "execution_count": 13,
   "metadata": {},
   "outputs": [
    {
     "data": {
      "text/html": [
       "<div>\n",
       "<style scoped>\n",
       "    .dataframe tbody tr th:only-of-type {\n",
       "        vertical-align: middle;\n",
       "    }\n",
       "\n",
       "    .dataframe tbody tr th {\n",
       "        vertical-align: top;\n",
       "    }\n",
       "\n",
       "    .dataframe thead th {\n",
       "        text-align: right;\n",
       "    }\n",
       "</style>\n",
       "<table border=\"1\" class=\"dataframe\">\n",
       "  <thead>\n",
       "    <tr style=\"text-align: right;\">\n",
       "      <th></th>\n",
       "      <th>cycle</th>\n",
       "      <th>party</th>\n",
       "      <th>date</th>\n",
       "      <th>pct_estimate</th>\n",
       "    </tr>\n",
       "    <tr>\n",
       "      <th>state</th>\n",
       "      <th></th>\n",
       "      <th></th>\n",
       "      <th></th>\n",
       "      <th></th>\n",
       "    </tr>\n",
       "  </thead>\n",
       "  <tbody>\n",
       "    <tr>\n",
       "      <th>Alabama</th>\n",
       "      <td>6</td>\n",
       "      <td>6</td>\n",
       "      <td>6</td>\n",
       "      <td>6</td>\n",
       "    </tr>\n",
       "    <tr>\n",
       "      <th>Alaska</th>\n",
       "      <td>33</td>\n",
       "      <td>33</td>\n",
       "      <td>33</td>\n",
       "      <td>33</td>\n",
       "    </tr>\n",
       "    <tr>\n",
       "      <th>Arizona</th>\n",
       "      <td>631</td>\n",
       "      <td>631</td>\n",
       "      <td>631</td>\n",
       "      <td>631</td>\n",
       "    </tr>\n",
       "    <tr>\n",
       "      <th>Arkansas</th>\n",
       "      <td>10</td>\n",
       "      <td>10</td>\n",
       "      <td>10</td>\n",
       "      <td>10</td>\n",
       "    </tr>\n",
       "    <tr>\n",
       "      <th>California</th>\n",
       "      <td>130</td>\n",
       "      <td>130</td>\n",
       "      <td>130</td>\n",
       "      <td>130</td>\n",
       "    </tr>\n",
       "    <tr>\n",
       "      <th>Colorado</th>\n",
       "      <td>33</td>\n",
       "      <td>33</td>\n",
       "      <td>33</td>\n",
       "      <td>33</td>\n",
       "    </tr>\n",
       "    <tr>\n",
       "      <th>Connecticut</th>\n",
       "      <td>13</td>\n",
       "      <td>13</td>\n",
       "      <td>13</td>\n",
       "      <td>13</td>\n",
       "    </tr>\n",
       "    <tr>\n",
       "      <th>Delaware</th>\n",
       "      <td>4</td>\n",
       "      <td>4</td>\n",
       "      <td>4</td>\n",
       "      <td>4</td>\n",
       "    </tr>\n",
       "    <tr>\n",
       "      <th>Florida</th>\n",
       "      <td>241</td>\n",
       "      <td>241</td>\n",
       "      <td>241</td>\n",
       "      <td>241</td>\n",
       "    </tr>\n",
       "    <tr>\n",
       "      <th>Georgia</th>\n",
       "      <td>658</td>\n",
       "      <td>658</td>\n",
       "      <td>658</td>\n",
       "      <td>658</td>\n",
       "    </tr>\n",
       "    <tr>\n",
       "      <th>Hawaii</th>\n",
       "      <td>4</td>\n",
       "      <td>4</td>\n",
       "      <td>4</td>\n",
       "      <td>4</td>\n",
       "    </tr>\n",
       "    <tr>\n",
       "      <th>Idaho</th>\n",
       "      <td>6</td>\n",
       "      <td>6</td>\n",
       "      <td>6</td>\n",
       "      <td>6</td>\n",
       "    </tr>\n",
       "    <tr>\n",
       "      <th>Illinois</th>\n",
       "      <td>10</td>\n",
       "      <td>10</td>\n",
       "      <td>10</td>\n",
       "      <td>10</td>\n",
       "    </tr>\n",
       "    <tr>\n",
       "      <th>Indiana</th>\n",
       "      <td>12</td>\n",
       "      <td>12</td>\n",
       "      <td>12</td>\n",
       "      <td>12</td>\n",
       "    </tr>\n",
       "    <tr>\n",
       "      <th>Iowa</th>\n",
       "      <td>63</td>\n",
       "      <td>63</td>\n",
       "      <td>63</td>\n",
       "      <td>63</td>\n",
       "    </tr>\n",
       "    <tr>\n",
       "      <th>Kansas</th>\n",
       "      <td>14</td>\n",
       "      <td>14</td>\n",
       "      <td>14</td>\n",
       "      <td>14</td>\n",
       "    </tr>\n",
       "    <tr>\n",
       "      <th>Kentucky</th>\n",
       "      <td>6</td>\n",
       "      <td>6</td>\n",
       "      <td>6</td>\n",
       "      <td>6</td>\n",
       "    </tr>\n",
       "    <tr>\n",
       "      <th>Louisiana</th>\n",
       "      <td>8</td>\n",
       "      <td>8</td>\n",
       "      <td>8</td>\n",
       "      <td>8</td>\n",
       "    </tr>\n",
       "    <tr>\n",
       "      <th>ME-1</th>\n",
       "      <td>30</td>\n",
       "      <td>30</td>\n",
       "      <td>30</td>\n",
       "      <td>30</td>\n",
       "    </tr>\n",
       "    <tr>\n",
       "      <th>ME-2</th>\n",
       "      <td>30</td>\n",
       "      <td>30</td>\n",
       "      <td>30</td>\n",
       "      <td>30</td>\n",
       "    </tr>\n",
       "    <tr>\n",
       "      <th>Maine</th>\n",
       "      <td>39</td>\n",
       "      <td>39</td>\n",
       "      <td>39</td>\n",
       "      <td>39</td>\n",
       "    </tr>\n",
       "    <tr>\n",
       "      <th>Maryland</th>\n",
       "      <td>56</td>\n",
       "      <td>56</td>\n",
       "      <td>56</td>\n",
       "      <td>56</td>\n",
       "    </tr>\n",
       "    <tr>\n",
       "      <th>Massachusetts</th>\n",
       "      <td>78</td>\n",
       "      <td>78</td>\n",
       "      <td>78</td>\n",
       "      <td>78</td>\n",
       "    </tr>\n",
       "    <tr>\n",
       "      <th>Michigan</th>\n",
       "      <td>824</td>\n",
       "      <td>824</td>\n",
       "      <td>824</td>\n",
       "      <td>824</td>\n",
       "    </tr>\n",
       "    <tr>\n",
       "      <th>Minnesota</th>\n",
       "      <td>103</td>\n",
       "      <td>103</td>\n",
       "      <td>103</td>\n",
       "      <td>103</td>\n",
       "    </tr>\n",
       "    <tr>\n",
       "      <th>Mississippi</th>\n",
       "      <td>8</td>\n",
       "      <td>8</td>\n",
       "      <td>8</td>\n",
       "      <td>8</td>\n",
       "    </tr>\n",
       "    <tr>\n",
       "      <th>Missouri</th>\n",
       "      <td>49</td>\n",
       "      <td>49</td>\n",
       "      <td>49</td>\n",
       "      <td>49</td>\n",
       "    </tr>\n",
       "    <tr>\n",
       "      <th>Montana</th>\n",
       "      <td>62</td>\n",
       "      <td>62</td>\n",
       "      <td>62</td>\n",
       "      <td>62</td>\n",
       "    </tr>\n",
       "    <tr>\n",
       "      <th>NE-1</th>\n",
       "      <td>5</td>\n",
       "      <td>5</td>\n",
       "      <td>5</td>\n",
       "      <td>5</td>\n",
       "    </tr>\n",
       "    <tr>\n",
       "      <th>NE-2</th>\n",
       "      <td>37</td>\n",
       "      <td>37</td>\n",
       "      <td>37</td>\n",
       "      <td>37</td>\n",
       "    </tr>\n",
       "    <tr>\n",
       "      <th>NE-3</th>\n",
       "      <td>5</td>\n",
       "      <td>5</td>\n",
       "      <td>5</td>\n",
       "      <td>5</td>\n",
       "    </tr>\n",
       "    <tr>\n",
       "      <th>Nebraska</th>\n",
       "      <td>33</td>\n",
       "      <td>33</td>\n",
       "      <td>33</td>\n",
       "      <td>33</td>\n",
       "    </tr>\n",
       "    <tr>\n",
       "      <th>Nevada</th>\n",
       "      <td>474</td>\n",
       "      <td>474</td>\n",
       "      <td>474</td>\n",
       "      <td>474</td>\n",
       "    </tr>\n",
       "    <tr>\n",
       "      <th>New Hampshire</th>\n",
       "      <td>184</td>\n",
       "      <td>184</td>\n",
       "      <td>184</td>\n",
       "      <td>184</td>\n",
       "    </tr>\n",
       "    <tr>\n",
       "      <th>New Jersey</th>\n",
       "      <td>21</td>\n",
       "      <td>21</td>\n",
       "      <td>21</td>\n",
       "      <td>21</td>\n",
       "    </tr>\n",
       "    <tr>\n",
       "      <th>New Mexico</th>\n",
       "      <td>47</td>\n",
       "      <td>47</td>\n",
       "      <td>47</td>\n",
       "      <td>47</td>\n",
       "    </tr>\n",
       "    <tr>\n",
       "      <th>New York</th>\n",
       "      <td>91</td>\n",
       "      <td>91</td>\n",
       "      <td>91</td>\n",
       "      <td>91</td>\n",
       "    </tr>\n",
       "    <tr>\n",
       "      <th>North Carolina</th>\n",
       "      <td>594</td>\n",
       "      <td>594</td>\n",
       "      <td>594</td>\n",
       "      <td>594</td>\n",
       "    </tr>\n",
       "    <tr>\n",
       "      <th>North Dakota</th>\n",
       "      <td>9</td>\n",
       "      <td>9</td>\n",
       "      <td>9</td>\n",
       "      <td>9</td>\n",
       "    </tr>\n",
       "    <tr>\n",
       "      <th>Ohio</th>\n",
       "      <td>128</td>\n",
       "      <td>128</td>\n",
       "      <td>128</td>\n",
       "      <td>128</td>\n",
       "    </tr>\n",
       "    <tr>\n",
       "      <th>Oklahoma</th>\n",
       "      <td>27</td>\n",
       "      <td>27</td>\n",
       "      <td>27</td>\n",
       "      <td>27</td>\n",
       "    </tr>\n",
       "    <tr>\n",
       "      <th>Oregon</th>\n",
       "      <td>14</td>\n",
       "      <td>14</td>\n",
       "      <td>14</td>\n",
       "      <td>14</td>\n",
       "    </tr>\n",
       "    <tr>\n",
       "      <th>Pennsylvania</th>\n",
       "      <td>850</td>\n",
       "      <td>850</td>\n",
       "      <td>850</td>\n",
       "      <td>850</td>\n",
       "    </tr>\n",
       "    <tr>\n",
       "      <th>Rhode Island</th>\n",
       "      <td>35</td>\n",
       "      <td>35</td>\n",
       "      <td>35</td>\n",
       "      <td>35</td>\n",
       "    </tr>\n",
       "    <tr>\n",
       "      <th>South Carolina</th>\n",
       "      <td>21</td>\n",
       "      <td>21</td>\n",
       "      <td>21</td>\n",
       "      <td>21</td>\n",
       "    </tr>\n",
       "    <tr>\n",
       "      <th>South Dakota</th>\n",
       "      <td>17</td>\n",
       "      <td>17</td>\n",
       "      <td>17</td>\n",
       "      <td>17</td>\n",
       "    </tr>\n",
       "    <tr>\n",
       "      <th>Tennessee</th>\n",
       "      <td>78</td>\n",
       "      <td>78</td>\n",
       "      <td>78</td>\n",
       "      <td>78</td>\n",
       "    </tr>\n",
       "    <tr>\n",
       "      <th>Texas</th>\n",
       "      <td>220</td>\n",
       "      <td>220</td>\n",
       "      <td>220</td>\n",
       "      <td>220</td>\n",
       "    </tr>\n",
       "    <tr>\n",
       "      <th>Utah</th>\n",
       "      <td>38</td>\n",
       "      <td>38</td>\n",
       "      <td>38</td>\n",
       "      <td>38</td>\n",
       "    </tr>\n",
       "    <tr>\n",
       "      <th>Vermont</th>\n",
       "      <td>17</td>\n",
       "      <td>17</td>\n",
       "      <td>17</td>\n",
       "      <td>17</td>\n",
       "    </tr>\n",
       "    <tr>\n",
       "      <th>Virginia</th>\n",
       "      <td>189</td>\n",
       "      <td>189</td>\n",
       "      <td>189</td>\n",
       "      <td>189</td>\n",
       "    </tr>\n",
       "    <tr>\n",
       "      <th>Washington</th>\n",
       "      <td>38</td>\n",
       "      <td>38</td>\n",
       "      <td>38</td>\n",
       "      <td>38</td>\n",
       "    </tr>\n",
       "    <tr>\n",
       "      <th>West Virginia</th>\n",
       "      <td>9</td>\n",
       "      <td>9</td>\n",
       "      <td>9</td>\n",
       "      <td>9</td>\n",
       "    </tr>\n",
       "    <tr>\n",
       "      <th>Wisconsin</th>\n",
       "      <td>746</td>\n",
       "      <td>746</td>\n",
       "      <td>746</td>\n",
       "      <td>746</td>\n",
       "    </tr>\n",
       "    <tr>\n",
       "      <th>Wyoming</th>\n",
       "      <td>9</td>\n",
       "      <td>9</td>\n",
       "      <td>9</td>\n",
       "      <td>9</td>\n",
       "    </tr>\n",
       "  </tbody>\n",
       "</table>\n",
       "</div>"
      ],
      "text/plain": [
       "                cycle  party  date  pct_estimate\n",
       "state                                           \n",
       "Alabama             6      6     6             6\n",
       "Alaska             33     33    33            33\n",
       "Arizona           631    631   631           631\n",
       "Arkansas           10     10    10            10\n",
       "California        130    130   130           130\n",
       "Colorado           33     33    33            33\n",
       "Connecticut        13     13    13            13\n",
       "Delaware            4      4     4             4\n",
       "Florida           241    241   241           241\n",
       "Georgia           658    658   658           658\n",
       "Hawaii              4      4     4             4\n",
       "Idaho               6      6     6             6\n",
       "Illinois           10     10    10            10\n",
       "Indiana            12     12    12            12\n",
       "Iowa               63     63    63            63\n",
       "Kansas             14     14    14            14\n",
       "Kentucky            6      6     6             6\n",
       "Louisiana           8      8     8             8\n",
       "ME-1               30     30    30            30\n",
       "ME-2               30     30    30            30\n",
       "Maine              39     39    39            39\n",
       "Maryland           56     56    56            56\n",
       "Massachusetts      78     78    78            78\n",
       "Michigan          824    824   824           824\n",
       "Minnesota         103    103   103           103\n",
       "Mississippi         8      8     8             8\n",
       "Missouri           49     49    49            49\n",
       "Montana            62     62    62            62\n",
       "NE-1                5      5     5             5\n",
       "NE-2               37     37    37            37\n",
       "NE-3                5      5     5             5\n",
       "Nebraska           33     33    33            33\n",
       "Nevada            474    474   474           474\n",
       "New Hampshire     184    184   184           184\n",
       "New Jersey         21     21    21            21\n",
       "New Mexico         47     47    47            47\n",
       "New York           91     91    91            91\n",
       "North Carolina    594    594   594           594\n",
       "North Dakota        9      9     9             9\n",
       "Ohio              128    128   128           128\n",
       "Oklahoma           27     27    27            27\n",
       "Oregon             14     14    14            14\n",
       "Pennsylvania      850    850   850           850\n",
       "Rhode Island       35     35    35            35\n",
       "South Carolina     21     21    21            21\n",
       "South Dakota       17     17    17            17\n",
       "Tennessee          78     78    78            78\n",
       "Texas             220    220   220           220\n",
       "Utah               38     38    38            38\n",
       "Vermont            17     17    17            17\n",
       "Virginia          189    189   189           189\n",
       "Washington         38     38    38            38\n",
       "West Virginia       9      9     9             9\n",
       "Wisconsin         746    746   746           746\n",
       "Wyoming             9      9     9             9"
      ]
     },
     "execution_count": 13,
     "metadata": {},
     "output_type": "execute_result"
    }
   ],
   "source": [
    "most_recent = processed_polls.groupby('state')['date'].max().reset_index()\n",
    "most_recent = most_recent[most_recent['date'] < (election_days[2024] + relativedelta(months=-1))].to_dict()\n",
    "\n",
    "temp = {}\n",
    "for k in most_recent['state'].keys():\n",
    "    temp[most_recent['state'][k]] = most_recent['date'][k]\n",
    "\n",
    "most_recent = temp\n",
    "most_recent\n",
    "processed_polls.groupby('state').count()"
   ]
  },
  {
   "cell_type": "markdown",
   "metadata": {},
   "source": [
    "For each of the elections being processed, get the one month average for each major party, \n",
    "\n"
   ]
  },
  {
   "cell_type": "code",
   "execution_count": 14,
   "metadata": {},
   "outputs": [
    {
     "name": "stdout",
     "output_type": "stream",
     "text": [
      "Empty DataFrame\n",
      "Columns: [index, state, cycle, party, date, pct_estimate]\n",
      "Index: []\n",
      "    index    state  cycle       party        date  pct_estimate\n",
      "0     0.0  Alabama   2020    Democrat  2020-11-03      37.82732\n",
      "1     1.0  Alabama   2020  Republican  2020-11-03      57.36126\n",
      "2     2.0  Alabama   2020    Democrat  2020-11-02      37.82732\n",
      "3     3.0  Alabama   2020  Republican  2020-11-02      57.36126\n",
      "4     4.0  Alabama   2020    Democrat  2020-11-01      38.07011\n",
      "..    ...      ...    ...         ...         ...           ...\n",
      "59   59.0  Alabama   2020  Republican  2020-10-05      56.89531\n",
      "60   60.0  Alabama   2020    Democrat  2020-10-04      38.79457\n",
      "61   61.0  Alabama   2020  Republican  2020-10-04      56.16731\n",
      "62   62.0  Alabama   2020    Democrat  2020-10-03      38.74995\n",
      "63   63.0  Alabama   2020  Republican  2020-10-03      56.24868\n",
      "\n",
      "[64 rows x 6 columns]\n",
      "        index    state  cycle       party        date  pct_estimate\n",
      "0     52757.0  Alabama   2016  Republican  2016-10-08      60.69123\n",
      "55    52813.0  Alabama   2016    Democrat  2016-10-08      33.42359\n",
      "110   52922.0  Alabama   2016  Republican  2016-10-09      60.71487\n",
      "165   52978.0  Alabama   2016    Democrat  2016-10-09      33.43875\n",
      "220   53087.0  Alabama   2016  Republican  2016-10-10      60.58911\n",
      "...       ...      ...    ...         ...         ...           ...\n",
      "3270  57650.0  Alabama   2016    Democrat  2016-11-06      35.06635\n",
      "3326  57762.0  Alabama   2016  Republican  2016-11-07      56.33739\n",
      "3382  57819.0  Alabama   2016    Democrat  2016-11-07      35.14891\n",
      "3438  57931.0  Alabama   2016  Republican  2016-11-08      56.33739\n",
      "3494  57988.0  Alabama   2016    Democrat  2016-11-08      35.14891\n",
      "\n",
      "[64 rows x 6 columns]\n",
      "        index    state  cycle       party        date  pct_estimate\n",
      "0     76767.0  Alabama   2012    Democrat  2012-10-06     35.634298\n",
      "50    76818.0  Alabama   2012  Republican  2012-10-06     53.786453\n",
      "100   76869.0  Alabama   2012    Democrat  2012-10-07     35.628099\n",
      "150   76920.0  Alabama   2012  Republican  2012-10-07     53.796213\n",
      "200   76971.0  Alabama   2012    Democrat  2012-10-08     35.624963\n",
      "...       ...      ...    ...         ...         ...           ...\n",
      "3044  79870.0  Alabama   2012  Republican  2012-11-04     53.701491\n",
      "3096  79923.0  Alabama   2012    Democrat  2012-11-05     35.623535\n",
      "3148  79976.0  Alabama   2012  Republican  2012-11-05     53.690322\n",
      "3200  80029.0  Alabama   2012    Democrat  2012-11-06     35.623535\n",
      "3252  80082.0  Alabama   2012  Republican  2012-11-06     53.690322\n",
      "\n",
      "[64 rows x 6 columns]\n",
      "         index    state  cycle       party        date  pct_estimate\n",
      "0     102469.0  Alabama   2008  Republican  2008-10-04     58.954569\n",
      "50    102520.0  Alabama   2008    Democrat  2008-10-04     34.379813\n",
      "100   102571.0  Alabama   2008  Republican  2008-10-05     58.838870\n",
      "150   102622.0  Alabama   2008    Democrat  2008-10-05     34.465440\n",
      "200   102673.0  Alabama   2008  Republican  2008-10-06     58.837137\n",
      "...        ...      ...    ...         ...         ...           ...\n",
      "2950  105478.0  Alabama   2008    Democrat  2008-11-02     35.873942\n",
      "3000  105529.0  Alabama   2008  Republican  2008-11-03     58.282539\n",
      "3050  105580.0  Alabama   2008    Democrat  2008-11-03     35.858475\n",
      "3100  105631.0  Alabama   2008  Republican  2008-11-04     58.282539\n",
      "3150  105682.0  Alabama   2008    Democrat  2008-11-04     35.858475\n",
      "\n",
      "[64 rows x 6 columns]\n",
      "         index    state  cycle       party        date  pct_estimate\n",
      "0     123527.0  Alabama   2004  Republican  2004-10-02     55.745184\n",
      "49    123577.0  Alabama   2004    Democrat  2004-10-02     33.749181\n",
      "98    123627.0  Alabama   2004  Republican  2004-10-03     57.165742\n",
      "147   123677.0  Alabama   2004    Democrat  2004-10-03     33.772150\n",
      "196   123727.0  Alabama   2004  Republican  2004-10-04     57.174139\n",
      "...        ...      ...    ...         ...         ...           ...\n",
      "2891  126477.0  Alabama   2004    Democrat  2004-10-31     35.154524\n",
      "2940  126527.0  Alabama   2004  Republican  2004-11-01     56.781719\n",
      "2989  126577.0  Alabama   2004    Democrat  2004-11-01     35.150294\n",
      "3038  126627.0  Alabama   2004  Republican  2004-11-02     56.778493\n",
      "3087  126677.0  Alabama   2004    Democrat  2004-11-02     35.153022\n",
      "\n",
      "[64 rows x 6 columns]\n"
     ]
    },
    {
     "data": {
      "text/plain": [
       "state                      316\n",
       "polling_avg_republican     316\n",
       "polling_avg_democrat       316\n",
       "cycle                      316\n",
       "jkey                       316\n",
       "month_change_republican    316\n",
       "month_change_democrat      316\n",
       "dtype: int64"
      ]
     },
     "execution_count": 14,
     "metadata": {},
     "output_type": "execute_result"
    }
   ],
   "source": [
    "processed_data = None\n",
    "\n",
    "for year in election_days.keys():\n",
    "    ## Set the dates needed, election day, one and two months before\n",
    "    election_date = election_days[year]\n",
    "    one_month_before = election_date + relativedelta(months=-1)\n",
    "    two_month_before = election_date + relativedelta(months=-2)\n",
    "    \n",
    "    ## Filter combined dataframe with the dates\n",
    "    one_month_filtered = combined_df[(combined_df['date'] >= one_month_before) & (combined_df['date'] <= election_date) & (combined_df['party'].isin(['Democrat', 'Republican']))].reset_index(drop=True)\n",
    "\n",
    "    print(one_month_filtered[one_month_filtered['state'] == 'Alabama'])\n",
    "    \n",
    "    two_month_filtered = combined_df[(combined_df['date'] >= two_month_before) & (combined_df['date'] <= one_month_before) & (combined_df['party'].isin(['Democrat', 'Republican']))]\n",
    "\n",
    "    if year == 2024:\n",
    "        for st in most_recent.keys():\n",
    "            date = most_recent[st]\n",
    "\n",
    "            recent = combined_df[(combined_df['date'] >= date + relativedelta(months=-1)) & (combined_df['date'] <= date) & (combined_df['party'].isin(['Democrat', 'Republican'])) & (combined_df['state'] == st)]\n",
    "\n",
    "            one_month_filtered = pd.concat([one_month_filtered, recent], ignore_index=True).reset_index(drop=True)\n",
    "        \n",
    "        two_month_filtered = two_month_filtered[~two_month_filtered['state'].isin(most_recent.keys())]\n",
    "\n",
    "    ## Group by state then party, then get average over month\n",
    "    grouped_one_month = one_month_filtered.groupby(['state', 'party'])['pct_estimate'].mean().reset_index()\n",
    "\n",
    "    grouped_two_month = two_month_filtered.groupby(['state', 'party'])['pct_estimate'].mean().reset_index()\n",
    "\n",
    "    ## Pivot dataframe so that the Democrat and Republican polling averages are on the same rows\n",
    "    temp = grouped_two_month.pivot(index='state', columns='party', values='pct_estimate').reset_index()\n",
    "\n",
    "    ## Reorder and rename columns\n",
    "    temp = temp[['state', 'Republican', 'Democrat']]\n",
    "    temp.columns = ['state', 'polling_avg_republican2', 'polling_avg_democrat2']\n",
    "\n",
    "    temp['cycle'] = year\n",
    "\n",
    "    ## Create a key to merge the one month and two month dataframes on\n",
    "    temp['jkey'] = temp['state'] + temp['cycle'].astype(str)\n",
    "\n",
    "    ## Repeat above for the one month dataframe\n",
    "    result = grouped_one_month.pivot(index='state', columns='party', values='pct_estimate').reset_index()\n",
    "\n",
    "    result = result[['state', 'Republican', 'Democrat']]\n",
    "\n",
    "    result.columns = ['state', 'polling_avg_republican', 'polling_avg_democrat']\n",
    "\n",
    "    result['cycle'] = year\n",
    "    result['jkey'] = result['state'] + result['cycle'].astype(str)\n",
    "\n",
    "    ## Merge the two dataframes\n",
    "    result = pd.merge(result, temp[['polling_avg_republican2', 'polling_avg_democrat2', 'jkey']], on='jkey', how='outer')\n",
    "\n",
    "    ## Convert the 2 month polling average columns into polling change columns\n",
    "    result['polling_avg_republican2'] -= result['polling_avg_republican']\n",
    "    result['polling_avg_democrat2'] -= result['polling_avg_democrat']\n",
    "\n",
    "    result.columns = ['state', 'polling_avg_republican', 'polling_avg_democrat', 'cycle', 'jkey', 'month_change_republican', 'month_change_democrat']\n",
    "\n",
    "    # result.drop(['jkey', 'cycle'], axis=1, inplace=True)\n",
    "\n",
    "    ## Add the new dataframe onto the accumulator\n",
    "    if processed_data is None:\n",
    "        processed_data = result\n",
    "    else:\n",
    "        processed_data = pd.concat([processed_data, result], ignore_index=True).reset_index(drop=True)\n",
    "\n",
    "processed_data.fillna(0, inplace=True)\n",
    "processed_data.count()"
   ]
  },
  {
   "cell_type": "markdown",
   "metadata": {},
   "source": [
    "**Labeling Data**"
   ]
  },
  {
   "cell_type": "markdown",
   "metadata": {},
   "source": [
    "Now that we have the processed data, all that is left is for us to label the data since we will be using supervised learning.\n",
    "\n",
    "The data labeling will consist of a new column which will contain either Democrat or Republican, marking which party won that state in the given cycle."
   ]
  },
  {
   "cell_type": "markdown",
   "metadata": {},
   "source": [
    "1. First, add the merging key to the winning_parties dataframe to prepare for merging with the processed data"
   ]
  },
  {
   "cell_type": "code",
   "execution_count": 15,
   "metadata": {},
   "outputs": [],
   "source": [
    "winning_parties['jkey'] = winning_parties['state'].map(lambda e: e.lower()) + winning_parties['year'].astype(str)"
   ]
  },
  {
   "cell_type": "markdown",
   "metadata": {},
   "source": [
    "2. Ensure that the merging key will match properly, so convert all to lower case."
   ]
  },
  {
   "cell_type": "code",
   "execution_count": 16,
   "metadata": {},
   "outputs": [],
   "source": [
    "processed_data['jkey'] = processed_data['jkey'].map(lambda e: e.lower())"
   ]
  },
  {
   "cell_type": "markdown",
   "metadata": {},
   "source": [
    "3. Merge the two dataframes so that the data is all labeled, except for the 2024 data, which will need to be filled in manually.\n",
    "\n",
    "**Make sure to check for NaN values, especially due to the Maine and Nebraska splitting their electoral votes.**"
   ]
  },
  {
   "cell_type": "code",
   "execution_count": 17,
   "metadata": {},
   "outputs": [],
   "source": [
    "# result = pd.merge(result, temp[['polling_avg_republican2', 'polling_avg_democrat2', 'jkey']], on='jkey', how='outer')\n",
    "processed_data = pd.merge(processed_data, winning_parties[['party_detailed', 'jkey']], on='jkey', how='left')"
   ]
  },
  {
   "cell_type": "code",
   "execution_count": 18,
   "metadata": {},
   "outputs": [
    {
     "data": {
      "text/plain": [
       "state                      316\n",
       "polling_avg_republican     316\n",
       "polling_avg_democrat       316\n",
       "cycle                      316\n",
       "jkey                       316\n",
       "month_change_republican    316\n",
       "month_change_democrat      316\n",
       "winning_party              248\n",
       "dtype: int64"
      ]
     },
     "execution_count": 18,
     "metadata": {},
     "output_type": "execute_result"
    }
   ],
   "source": [
    "processed_data.rename(columns={'party_detailed': 'winning_party'}, inplace=True)\n",
    "processed_data.count()"
   ]
  },
  {
   "cell_type": "code",
   "execution_count": 19,
   "metadata": {},
   "outputs": [
    {
     "data": {
      "text/plain": [
       "state                      55\n",
       "polling_avg_republican     55\n",
       "polling_avg_democrat       55\n",
       "cycle                      55\n",
       "jkey                       55\n",
       "month_change_republican    55\n",
       "month_change_democrat      55\n",
       "winning_party               0\n",
       "dtype: int64"
      ]
     },
     "execution_count": 19,
     "metadata": {},
     "output_type": "execute_result"
    }
   ],
   "source": [
    "processed_data[processed_data['cycle'] == 2024].count()"
   ]
  },
  {
   "cell_type": "markdown",
   "metadata": {},
   "source": [
    "There it is, there are 52 entries from the 2024 cycle which are expected to not have labels, yet 65 rows are missing a winning_party label."
   ]
  },
  {
   "cell_type": "markdown",
   "metadata": {},
   "source": [
    "4. We need to fix some of that missing data, unfortunately this will need to be done manually."
   ]
  },
  {
   "cell_type": "markdown",
   "metadata": {},
   "source": [
    "Get the merge keys for the missing values that are not from 2024. Any 2024 cycle row is expected to not have a label because the official results are not out yet and thus aren't in any dataset."
   ]
  },
  {
   "cell_type": "code",
   "execution_count": 20,
   "metadata": {},
   "outputs": [
    {
     "data": {
      "text/plain": [
       "['me-12020',\n",
       " 'me-22020',\n",
       " 'ne-22020',\n",
       " 'me-12016',\n",
       " 'me-22016',\n",
       " 'ne-12016',\n",
       " 'ne-22016',\n",
       " 'ne-32016',\n",
       " 'me-12012',\n",
       " 'me-22012',\n",
       " 'ne-12012',\n",
       " 'ne-22012',\n",
       " 'ne-32012']"
      ]
     },
     "execution_count": 20,
     "metadata": {},
     "output_type": "execute_result"
    }
   ],
   "source": [
    "missing_jkeys = processed_data[(processed_data['winning_party'].isna()) & (processed_data['cycle'] != 2024)]['jkey'].to_list()\n",
    "missing_jkeys"
   ]
  },
  {
   "cell_type": "code",
   "execution_count": 21,
   "metadata": {},
   "outputs": [
    {
     "data": {
      "text/html": [
       "<div>\n",
       "<style scoped>\n",
       "    .dataframe tbody tr th:only-of-type {\n",
       "        vertical-align: middle;\n",
       "    }\n",
       "\n",
       "    .dataframe tbody tr th {\n",
       "        vertical-align: top;\n",
       "    }\n",
       "\n",
       "    .dataframe thead th {\n",
       "        text-align: right;\n",
       "    }\n",
       "</style>\n",
       "<table border=\"1\" class=\"dataframe\">\n",
       "  <thead>\n",
       "    <tr style=\"text-align: right;\">\n",
       "      <th></th>\n",
       "      <th>state</th>\n",
       "      <th>cycle</th>\n",
       "    </tr>\n",
       "  </thead>\n",
       "  <tbody>\n",
       "    <tr>\n",
       "      <th>74</th>\n",
       "      <td>ME-1</td>\n",
       "      <td>2020</td>\n",
       "    </tr>\n",
       "    <tr>\n",
       "      <th>75</th>\n",
       "      <td>ME-2</td>\n",
       "      <td>2020</td>\n",
       "    </tr>\n",
       "    <tr>\n",
       "      <th>84</th>\n",
       "      <td>NE-2</td>\n",
       "      <td>2020</td>\n",
       "    </tr>\n",
       "    <tr>\n",
       "      <th>128</th>\n",
       "      <td>ME-1</td>\n",
       "      <td>2016</td>\n",
       "    </tr>\n",
       "    <tr>\n",
       "      <th>129</th>\n",
       "      <td>ME-2</td>\n",
       "      <td>2016</td>\n",
       "    </tr>\n",
       "    <tr>\n",
       "      <th>138</th>\n",
       "      <td>NE-1</td>\n",
       "      <td>2016</td>\n",
       "    </tr>\n",
       "    <tr>\n",
       "      <th>139</th>\n",
       "      <td>NE-2</td>\n",
       "      <td>2016</td>\n",
       "    </tr>\n",
       "    <tr>\n",
       "      <th>140</th>\n",
       "      <td>NE-3</td>\n",
       "      <td>2016</td>\n",
       "    </tr>\n",
       "    <tr>\n",
       "      <th>182</th>\n",
       "      <td>ME-1</td>\n",
       "      <td>2012</td>\n",
       "    </tr>\n",
       "    <tr>\n",
       "      <th>183</th>\n",
       "      <td>ME-2</td>\n",
       "      <td>2012</td>\n",
       "    </tr>\n",
       "    <tr>\n",
       "      <th>191</th>\n",
       "      <td>NE-1</td>\n",
       "      <td>2012</td>\n",
       "    </tr>\n",
       "    <tr>\n",
       "      <th>192</th>\n",
       "      <td>NE-2</td>\n",
       "      <td>2012</td>\n",
       "    </tr>\n",
       "    <tr>\n",
       "      <th>193</th>\n",
       "      <td>NE-3</td>\n",
       "      <td>2012</td>\n",
       "    </tr>\n",
       "  </tbody>\n",
       "</table>\n",
       "</div>"
      ],
      "text/plain": [
       "    state  cycle\n",
       "74   ME-1   2020\n",
       "75   ME-2   2020\n",
       "84   NE-2   2020\n",
       "128  ME-1   2016\n",
       "129  ME-2   2016\n",
       "138  NE-1   2016\n",
       "139  NE-2   2016\n",
       "140  NE-3   2016\n",
       "182  ME-1   2012\n",
       "183  ME-2   2012\n",
       "191  NE-1   2012\n",
       "192  NE-2   2012\n",
       "193  NE-3   2012"
      ]
     },
     "execution_count": 21,
     "metadata": {},
     "output_type": "execute_result"
    }
   ],
   "source": [
    "processed_data[(processed_data['winning_party'].isna()) & (processed_data['cycle'] != 2024)][['state', 'cycle']]"
   ]
  },
  {
   "cell_type": "markdown",
   "metadata": {},
   "source": [
    "Create a dataframe with the missing data, using the jkey."
   ]
  },
  {
   "cell_type": "code",
   "execution_count": 22,
   "metadata": {},
   "outputs": [],
   "source": [
    "missing_data = {\n",
    "    'jkey': missing_jkeys,\n",
    "    'winning_party': [\n",
    "        'Democrat',\n",
    "        'Republican',\n",
    "        'Democrat',\n",
    "        'Democrat',\n",
    "        'Republican',\n",
    "        'Republican',\n",
    "        'Republican',\n",
    "        'Republican',\n",
    "        'Democrat',\n",
    "        'Democrat',\n",
    "        'Republican',\n",
    "        'Republican',\n",
    "        'Republican'\n",
    "    ]\n",
    "}"
   ]
  },
  {
   "cell_type": "markdown",
   "metadata": {},
   "source": [
    "Now merge it with the dataset"
   ]
  },
  {
   "cell_type": "code",
   "execution_count": 23,
   "metadata": {},
   "outputs": [],
   "source": [
    "for key in missing_data['jkey']:\n",
    "    processed_data.loc[processed_data['jkey'] == key, 'winning_party'] = missing_data['winning_party'][missing_data['jkey'].index(key)]"
   ]
  },
  {
   "cell_type": "markdown",
   "metadata": {},
   "source": [
    "Check that it worked. It did, only 52 entries are missing labels. This is expected."
   ]
  },
  {
   "cell_type": "code",
   "execution_count": 24,
   "metadata": {},
   "outputs": [
    {
     "data": {
      "text/plain": [
       "state                      316\n",
       "polling_avg_republican     316\n",
       "polling_avg_democrat       316\n",
       "cycle                      316\n",
       "jkey                       316\n",
       "month_change_republican    316\n",
       "month_change_democrat      316\n",
       "winning_party              261\n",
       "dtype: int64"
      ]
     },
     "execution_count": 24,
     "metadata": {},
     "output_type": "execute_result"
    }
   ],
   "source": [
    "processed_data.count()"
   ]
  },
  {
   "cell_type": "markdown",
   "metadata": {},
   "source": [
    "**Final Fixups**"
   ]
  },
  {
   "cell_type": "markdown",
   "metadata": {},
   "source": [
    "Time to add the labels for 2024, unfortunately this must be done manually since the 2024 results aren't available in any dataset yet."
   ]
  },
  {
   "cell_type": "code",
   "execution_count": 25,
   "metadata": {},
   "outputs": [],
   "source": [
    "election_results = {\n",
    "    \"Alabama\": \"Republican\",\n",
    "    \"Alaska\": \"Republican\",\n",
    "    \"Arizona\": \"Republican\",\n",
    "    \"Arkansas\": \"Republican\",\n",
    "    \"California\": \"Democrat\",\n",
    "    \"Colorado\": \"Democrat\",\n",
    "    \"Connecticut\": \"Democrat\",\n",
    "    \"Delaware\": \"Democrat\",\n",
    "    \"Florida\": \"Republican\",\n",
    "    \"Georgia\": \"Republican\",\n",
    "    \"Hawaii\": \"Democrat\",\n",
    "    \"Idaho\": \"Republican\",\n",
    "    \"Illinois\": \"Democrat\",\n",
    "    \"Indiana\": \"Republican\",\n",
    "    \"Iowa\": \"Republican\",\n",
    "    \"Kansas\": \"Republican\",\n",
    "    \"Kentucky\": \"Republican\",\n",
    "    \"Louisiana\": \"Republican\",\n",
    "    \"Maine\": \"Democrat\",\n",
    "    \"ME-1\": \"Democrat\", \n",
    "    \"ME-2\": \"Republican\",\n",
    "    \"Maryland\": \"Democrat\",\n",
    "    \"Massachusetts\": \"Democrat\",\n",
    "    \"Michigan\": \"Republican\",\n",
    "    \"Minnesota\": \"Democrat\",\n",
    "    \"Mississippi\": \"Republican\",\n",
    "    \"Missouri\": \"Republican\",\n",
    "    \"Montana\": \"Republican\",\n",
    "    \"Nebraska\": \"Republican\", \n",
    "    \"NE-1\": \"Republican\", \n",
    "    \"NE-2\": \"Democrat\", \n",
    "    \"NE-3\": \"Republican\",\n",
    "    \"Nevada\": \"Republican\",\n",
    "    \"New Hampshire\": \"Democrat\",\n",
    "    \"New Jersey\": \"Democrat\",\n",
    "    \"New Mexico\": \"Democrat\",\n",
    "    \"New York\": \"Democrat\",\n",
    "    \"North Carolina\": \"Republican\",\n",
    "    \"North Dakota\": \"Republican\",\n",
    "    \"Ohio\": \"Republican\",\n",
    "    \"Oklahoma\": \"Republican\",\n",
    "    \"Oregon\": \"Democrat\",\n",
    "    \"Pennsylvania\": \"Republican\",\n",
    "    \"Rhode Island\": \"Democrat\",\n",
    "    \"South Carolina\": \"Republican\",\n",
    "    \"South Dakota\": \"Republican\",\n",
    "    \"Tennessee\": \"Republican\",\n",
    "    \"Texas\": \"Republican\",\n",
    "    \"Utah\": \"Republican\",\n",
    "    \"Vermont\": \"Democrat\",\n",
    "    \"Virginia\": \"Democrat\",\n",
    "    \"Washington\": \"Democrat\",\n",
    "    \"West Virginia\": \"Republican\",\n",
    "    \"Wisconsin\": \"Republican\",\n",
    "    \"Wyoming\": \"Republican\",\n",
    "    \"District of Columbia\": \"Democrat\"\n",
    "}"
   ]
  },
  {
   "cell_type": "code",
   "execution_count": 26,
   "metadata": {},
   "outputs": [
    {
     "name": "stdout",
     "output_type": "stream",
     "text": [
      "District of Columbia\n"
     ]
    }
   ],
   "source": [
    "for v in sorted(election_results.keys()):\n",
    "    if v not in list(processed_data[processed_data['cycle'] == 2024]['state'].unique()):\n",
    "        print(v)"
   ]
  },
  {
   "cell_type": "markdown",
   "metadata": {},
   "source": [
    "Apply those results to the combined dataframe"
   ]
  },
  {
   "cell_type": "code",
   "execution_count": 27,
   "metadata": {},
   "outputs": [],
   "source": [
    "for key in election_results.keys():\n",
    "    if key != \"District of Columbia\":\n",
    "        processed_data.loc[(processed_data['state'] == key) & (processed_data['cycle'] == 2024), 'winning_party'] = election_results[key]\n",
    "## Minnesota has a special name for the Democratic Party, need to fix it\n",
    "processed_data['winning_party'] = processed_data['winning_party'].map(lambda e : 'Democrat' if e == 'DEMOCRATIC-FARMER-LABOR' else e)\n",
    "\n",
    "## Case is not consistent with this column\n",
    "processed_data['winning_party'] = processed_data['winning_party'].map(lambda e: e.upper())"
   ]
  },
  {
   "cell_type": "markdown",
   "metadata": {},
   "source": [
    "Give it one final check with count"
   ]
  },
  {
   "cell_type": "code",
   "execution_count": 28,
   "metadata": {},
   "outputs": [
    {
     "data": {
      "text/plain": [
       "state                      316\n",
       "polling_avg_republican     316\n",
       "polling_avg_democrat       316\n",
       "cycle                      316\n",
       "jkey                       316\n",
       "month_change_republican    316\n",
       "month_change_democrat      316\n",
       "winning_party              316\n",
       "dtype: int64"
      ]
     },
     "execution_count": 28,
     "metadata": {},
     "output_type": "execute_result"
    }
   ],
   "source": [
    "processed_data.count()"
   ]
  },
  {
   "cell_type": "markdown",
   "metadata": {},
   "source": [
    "**And nothing is missing, meaning, that we are done with processing the polling data.**"
   ]
  },
  {
   "cell_type": "markdown",
   "metadata": {},
   "source": [
    "# **Spending data Preprocessing**\n",
    "\n",
    "In this section I will process the data from the FEC to get the total amount spent by each presidential candidate in each state for the 2008, 2012, 2016, 2020, and 2024 elctions. \n",
    "\n",
    "Raw data is from here: https://www.fec.gov/data/candidates/president/presidential-map/ \n",
    "To get the data yourself, use the dropdown menu to select the electin year, open the tab on the side of the map for spending, and click \"Export spending data\". \n",
    "The files do not have labeled names so you need to label them accordingly, we have followed the pattern \"spending_data_{year}.csv\". "
   ]
  },
  {
   "cell_type": "markdown",
   "metadata": {},
   "source": [
    "Import spending data of presidential candidates for the 2008, 2012, 2016, 2020, and 2024 elctions. "
   ]
  },
  {
   "cell_type": "code",
   "execution_count": 29,
   "metadata": {},
   "outputs": [],
   "source": [
    "years = ['2008', '2012', '2016', '2020', '2024']\n",
    "spending_dfs = dict()\n",
    "state_sums = dict()\n",
    "for year in years:\n",
    "    spending_dfs[year] = pd.read_csv(f\"spending_data_{year}.csv\", index_col=False, low_memory=False)\n",
    "    # state_sums[year] = spending_dfs[year].groupby('recipient_st').sum('disb_amt').sort_values('disb_amt')\n",
    "\n",
    "# spending_24_df = pd.read_csv(\"spending_data_2024.csv\", index_col=False, low_memory=False)\n",
    "# spending_24_df.groupby('recipient_st').sum('disb_amt').sort_values('disb_amt')\n",
    "# spending_24_df.head()\n",
    "# spending_dfs\n",
    "# state_sums['2024']"
   ]
  },
  {
   "cell_type": "markdown",
   "metadata": {},
   "source": [
    "Upon inspection some states have been labeled wrong. For example some rows have C, since they occur in san francisco we can assume this should be CA. \n",
    "\n",
    "For each year I have a comment labeling which abbreviations need to be replaced, for example in 2008 'AA' needs to be replaced by 'MA'. \n",
    "\n",
    "Most were done with a simple dictionary replace, but in 2024 some bad labels were for different states, for example zip codes in Iowa and Indiana were both labled 'I', so these require extra attention to replace them by zip code. \n",
    "\n",
    "Then once all errors are corrected we remove all rows where the recipient state is not one of the 50 US states or DC, for example some transactions are labled as \"UK\" which isn't useful for our analysis. "
   ]
  },
  {
   "cell_type": "code",
   "execution_count": 30,
   "metadata": {},
   "outputs": [],
   "source": [
    "# correct 2008 states \n",
    "spending_dfs['2008']['recipient_st']= spending_dfs['2008']['recipient_st'].replace({'AA': 'MA', 'C': 'CA', 'I': 'IA', 'II': 'IL', 'K': 'KS', 'KA': 'KS' , 'N': 'NC', 'VW': 'WV', '46': 'IN', 'MY': 'MT', 'OA': 'PA', 'T': 'TX', 'WW': 'WA'})\n",
    "\n",
    "# AA = MA\n",
    "# C = CA\n",
    "# I = IA\n",
    "# II = IL\n",
    "# K = KS\n",
    "# KA = KS \n",
    "# N = NC\n",
    "# VW = WV\n",
    "# 46 = IN\n",
    "# MY = MT\n",
    "# OA = PA\n",
    "# T = TX\n",
    "# WW = WA\n",
    "\n",
    "\n",
    "# correct 2012 states \n",
    "spending_dfs['2012']['recipient_st']= spending_dfs['2012']['recipient_st'].replace({'D.': 'DC', 'MY': 'NY', 'HA': 'HI', 'MH': 'NH', 'HN': 'NH'})\n",
    "\n",
    "# \"D.\" = \"DC\"\n",
    "# MY = NY\n",
    "# HA = HI\n",
    "# MH = NH\n",
    "# HN = HN\n",
    "\n",
    "# correct 2016 states \n",
    "spending_dfs['2016']['recipient_st']= spending_dfs['2016']['recipient_st'].replace({'D.': 'DC', 'MY': 'NY', 'HA': 'HI', 'MH': 'NH', 'HN': 'NH'})\n",
    "\n",
    "# NB = NE\n",
    "# D. = DC\n",
    "\n",
    "\n",
    "# correct 2020 states \n",
    "# none\n",
    "\n",
    "\n",
    "# correct 2024 states \n",
    "spending_dfs['2024']['recipient_st']= spending_dfs['2024']['recipient_st'].replace({'C': 'CA', 'AA': 'CA', 'F': 'FL', 'G': 'GA', 'T': 'TX'})\n",
    "spending_dfs['2024'].loc[spending_dfs['2024']['recipient_zip'] == '46038', 'recipient_st'] = 'IN'\n",
    "spending_dfs['2024']['recipient_st'] = spending_dfs['2024']['recipient_st'].replace('I', 'IA')\n",
    "spending_dfs['2024'].loc[spending_dfs['2024']['recipient_zip'] == '03276', 'recipient_st'] = 'NH'\n",
    "spending_dfs['2024'].loc[spending_dfs['2024']['recipient_zip'] == '03063', 'recipient_st'] = 'NH'\n",
    "spending_dfs['2024']['recipient_st'] = spending_dfs['2024']['recipient_st'].replace('N', 'NY')\n",
    "spending_dfs['2024'].loc[spending_dfs['2024']['recipient_zip'] == '19802', 'recipient_st'] = 'NJ'\n",
    "\n",
    "# C = CA,\n",
    "# AA = CA\n",
    "# F = FL\n",
    "# G = GA\n",
    "# T = TX\n",
    "# I = IN or IA\n",
    "# N = NH or NY\n",
    "\n",
    "\n",
    "states = [\n",
    "        'AL', 'AR', 'AZ', 'CA', 'CO', 'CT', 'DC', 'FL', 'GA', 'IA', \n",
    "        'IL', 'IN', 'LA', 'MA', 'MD', 'ME', 'MN', 'MO', 'NC', 'NE', \n",
    "        'NH', 'NJ', 'NY', 'OK', 'PA', 'SC', 'TN', 'TX', 'VA', 'SD',\n",
    "        'WA', 'WI', 'WY', 'OH', 'WV', 'AK', 'DE', 'HI', 'ID', 'KS', \n",
    "        'KY', 'MI', 'MS', 'MT', 'ND', 'NM', 'NV', 'OR', 'RI', 'UT', \n",
    "        'VT'\n",
    "        ]\n",
    "\n",
    "# remove transactions not in the 50 states or DC\n",
    "for year in spending_dfs:\n",
    "    spending_dfs[year] = spending_dfs[year][spending_dfs[year]['recipient_st'].isin(states)]\n"
   ]
  },
  {
   "cell_type": "markdown",
   "metadata": {},
   "source": [
    "Next we want to remove the candidates that aren't either the Democratic or Republican nominee, while other candidates exist they don't receive a significant amount of votes. This will leave us with a dataframe per candidate per election year, so 10 in total. "
   ]
  },
  {
   "cell_type": "code",
   "execution_count": 31,
   "metadata": {},
   "outputs": [],
   "source": [
    "party_spending_dfs = {}\n",
    "\n",
    "# 2008\n",
    "# Republican: 'McCain, John S'\n",
    "# Dem : 'Obama, Barack'\n",
    "# spending_dfs['2008'] = spending_dfs['2024'][spending_dfs['2024']['cand_nm'].isin(['McCain, John S', 'Obama, Barack'])]\n",
    "party_spending_dfs['2008_R'] = spending_dfs['2008'][spending_dfs['2008']['cand_nm'] == 'McCain, John S']\n",
    "party_spending_dfs['2008_D'] = spending_dfs['2008'][spending_dfs['2008']['cand_nm'] == 'Obama, Barack']\n",
    "\n",
    "# 2012\n",
    "# Rep: 'Romney, Mitt'\n",
    "# Dem: 'Obama, Barack'\n",
    "# spending_dfs['2012'] = spending_dfs['2024'][spending_dfs['2024']['cand_nm'].isin(['Romney, Mitt', 'Obama, Barack'])]\n",
    "party_spending_dfs['2012_R'] = spending_dfs['2012'][spending_dfs['2012']['cand_nm'] == 'Romney, Mitt']\n",
    "party_spending_dfs['2012_D'] = spending_dfs['2012'][spending_dfs['2012']['cand_nm'] == 'Obama, Barack']\n",
    "\n",
    "# 2016\n",
    "# Rep: 'Trump, Donald J.'\n",
    "# Dem: 'Clinton, Hillary Rodham'\n",
    "# spending_dfs['2016'] = spending_dfs['2024'][spending_dfs['2024']['cand_nm'].isin(['Trump, Donald J.', 'Clinton, Hillary Rodham'])]\n",
    "party_spending_dfs['2016_R'] = spending_dfs['2016'][spending_dfs['2016']['cand_nm'] == 'Trump, Donald J.']\n",
    "party_spending_dfs['2016_D'] = spending_dfs['2016'][spending_dfs['2016']['cand_nm'] == 'Clinton, Hillary Rodham']\n",
    "\n",
    "# 2020\n",
    "# Rep: 'Trump, Donald J.'\n",
    "# Dem: 'Biden, Joseph R Jr'\n",
    "# spending_dfs['2020'] = spending_dfs['2024'][spending_dfs['2024']['cand_nm'].isin(['Trump, Donald J.', 'Biden, Joseph R Jr'])]\n",
    "party_spending_dfs['2020_R'] = spending_dfs['2020'][spending_dfs['2020']['cand_nm'] == 'Trump, Donald J.']\n",
    "party_spending_dfs['2020_D'] = spending_dfs['2020'][spending_dfs['2020']['cand_nm'] == 'Biden, Joseph R Jr']\n",
    "\n",
    "# 2024\n",
    "# Rep: 'Trump, Donald J.'\n",
    "# Dem: 'Harris, Kamala' \n",
    "# spending_dfs['2024'] = spending_dfs['2024'][spending_dfs['2024']['cand_nm'].isin(['Trump, Donald J.', 'Harris, Kamala'])]\n",
    "party_spending_dfs['2024_R'] = spending_dfs['2024'][spending_dfs['2024']['cand_nm'] == 'Trump, Donald J.']\n",
    "party_spending_dfs['2024_D'] = spending_dfs['2024'][spending_dfs['2024']['cand_nm'] == 'Harris, Kamala']\n"
   ]
  },
  {
   "cell_type": "markdown",
   "metadata": {},
   "source": [
    "Nebraska and Maine split their electoral votes, 1 vote goes to the popular winner in each congressional district while 2 votes go to the popular winner of the whole state. So we will duplicate spending in Nebraska and Maine to count towards the overall state and the district it happened in, since later these will be predicted seperatley. "
   ]
  },
  {
   "cell_type": "code",
   "execution_count": 32,
   "metadata": {},
   "outputs": [
    {
     "name": "stdout",
     "output_type": "stream",
     "text": [
      "2008_R ['OMAHA' 'NORFOLK' 'SOUTH SIOUX CITY']\n",
      "2008_D ['ELM CREEK' 'OMAHA' 'YORK' 'NORTH PLATTE' '800-2289872' 'S. SIOUX CITY'\n",
      " 'LINCOLN' 'SEWARD' 'KIMBALL' 'GRAND ISLAND' 'WACO' 'AURORA' 'KEARNEY'\n",
      " 'SUTHERLAND' 'N. PLATTE' 'OGALLALA' 'NEW YORK' 'SIDNEY' 'NORFOLK'\n",
      " 'LEXINGTON' 'COZAD' 'GERING' 'SOUTH SIOUX CITY' 'WINNEBAGO' 'LA VISTA'\n",
      " 'MCCOOK' 'SUITE 270']\n",
      "2008_R ['GRAY' 'S PORTLAND' 'AUGUSTA' 'SOUTH PORTLAND' 'PORTLAND' 'SCARBOROUGH'\n",
      " 'KENNEBUNKPORT' 'BREWER' 'BANGOR' 'PRESQUE ISLE' 'ORONO' 'AUBURN'\n",
      " 'PALMYRA' 'CORRINA']\n",
      "2008_D ['SCARBOROUGH' 'CAPE ELIZABETH' 'BIDDEFORD' 'PORTLAND' 'BRUNSWICK'\n",
      " 'CHINA VILLAGE' 'KITTERY' 'WINTHROP' 'BELFAST' 'ORONO' 'LEWISTON'\n",
      " 'CAPE NEDDICK' 'WATERVILLE' 'AUGUSTA' 'BANGOR' 'SACO' 'SOUTH PORTLAND'\n",
      " 'KENNEBUNK' 'WOOLWICH' 'CAMDEN' 'HAMPTDEN' 'LINCOLN' 'PRESQUE ISLE']\n"
     ]
    }
   ],
   "source": [
    "# for year, df in party_spending_dfs.items():\n",
    "#     print(year, df[df['recipient_st'].isin(['NE', 'ME'])]['recipient_city'].unique())\n",
    "\n",
    "year = '2008'\n",
    "print(f'{year}_R', party_spending_dfs[f'{year}_R'][party_spending_dfs[f'{year}_R']['recipient_st'] == 'NE']['recipient_city'].unique())\n",
    "print(f'{year}_D', party_spending_dfs[f'{year}_D'][party_spending_dfs[f'{year}_D']['recipient_st'] == 'NE']['recipient_city'].unique())\n",
    "\n",
    "print(f'{year}_R', party_spending_dfs[f'{year}_R'][party_spending_dfs[f'{year}_R']['recipient_st'] == 'ME']['recipient_city'].unique())\n",
    "print(f'{year}_D', party_spending_dfs[f'{year}_D'][party_spending_dfs[f'{year}_D']['recipient_st'] == 'ME']['recipient_city'].unique())\n"
   ]
  },
  {
   "cell_type": "code",
   "execution_count": 33,
   "metadata": {},
   "outputs": [],
   "source": [
    "# 2008 \n",
    "NE_1_2008 = ['NORFOLK', 'SOUTH SIOUX CITY', 'S. SIOUX CITY', 'SEWARD', 'NORFOLK', 'WINNEBAGO', 'LINCOLN']\n",
    "NE_2_2008 = ['OMAHA', '800-2289872', 'NEW YORK', 'LA VISTA', 'SUITE 270']\n",
    "NE_3_2008 = ['ELM CREEK', 'YORK', 'NORTH PLATTE', 'KIMBALL', 'GRAND ISLAND', 'WACO', 'AURORA','KEARNEY', \n",
    "             'SUTHERLAND', 'N. PLATTE', 'OGALLALA', 'SIDNEY', 'LEXINGTON', 'COZAD', 'GERING', 'MCCOOK']\n",
    "\n",
    "ME_1_2008 = ['GRAY', 'S PORTLAND', 'AUGUSTA', 'SOUTH PORTLAND', 'PORTLAND', 'SCARBOROUGH', 'KENNEBUNKPORT', \n",
    "             'CAPE ELIZABETH', 'BIDDEFORD', 'BRUNSWICK', 'CHINA VILLAGE', 'KITTERY', 'WINTHROP', 'LEWISTON', \n",
    "             'CAPE NEDDICK', 'SACO', 'KENNEBUNK', 'WOOLWICH', 'CAMDEN']\n",
    "ME_2_2008 = ['BREWER', 'BANGOR', 'PRESQUE ISLE', 'ORONO', 'AUBURN', 'PALMYRA', 'CORRINA', 'BELFAST',\n",
    "             'WATERVILLE', 'HAMPTDEN']\n",
    "\n",
    "# 2012\n",
    "# Nebraksa used the same districts from 2003-2013\n",
    "NE_1_2012 = ['SOUTH SIOUX CITY', 'LINCOLN']\n",
    "NE_2_2012 = ['OMAHA', 'LAVISTA', 'BELLEVUE']\n",
    "NE_3_2012 = ['GRAND ISLAND']\n",
    "\n",
    "# Maine used the same districts from 2003-2013\n",
    "ME_1_2012 = ['S. PORTLAND', 'AUGUSTA', 'SOUTH PORTLAND', 'PORTLAND', 'SCARBOROUGH', 'LEWISTON', \n",
    "             'KENNEBUNK', 'FREEPORT', 'WESTBROOK', 'FARMINGDALE', 'WATERVILLE', 'RICHMOND']\n",
    "ME_2_2012 = ['BREWER', 'BETHEL', 'OXFORD', 'MACHIAS', 'HAMPDEN']\n",
    "\n",
    "# 2016 \n",
    "NE_1_2016 = [' LINCOLN', 'LINCOLN']\n",
    "NE_2_2016 = ['OMAHA']\n",
    "NE_3_2016 = ['SOUTH SIOUX CITY', 'HASTINGS']\n",
    "\n",
    "ME_1_2016 = ['BIDDEFORD', 'RICHMOND', 'SCARBOROUGH', 'PORTLAND', 'SOUTH PORTLAND', 'AUGUSTA', 'SACO',\n",
    "             'BATH', 'ROCKPORT', 'FALMOUTH', 'WELLS', 'LISBON', 'ROCKLAND']\n",
    "ME_2_2016 = ['BANGOR', 'BELFAST', 'LEWISTON', 'ELLSWORTH']\n",
    "\n",
    "# 2020 \n",
    "NE_1_2020 = []\n",
    "NE_2_2020 = ['OMAHA', 'PAPILLION']\n",
    "NE_3_2020 = ['KEARNEY']\n",
    "\n",
    "ME_1_2020 = ['AUGUSTA', 'PORTLAND', 'SACO', 'SCARBOROUGH', 'OLD ORCHARD BEACH', 'CAMDEN', 'BATH']\n",
    "ME_2_2020 = ['LEWSITON', 'LEWISTON', 'BANGOR', 'PALMYRA', 'HERMON', 'ORRINGTON', 'NORTH ANSON', 'MACHIAS', \n",
    "             'HOLDEN', 'SOUTH PARIS', 'BAR HARBOR', 'ELLSWORTH', 'PRESQUE ISLE', 'SOUTHWEST HARBOR',\n",
    "             'ELLSWORTH', 'STONINGTON', 'BREWER', 'FORT FAIRFIELD']\n",
    "\n",
    "# 2024\n",
    "NE_1_2024 = []\n",
    "NE_2_2024 = ['OMAHA', 'BOYS TOWN']\n",
    "NE_3_2024 = ['HASTINGS']\n",
    "\n",
    "ME_1_2024 = ['SCARBOROUGH', 'LEBANON', 'PORTLAND', 'YORK BEACH']\n",
    "ME_2_2024 = ['BANGOR']\n",
    "\n"
   ]
  },
  {
   "cell_type": "markdown",
   "metadata": {},
   "source": [
    "Now that locations are separated by district we can add the new values"
   ]
  },
  {
   "cell_type": "code",
   "execution_count": 34,
   "metadata": {},
   "outputs": [],
   "source": [
    "# R_2008\n",
    "R_2008_NE_new = party_spending_dfs['2008_R'][party_spending_dfs['2008_R']['recipient_st'] == 'NE'].copy()\n",
    "R_2008_NE_new.loc[R_2008_NE_new['recipient_city'].isin(NE_1_2008), 'recipient_st'] = 'NE-1'\n",
    "R_2008_NE_new.loc[R_2008_NE_new['recipient_city'].isin(NE_2_2008), 'recipient_st'] = 'NE-2'\n",
    "R_2008_NE_new.loc[R_2008_NE_new['recipient_city'].isin(NE_3_2008), 'recipient_st'] = 'NE-3'\n",
    "# R_2008_NE_new = None \n",
    "\n",
    "R_2008_ME_new = party_spending_dfs['2008_R'][party_spending_dfs['2008_R']['recipient_st'] == 'ME'].copy()\n",
    "R_2008_ME_new.loc[R_2008_ME_new['recipient_city'].isin(ME_1_2008), 'recipient_st'] = 'ME-1'\n",
    "R_2008_ME_new.loc[R_2008_ME_new['recipient_city'].isin(ME_2_2008), 'recipient_st'] = 'ME-2'\n",
    "# R_2008_ME_new = None\n",
    "\n",
    "# D_2008\n",
    "D_2008_NE_new = party_spending_dfs['2008_D'][party_spending_dfs['2008_D']['recipient_st'] == 'NE'].copy()\n",
    "D_2008_NE_new.loc[D_2008_NE_new['recipient_city'].isin(NE_1_2008), 'recipient_st'] = 'NE-1'\n",
    "D_2008_NE_new.loc[D_2008_NE_new['recipient_city'].isin(NE_2_2008), 'recipient_st'] = 'NE-2'\n",
    "D_2008_NE_new.loc[D_2008_NE_new['recipient_city'].isin(NE_3_2008), 'recipient_st'] = 'NE-3'\n",
    "# D_2008_NE_new = None\n",
    "\n",
    "D_2008_ME_new = party_spending_dfs['2008_D'][party_spending_dfs['2008_D']['recipient_st'] == 'ME'].copy()\n",
    "D_2008_ME_new.loc[D_2008_ME_new['recipient_city'].isin(ME_1_2008), 'recipient_st'] = 'ME-1'\n",
    "D_2008_ME_new.loc[D_2008_ME_new['recipient_city'].isin(ME_2_2008), 'recipient_st'] = 'ME-2'\n",
    "# D_2008_ME_new = None\n",
    "\n",
    "# R_2012\n",
    "R_2012_NE_new = party_spending_dfs['2012_R'][party_spending_dfs['2012_R']['recipient_st'] == 'NE'].copy()\n",
    "R_2012_NE_new.loc[R_2012_NE_new['recipient_city'].isin(NE_1_2012), 'recipient_st'] = 'NE-1'\n",
    "R_2012_NE_new.loc[R_2012_NE_new['recipient_city'].isin(NE_2_2012), 'recipient_st'] = 'NE-2'\n",
    "R_2012_NE_new.loc[R_2012_NE_new['recipient_city'].isin(NE_3_2012), 'recipient_st'] = 'NE-3'\n",
    "# R_2012_NE_new = None \n",
    "\n",
    "R_2012_ME_new = party_spending_dfs['2012_R'][party_spending_dfs['2012_R']['recipient_st'] == 'ME'].copy()\n",
    "R_2012_ME_new.loc[R_2012_ME_new['recipient_city'].isin(ME_1_2012), 'recipient_st'] = 'ME-1'\n",
    "R_2012_ME_new.loc[R_2012_ME_new['recipient_city'].isin(ME_2_2012), 'recipient_st'] = 'ME-2'\n",
    "# R_2012_ME_new = None\n",
    "\n",
    "# D_2012\n",
    "D_2012_NE_new = party_spending_dfs['2012_D'][party_spending_dfs['2012_D']['recipient_st'] == 'NE'].copy()\n",
    "D_2012_NE_new.loc[D_2012_NE_new['recipient_city'].isin(NE_1_2012), 'recipient_st'] = 'NE-1'\n",
    "D_2012_NE_new.loc[D_2012_NE_new['recipient_city'].isin(NE_2_2012), 'recipient_st'] = 'NE-2'\n",
    "D_2012_NE_new.loc[D_2012_NE_new['recipient_city'].isin(NE_3_2012), 'recipient_st'] = 'NE-3'\n",
    "# D_2012_NE_new = None\n",
    "\n",
    "D_2012_ME_new = party_spending_dfs['2012_D'][party_spending_dfs['2012_D']['recipient_st'] == 'ME'].copy()\n",
    "D_2012_ME_new.loc[D_2012_ME_new['recipient_city'].isin(ME_1_2012), 'recipient_st'] = 'ME-1'\n",
    "D_2012_ME_new.loc[D_2012_ME_new['recipient_city'].isin(ME_2_2012), 'recipient_st'] = 'ME-2'\n",
    "# D_2012_ME_new = None\n",
    "\n",
    "# R_2016\n",
    "R_2016_NE_new = party_spending_dfs['2016_R'][party_spending_dfs['2016_R']['recipient_st'] == 'NE'].copy()\n",
    "R_2016_NE_new.loc[R_2016_NE_new['recipient_city'].isin(NE_1_2016), 'recipient_st'] = 'NE-1'\n",
    "R_2016_NE_new.loc[R_2016_NE_new['recipient_city'].isin(NE_2_2016), 'recipient_st'] = 'NE-2'\n",
    "R_2016_NE_new.loc[R_2016_NE_new['recipient_city'].isin(NE_3_2016), 'recipient_st'] = 'NE-3'\n",
    "# R_2016_NE_new = None \n",
    "\n",
    "R_2016_ME_new = party_spending_dfs['2016_R'][party_spending_dfs['2016_R']['recipient_st'] == 'ME'].copy()\n",
    "R_2016_ME_new.loc[R_2016_ME_new['recipient_city'].isin(ME_1_2016), 'recipient_st'] = 'ME-1'\n",
    "R_2016_ME_new.loc[R_2016_ME_new['recipient_city'].isin(ME_2_2016), 'recipient_st'] = 'ME-2'\n",
    "# R_2016_ME_new = None\n",
    "\n",
    "# D_2016\n",
    "D_2016_NE_new = party_spending_dfs['2016_D'][party_spending_dfs['2016_D']['recipient_st'] == 'NE'].copy()\n",
    "D_2016_NE_new.loc[D_2016_NE_new['recipient_city'].isin(NE_1_2016), 'recipient_st'] = 'NE-1'\n",
    "D_2016_NE_new.loc[D_2016_NE_new['recipient_city'].isin(NE_2_2016), 'recipient_st'] = 'NE-2'\n",
    "D_2016_NE_new.loc[D_2016_NE_new['recipient_city'].isin(NE_3_2016), 'recipient_st'] = 'NE-3'\n",
    "# D_2016_NE_new = None\n",
    "\n",
    "D_2016_ME_new = party_spending_dfs['2016_D'][party_spending_dfs['2016_D']['recipient_st'] == 'ME'].copy()\n",
    "D_2016_ME_new.loc[D_2016_ME_new['recipient_city'].isin(ME_1_2016), 'recipient_st'] = 'ME-1'\n",
    "D_2016_ME_new.loc[D_2016_ME_new['recipient_city'].isin(ME_2_2016), 'recipient_st'] = 'ME-2'\n",
    "# D_2016_ME_new = None\n",
    "\n",
    "# R_2020\n",
    "R_2020_NE_new = party_spending_dfs['2020_R'][party_spending_dfs['2020_R']['recipient_st'] == 'NE'].copy()\n",
    "R_2020_NE_new.loc[R_2020_NE_new['recipient_city'].isin(NE_1_2020), 'recipient_st'] = 'NE-1'\n",
    "R_2020_NE_new.loc[R_2020_NE_new['recipient_city'].isin(NE_2_2020), 'recipient_st'] = 'NE-2'\n",
    "R_2020_NE_new.loc[R_2020_NE_new['recipient_city'].isin(NE_3_2020), 'recipient_st'] = 'NE-3'\n",
    "# R_2020_NE_new = None \n",
    "\n",
    "R_2020_ME_new = party_spending_dfs['2020_R'][party_spending_dfs['2020_R']['recipient_st'] == 'ME'].copy()\n",
    "R_2020_ME_new.loc[R_2020_ME_new['recipient_city'].isin(ME_1_2020), 'recipient_st'] = 'ME-1'\n",
    "R_2020_ME_new.loc[R_2020_ME_new['recipient_city'].isin(ME_2_2020), 'recipient_st'] = 'ME-2'\n",
    "# R_2020_ME_new = None\n",
    "\n",
    "# D_2020\n",
    "D_2020_NE_new = party_spending_dfs['2020_D'][party_spending_dfs['2020_D']['recipient_st'] == 'NE'].copy()\n",
    "D_2020_NE_new.loc[D_2020_NE_new['recipient_city'].isin(NE_1_2020), 'recipient_st'] = 'NE-1'\n",
    "D_2020_NE_new.loc[D_2020_NE_new['recipient_city'].isin(NE_2_2020), 'recipient_st'] = 'NE-2'\n",
    "D_2020_NE_new.loc[D_2020_NE_new['recipient_city'].isin(NE_3_2020), 'recipient_st'] = 'NE-3'\n",
    "# D_2024_NE_new = None\n",
    "\n",
    "D_2020_ME_new = party_spending_dfs['2020_D'][party_spending_dfs['2020_D']['recipient_st'] == 'ME'].copy()\n",
    "D_2020_ME_new.loc[D_2020_ME_new['recipient_city'].isin(ME_1_2020), 'recipient_st'] = 'ME-1'\n",
    "D_2020_ME_new.loc[D_2020_ME_new['recipient_city'].isin(ME_2_2020), 'recipient_st'] = 'ME-2'\n",
    "# D_2024_ME_new = None\n",
    "\n",
    "\n",
    "# R_2024\n",
    "R_2024_NE_new = party_spending_dfs['2024_R'][party_spending_dfs['2024_R']['recipient_st'] == 'NE'].copy()\n",
    "R_2024_NE_new.loc[R_2024_NE_new['recipient_city'].isin(NE_1_2024), 'recipient_st'] = 'NE-1'\n",
    "R_2024_NE_new.loc[R_2024_NE_new['recipient_city'].isin(NE_2_2024), 'recipient_st'] = 'NE-2'\n",
    "R_2024_NE_new.loc[R_2024_NE_new['recipient_city'].isin(NE_3_2024), 'recipient_st'] = 'NE-3'\n",
    "# R_2024_NE_new = None \n",
    "\n",
    "R_2024_ME_new = party_spending_dfs['2024_R'][party_spending_dfs['2024_R']['recipient_st'] == 'ME'].copy()\n",
    "R_2024_ME_new.loc[R_2024_ME_new['recipient_city'].isin(ME_1_2024), 'recipient_st'] = 'ME-1'\n",
    "R_2024_ME_new.loc[R_2024_ME_new['recipient_city'].isin(ME_2_2024), 'recipient_st'] = 'ME-2'\n",
    "# R_2024_ME_new = None\n",
    "\n",
    "# D_2024\n",
    "D_2024_NE_new = party_spending_dfs['2024_D'][party_spending_dfs['2024_D']['recipient_st'] == 'NE'].copy()\n",
    "D_2024_NE_new.loc[D_2024_NE_new['recipient_city'].isin(NE_1_2024), 'recipient_st'] = 'NE-1'\n",
    "D_2024_NE_new.loc[D_2024_NE_new['recipient_city'].isin(NE_2_2024), 'recipient_st'] = 'NE-2'\n",
    "D_2024_NE_new.loc[D_2024_NE_new['recipient_city'].isin(NE_3_2024), 'recipient_st'] = 'NE-3'\n",
    "# D_2024_NE_new = None\n",
    "\n",
    "D_2024_ME_new = party_spending_dfs['2024_D'][party_spending_dfs['2024_D']['recipient_st'] == 'ME'].copy()\n",
    "D_2024_ME_new.loc[D_2024_ME_new['recipient_city'].isin(ME_1_2024), 'recipient_st'] = 'ME-1'\n",
    "D_2024_ME_new.loc[D_2024_ME_new['recipient_city'].isin(ME_2_2024), 'recipient_st'] = 'ME-2'\n",
    "# D_2024_ME_new = None\n"
   ]
  },
  {
   "cell_type": "code",
   "execution_count": 35,
   "metadata": {},
   "outputs": [],
   "source": [
    "party_spending_dfs['2008_R'] = pd.concat([party_spending_dfs['2008_R'], R_2008_NE_new, R_2008_ME_new])\n",
    "party_spending_dfs['2012_R'] = pd.concat([party_spending_dfs['2012_R'], R_2012_NE_new, R_2012_ME_new])\n",
    "party_spending_dfs['2016_R'] = pd.concat([party_spending_dfs['2016_R'], R_2016_NE_new, R_2016_ME_new])\n",
    "party_spending_dfs['2020_R'] = pd.concat([party_spending_dfs['2020_R'], R_2020_NE_new, R_2020_ME_new])\n",
    "party_spending_dfs['2024_R'] = pd.concat([party_spending_dfs['2024_R'], R_2024_NE_new, R_2024_ME_new])\n",
    "\n",
    "party_spending_dfs['2008_D'] = pd.concat([party_spending_dfs['2008_D'], D_2008_NE_new, R_2008_ME_new])\n",
    "party_spending_dfs['2012_D'] = pd.concat([party_spending_dfs['2012_D'], D_2012_NE_new, R_2012_ME_new])\n",
    "party_spending_dfs['2016_D'] = pd.concat([party_spending_dfs['2016_D'], D_2016_NE_new, R_2016_ME_new])\n",
    "party_spending_dfs['2020_D'] = pd.concat([party_spending_dfs['2020_D'], D_2020_NE_new, R_2020_ME_new])\n",
    "party_spending_dfs['2024_D'] = pd.concat([party_spending_dfs['2024_D'], D_2024_NE_new, R_2024_ME_new])\n",
    "\n",
    "# party_spending_dfs['2008_R']['recipient_st'].unique()\n",
    "# for year,df in party_spending_dfs.items():\n",
    "#     print(year, len(df['recipient_st'].unique()))\n"
   ]
  },
  {
   "cell_type": "code",
   "execution_count": 36,
   "metadata": {},
   "outputs": [],
   "source": [
    "states.extend(['NE-1', 'NE-2', 'NE-3', 'ME-1', 'ME-2'])\n",
    "# states.sort()\n",
    "# states"
   ]
  },
  {
   "cell_type": "markdown",
   "metadata": {},
   "source": [
    "At the end we check to see if any states/DC are missing data, and see that several are missing entries. "
   ]
  },
  {
   "cell_type": "code",
   "execution_count": 37,
   "metadata": {},
   "outputs": [
    {
     "name": "stdout",
     "output_type": "stream",
     "text": [
      "2008_R 55 1\n",
      "2008_D 56 0\n",
      "2012_R 56 0\n",
      "2012_D 55 1\n",
      "2016_R 55 1\n",
      "2016_D 56 0\n",
      "2020_R 54 2\n",
      "2020_D 55 1\n",
      "2024_R 52 4\n",
      "2024_D 53 3\n"
     ]
    }
   ],
   "source": [
    "for year in party_spending_dfs:\n",
    "    print(year, len(party_spending_dfs[year]['recipient_st'].unique()), 56-len(party_spending_dfs[year]['recipient_st'].unique()))"
   ]
  },
  {
   "cell_type": "markdown",
   "metadata": {},
   "source": [
    "We then check to see if any states are missing. We see that several are, so we add them to a list as a tuple of the state missing and the year_party. "
   ]
  },
  {
   "cell_type": "code",
   "execution_count": 38,
   "metadata": {},
   "outputs": [
    {
     "name": "stdout",
     "output_type": "stream",
     "text": [
      "2008_R NE-3\n",
      "2012_D NE-3\n",
      "2016_R NE-3\n",
      "2020_R NE-1\n",
      "2020_R NE-3\n",
      "2020_D NE-1\n",
      "2024_R SD\n",
      "2024_R NE-1\n",
      "2024_R NE-3\n",
      "2024_R ME-2\n",
      "2024_D SD\n",
      "2024_D NE-1\n",
      "2024_D ME-2\n"
     ]
    }
   ],
   "source": [
    "# print(spending_dfs['2024']['recipient_st'].unique())\n",
    "# print(party_spending_dfs['2024_R'][party_spending_dfs['2024_R']['recipient_st'] == 'SD'])\n",
    "\n",
    "missed_states = []\n",
    "\n",
    "for year, df in party_spending_dfs.items():\n",
    "    for state in states:\n",
    "        if state not in df['recipient_st'].unique():\n",
    "            print(year, state)\n",
    "            missed_states.append((year, state))"
   ]
  },
  {
   "cell_type": "markdown",
   "metadata": {},
   "source": [
    "We now calculate the total spend in each state by each candiate. We then tag it with the state and year (year is in the form {year}_{R|D}, R or D for republican or democrat) for compiling it all into one dataframe. "
   ]
  },
  {
   "cell_type": "code",
   "execution_count": 39,
   "metadata": {},
   "outputs": [],
   "source": [
    "party_years = list(party_spending_dfs.keys())\n",
    "\n",
    "for year in party_years:\n",
    "    # print(len(spending_dfs[year]['recipient_st'].unique()))\n",
    "    state_sums[year] = party_spending_dfs[year].groupby('recipient_st').sum('disb_amt').sort_values('disb_amt')\n",
    "    state_sums[year] = state_sums[year].drop('file_num', axis=1)\n",
    "\n",
    "\n",
    "for year, st_sum in state_sums.items():\n",
    "    st_sum['state_year'] = st_sum.index + f\"_{year}\"\n"
   ]
  },
  {
   "cell_type": "markdown",
   "metadata": {},
   "source": [
    "Next add the missing states as 0 dollars spent. "
   ]
  },
  {
   "cell_type": "code",
   "execution_count": 40,
   "metadata": {},
   "outputs": [],
   "source": [
    "\n",
    "for year,state in missed_states:\n",
    "    state_sums[year].loc[state]= [0, f'{state}_{year}']\n"
   ]
  },
  {
   "cell_type": "markdown",
   "metadata": {},
   "source": [
    "We then combine all dataframes to get the total spend in each state per candidate for each year, we see that there are 560 entires, which matches 10 candidates and 56 states + DC + districts in Maine and Nebraska. "
   ]
  },
  {
   "cell_type": "code",
   "execution_count": 41,
   "metadata": {},
   "outputs": [
    {
     "data": {
      "text/html": [
       "<div>\n",
       "<style scoped>\n",
       "    .dataframe tbody tr th:only-of-type {\n",
       "        vertical-align: middle;\n",
       "    }\n",
       "\n",
       "    .dataframe tbody tr th {\n",
       "        vertical-align: top;\n",
       "    }\n",
       "\n",
       "    .dataframe thead th {\n",
       "        text-align: right;\n",
       "    }\n",
       "</style>\n",
       "<table border=\"1\" class=\"dataframe\">\n",
       "  <thead>\n",
       "    <tr style=\"text-align: right;\">\n",
       "      <th></th>\n",
       "      <th>disb_amt</th>\n",
       "      <th>state_year</th>\n",
       "    </tr>\n",
       "    <tr>\n",
       "      <th>recipient_st</th>\n",
       "      <th></th>\n",
       "      <th></th>\n",
       "    </tr>\n",
       "  </thead>\n",
       "  <tbody>\n",
       "    <tr>\n",
       "      <th>ND</th>\n",
       "      <td>2.982530e+03</td>\n",
       "      <td>ND_2008_R</td>\n",
       "    </tr>\n",
       "    <tr>\n",
       "      <th>WY</th>\n",
       "      <td>4.573600e+03</td>\n",
       "      <td>WY_2008_R</td>\n",
       "    </tr>\n",
       "    <tr>\n",
       "      <th>ID</th>\n",
       "      <td>6.016700e+03</td>\n",
       "      <td>ID_2008_R</td>\n",
       "    </tr>\n",
       "    <tr>\n",
       "      <th>HI</th>\n",
       "      <td>6.673290e+03</td>\n",
       "      <td>HI_2008_R</td>\n",
       "    </tr>\n",
       "    <tr>\n",
       "      <th>DE</th>\n",
       "      <td>6.685440e+03</td>\n",
       "      <td>DE_2008_R</td>\n",
       "    </tr>\n",
       "    <tr>\n",
       "      <th>...</th>\n",
       "      <td>...</td>\n",
       "      <td>...</td>\n",
       "    </tr>\n",
       "    <tr>\n",
       "      <th>GA</th>\n",
       "      <td>1.399371e+08</td>\n",
       "      <td>GA_2024_D</td>\n",
       "    </tr>\n",
       "    <tr>\n",
       "      <th>DC</th>\n",
       "      <td>2.110289e+08</td>\n",
       "      <td>DC_2024_D</td>\n",
       "    </tr>\n",
       "    <tr>\n",
       "      <th>SD</th>\n",
       "      <td>0.000000e+00</td>\n",
       "      <td>SD_2024_D</td>\n",
       "    </tr>\n",
       "    <tr>\n",
       "      <th>NE-1</th>\n",
       "      <td>0.000000e+00</td>\n",
       "      <td>NE-1_2024_D</td>\n",
       "    </tr>\n",
       "    <tr>\n",
       "      <th>ME-2</th>\n",
       "      <td>0.000000e+00</td>\n",
       "      <td>ME-2_2024_D</td>\n",
       "    </tr>\n",
       "  </tbody>\n",
       "</table>\n",
       "<p>560 rows × 2 columns</p>\n",
       "</div>"
      ],
      "text/plain": [
       "                  disb_amt   state_year\n",
       "recipient_st                           \n",
       "ND            2.982530e+03    ND_2008_R\n",
       "WY            4.573600e+03    WY_2008_R\n",
       "ID            6.016700e+03    ID_2008_R\n",
       "HI            6.673290e+03    HI_2008_R\n",
       "DE            6.685440e+03    DE_2008_R\n",
       "...                    ...          ...\n",
       "GA            1.399371e+08    GA_2024_D\n",
       "DC            2.110289e+08    DC_2024_D\n",
       "SD            0.000000e+00    SD_2024_D\n",
       "NE-1          0.000000e+00  NE-1_2024_D\n",
       "ME-2          0.000000e+00  ME-2_2024_D\n",
       "\n",
       "[560 rows x 2 columns]"
      ]
     },
     "execution_count": 41,
     "metadata": {},
     "output_type": "execute_result"
    }
   ],
   "source": [
    "all_state_sums_df = pd.concat(state_sums.values())\n",
    "all_state_sums_df"
   ]
  },
  {
   "cell_type": "markdown",
   "metadata": {},
   "source": [
    "Finally, we will move the D and R spending for the same state and year to the same row, to prepare for merging with the polling data. "
   ]
  },
  {
   "cell_type": "markdown",
   "metadata": {},
   "source": [
    "First, split the state_year column into state, cycle, and party columns."
   ]
  },
  {
   "cell_type": "code",
   "execution_count": 42,
   "metadata": {},
   "outputs": [],
   "source": [
    "## Set the mappings to convert into a standard format\n",
    "party_mapping = {\n",
    "    \"R\": \"Republican\",\n",
    "    \"D\": \"Democrat\"\n",
    "}\n",
    "\n",
    "state_mapping = {\n",
    "    \"AL\": \"Alabama\",\n",
    "    \"AK\": \"Alaska\",\n",
    "    \"AZ\": \"Arizona\",\n",
    "    \"AR\": \"Arkansas\",\n",
    "    \"CA\": \"California\",\n",
    "    \"CO\": \"Colorado\",\n",
    "    \"CT\": \"Connecticut\",\n",
    "    \"DE\": \"Delaware\",\n",
    "    \"FL\": \"Florida\",\n",
    "    \"GA\": \"Georgia\",\n",
    "    \"HI\": \"Hawaii\",\n",
    "    \"ID\": \"Idaho\",\n",
    "    \"IL\": \"Illinois\",\n",
    "    \"IN\": \"Indiana\",\n",
    "    \"IA\": \"Iowa\",\n",
    "    \"KS\": \"Kansas\",\n",
    "    \"KY\": \"Kentucky\",\n",
    "    \"LA\": \"Louisiana\",\n",
    "    \"ME\": \"Maine\",\n",
    "    \"MD\": \"Maryland\",\n",
    "    \"MA\": \"Massachusetts\",\n",
    "    \"MI\": \"Michigan\",\n",
    "    \"MN\": \"Minnesota\",\n",
    "    \"MS\": \"Mississippi\",\n",
    "    \"MO\": \"Missouri\",\n",
    "    \"MT\": \"Montana\",\n",
    "    \"NE\": \"Nebraska\",\n",
    "    \"NV\": \"Nevada\",\n",
    "    \"NH\": \"New Hampshire\",\n",
    "    \"NJ\": \"New Jersey\",\n",
    "    \"NM\": \"New Mexico\",\n",
    "    \"NY\": \"New York\",\n",
    "    \"NC\": \"North Carolina\",\n",
    "    \"ND\": \"North Dakota\",\n",
    "    \"OH\": \"Ohio\",\n",
    "    \"OK\": \"Oklahoma\",\n",
    "    \"OR\": \"Oregon\",\n",
    "    \"PA\": \"Pennsylvania\",\n",
    "    \"RI\": \"Rhode Island\",\n",
    "    \"SC\": \"South Carolina\",\n",
    "    \"SD\": \"South Dakota\",\n",
    "    \"TN\": \"Tennessee\",\n",
    "    \"TX\": \"Texas\",\n",
    "    \"UT\": \"Utah\",\n",
    "    \"VT\": \"Vermont\",\n",
    "    \"VA\": \"Virginia\",\n",
    "    \"WA\": \"Washington\",\n",
    "    \"WV\": \"West Virginia\",\n",
    "    \"WI\": \"Wisconsin\",\n",
    "    \"WY\": \"Wyoming\",\n",
    "    \"DC\": \"District of Columbia\"\n",
    "}"
   ]
  },
  {
   "cell_type": "code",
   "execution_count": 43,
   "metadata": {},
   "outputs": [],
   "source": [
    "## Split the state_year column\n",
    "all_state_sums_df[['state', 'cycle', 'party']] = all_state_sums_df['state_year'].str.split('_', expand=True)\n",
    "\n",
    "all_state_sums_df['state'] = all_state_sums_df['state'].map(lambda e: state_mapping[e] if e in state_mapping.keys() else e)\n",
    "all_state_sums_df['party'] = all_state_sums_df['party'].map(party_mapping)\n",
    "\n",
    "all_state_sums_df.drop(columns=['state_year'], inplace=True)"
   ]
  },
  {
   "cell_type": "markdown",
   "metadata": {},
   "source": [
    "Now we need to combine the parties' spending into one row for each state and cycle, Republican first to match the polling data."
   ]
  },
  {
   "cell_type": "code",
   "execution_count": 44,
   "metadata": {},
   "outputs": [],
   "source": [
    "## Pivot so that the parties are now on the same row\n",
    "processed_spending = all_state_sums_df.pivot(index=['state', 'cycle'], columns='party', values='disb_amt')\n",
    "\n",
    "## Get rid of the multi-index caused by the pivot\n",
    "processed_spending = processed_spending.reset_index()\n",
    "\n",
    "## Reorder and rename the columns properly\n",
    "processed_spending = processed_spending[['state', 'cycle', 'Republican', 'Democrat']]\n",
    "processed_spending.rename(columns={'Democrat': 'spending_total_democrat', 'Republican': 'spending_total_republican'}, inplace=True)"
   ]
  },
  {
   "cell_type": "markdown",
   "metadata": {},
   "source": [
    "Create the jkey column to use for merging the two dataframes."
   ]
  },
  {
   "cell_type": "code",
   "execution_count": 45,
   "metadata": {},
   "outputs": [],
   "source": [
    "## Create the jkey column used for merging the data with the polling data\n",
    "processed_spending['jkey'] = processed_spending['state'].map(lambda e: e.lower()) + processed_spending['cycle'].astype(str)"
   ]
  },
  {
   "cell_type": "markdown",
   "metadata": {},
   "source": [
    "Now we are done processing the polling and spending data, all that is left is to merge them into a single dataset"
   ]
  },
  {
   "cell_type": "code",
   "execution_count": 46,
   "metadata": {},
   "outputs": [],
   "source": [
    "processed_data = pd.merge(processed_data, processed_spending[['spending_total_republican', 'spending_total_democrat', 'jkey']], on='jkey', how='inner')\n",
    "\n",
    "## Drop unnecessary columns\n",
    "processed_data.drop(columns='jkey', inplace=True)\n",
    "\n",
    "## Quick reorder\n",
    "processed_data = processed_data[['state', 'polling_avg_republican', 'polling_avg_democrat', 'month_change_republican', 'month_change_democrat', 'spending_total_republican', 'spending_total_democrat', 'winning_party', 'cycle']]"
   ]
  },
  {
   "cell_type": "markdown",
   "metadata": {},
   "source": [
    "Because we want to predict the 2024 election results, that will serve as our test dataset. We will not be splitting the dataset randomly."
   ]
  },
  {
   "cell_type": "code",
   "execution_count": 47,
   "metadata": {},
   "outputs": [],
   "source": [
    "X_train = processed_data[processed_data['cycle'] != 2024].drop(columns=['winning_party', 'cycle'])\n",
    "\n",
    "y_train = processed_data[processed_data['cycle'] != 2024]['winning_party'].to_list()\n",
    "\n",
    "X_test = processed_data[processed_data['cycle'] == 2024].drop(columns=['winning_party', 'cycle'])\n",
    "\n",
    "y_test = processed_data[processed_data['cycle'] == 2024]['winning_party'].to_list()"
   ]
  },
  {
   "cell_type": "markdown",
   "metadata": {},
   "source": [
    "# **SECTION 4: Exploratory Data Analysis**"
   ]
  },
  {
   "cell_type": "markdown",
   "metadata": {},
   "source": [
    "# TEST 1: CHI-SQUARED"
   ]
  },
  {
   "cell_type": "markdown",
   "metadata": {},
   "source": [
    "Conduct a chi-squared test to see if Harris and Trump have been spending in the same distribution of categories. "
   ]
  },
  {
   "cell_type": "code",
   "execution_count": 48,
   "metadata": {},
   "outputs": [],
   "source": [
    "# https://www.fec.gov/data/candidates/president/presidential-map/ \n",
    "# spending - allcandidates \n",
    "spending_df = pd.read_csv(\"spending_data_2024.csv\", index_col=False, low_memory=False)\n"
   ]
  },
  {
   "cell_type": "code",
   "execution_count": 49,
   "metadata": {},
   "outputs": [],
   "source": [
    "cross_category = pd.crosstab(spending_df['disb_desc'], spending_df[(spending_df['cand_nm'] == 'Harris, Kamala') | (spending_df['cand_nm'] == 'Trump, Donald J.')]['cand_nm'])\n",
    "# cross_category.index"
   ]
  },
  {
   "cell_type": "code",
   "execution_count": 50,
   "metadata": {},
   "outputs": [
    {
     "data": {
      "text/plain": [
       "0.0"
      ]
     },
     "execution_count": 50,
     "metadata": {},
     "output_type": "execute_result"
    }
   ],
   "source": [
    "scipy.stats.chi2_contingency(cross_category).pvalue"
   ]
  },
  {
   "cell_type": "code",
   "execution_count": 51,
   "metadata": {},
   "outputs": [
    {
     "data": {
      "image/png": "[encoded data removed]",
      "text/plain": [
       "<Figure size 640x480 with 1 Axes>"
      ]
     },
     "metadata": {},
     "output_type": "display_data"
    }
   ],
   "source": [
    "fig, ax = plt.subplots()\n",
    "\n",
    "line_yes, = ax.plot(cross_category['Harris, Kamala'].to_list(), label='Harris')\n",
    "line_no, = ax.plot(cross_category['Trump, Donald J.'].to_list(), label='Trump')\n",
    "\n",
    "fig.autofmt_xdate()\n",
    "\n",
    "ax.legend(handles = [line_yes, line_no])\n",
    "plt.show()"
   ]
  },
  {
   "cell_type": "markdown",
   "metadata": {},
   "source": [
    "Conduct a chi-squared test to see if Harris and Trump have similar spending patterns state by state, as in do they both focus on the same states? "
   ]
  },
  {
   "cell_type": "code",
   "execution_count": 52,
   "metadata": {},
   "outputs": [
    {
     "data": {
      "text/plain": [
       "0.0"
      ]
     },
     "execution_count": 52,
     "metadata": {},
     "output_type": "execute_result"
    }
   ],
   "source": [
    "harristrump_spending_df = spending_df[(spending_df['cand_nm'] == 'Harris, Kamala') | (spending_df['cand_nm'] == 'Trump, Donald J.')]\n",
    "cross_state = pd.crosstab(harristrump_spending_df['recipient_st'], harristrump_spending_df['cand_nm'])\n",
    "scipy.stats.chi2_contingency(cross_state).pvalue"
   ]
  },
  {
   "cell_type": "code",
   "execution_count": 53,
   "metadata": {},
   "outputs": [
    {
     "data": {
      "image/png": "[encoded data removed]",
      "text/plain": [
       "<Figure size 1300x600 with 1 Axes>"
      ]
     },
     "metadata": {},
     "output_type": "display_data"
    }
   ],
   "source": [
    "fig, ax = plt.subplots(figsize=(13,6))\n",
    "\n",
    "states = list(cross_state.index)\n",
    "bar_width = 0.35\n",
    "\n",
    "\n",
    "observed_bars = ax.bar(np.arange(len(states)), cross_state['Harris, Kamala'], bar_width, label='Harris')\n",
    "expected_bars = ax.bar(np.arange(len(states)) + bar_width, cross_state['Trump, Donald J.'], bar_width, label='Trump')\n",
    "\n",
    "# Add labels and annotations\n",
    "ax.set_xticks(np.arange(len(states)) + bar_width / 2, states, size='x-small')\n",
    "ax.set_xlabel('states')\n",
    "ax.set_ylabel('Frequency')\n",
    "ax.set_title('Comparing the frequency of spending in different states between Harris and Trump')\n",
    "ax.set\n",
    "ax.legend()\n",
    "plt.show()"
   ]
  },
  {
   "cell_type": "markdown",
   "metadata": {},
   "source": [
    "Analysis: Our Chi-square test results indicate that Trump and Harris have largely similar spending habits in most types of financial transactions, \n",
    "but that there are certain areas where the Harris campaign engages in far more frequent spending than the Trump campaign and vice versa.\n",
    "The Harris campaign also appears to outspend the Trump campaign in areas with frequent financial transactions, since there are a few instances\n",
    "of Trump's campaign having two to three thousand transactions in areas where Harris' campaign had almost zero while there are a few more instances\n",
    "of Harris' campaign having three to five thousand transactions or more in areas where Trump's campaign had at most only a thousand transactions.\n",
    "Without further data, this information could support several possible conclusions, including that Harris' campaign is generally far outspending\n",
    "Trump's or that Trump's campaign may be engaging in fewer, more costly transactions while Harris' transaction counts are heavily inflated because\n",
    "individual transaction amounts are quite small. Moreover, we see from the graph comparing number of candidate transactions by state, we can see\n",
    "that as we might expect the candidates are heavily focusing most of their transactions and spending in specific states: Harris appears to be\n",
    "focusing many of her campaign transactions on Delaware and especially Pennsylvania, given that Biden claims a sort of home field advantage within\n",
    "both states and in particular Pennsylvania is a swing state that may make or break either candidates' presidential bids. Likewise, Trump's number of\n",
    "transactions appears to be highest in more purple states like Ohio and even Texas. Interestingly, Trump's campaign appears to have the most financial\n",
    "transactions in Virginia and many in Maryland, both of which are solidly blue states. This may be because of the senate races in both states, or perhaps\n",
    "peculiar campaign funding laws in both states, or even because of a belief within the Trump campaign team that they might be able to flip a state like\n",
    "Virginia given Republican Governor Glenn Youngkin's recent election and tremendous popularity within the state."
   ]
  },
  {
   "cell_type": "markdown",
   "metadata": {},
   "source": [
    "# TEST 2: Correlation"
   ]
  },
  {
   "cell_type": "code",
   "execution_count": 54,
   "metadata": {},
   "outputs": [],
   "source": [
    "# https://www.fec.gov/data/candidates/president/presidential-map/ \n",
    "# spending - allcandidates \n",
    "types = {\n",
    "    \"cmte_id\" : str,\n",
    "    \"cand_id\" : str,\n",
    "    \"recipient_nm\" : str,\n",
    "    \"disb_amt\" : float,\n",
    "    \"disb_dt\" : str,\n",
    "    \"recipient_city\" : str,\n",
    "    \"recipient_st\" : str,\n",
    "    \"recipient_zip\" : str,\n",
    "    \"disb_desc\" : str,\n",
    "    \"memo_cd\" : str,\n",
    "    \"memo_text\" : str,\n",
    "    \"form_tp\" : str,\n",
    "    \"file_num\" : str,\n",
    "    \"tran_id\" : str,\n",
    "    \"election_tp\" : str\n",
    "}\n",
    "\n",
    "spending_df = pd.read_csv(\"spending_data_2024.csv\", index_col=False, dtype=types)\n",
    "spending_df[\"disb_dt\"] = pd.to_datetime(spending_df[\"disb_dt\"], format='%d-%b-%y')\n",
    "# spending_df"
   ]
  },
  {
   "cell_type": "code",
   "execution_count": 55,
   "metadata": {},
   "outputs": [],
   "source": [
    "cand_info = pd.read_csv(\"weball24.txt\", delimiter='|')\n",
    "# cand_info"
   ]
  },
  {
   "cell_type": "code",
   "execution_count": 56,
   "metadata": {},
   "outputs": [],
   "source": [
    "poll_data = pd.read_csv(\"presidential_general_averages.csv\")\n",
    "poll_data[\"date\"] = pd.to_datetime(poll_data[\"date\"])\n",
    "# poll_data"
   ]
  },
  {
   "cell_type": "markdown",
   "metadata": {},
   "source": [
    "Correlation Between Trump's and Harris's Total Spending and National Polling Average"
   ]
  },
  {
   "cell_type": "code",
   "execution_count": 57,
   "metadata": {},
   "outputs": [],
   "source": [
    "# Add column to poll_data with state abbreviations \n",
    "states_abbr = spending_df.recipient_st.unique()\n",
    "# states_abbr"
   ]
  },
  {
   "cell_type": "code",
   "execution_count": 58,
   "metadata": {},
   "outputs": [],
   "source": [
    "state_abbrvs = pd.read_csv(\"states.csv\", index_col = 0)\n",
    "# state_abbrvs.head()"
   ]
  },
  {
   "cell_type": "code",
   "execution_count": 59,
   "metadata": {},
   "outputs": [],
   "source": [
    "states = poll_data.state.unique()\n",
    "# [s for s in states if s not in state_abbrvs[\"Abbreviation\"]]"
   ]
  },
  {
   "cell_type": "code",
   "execution_count": 60,
   "metadata": {},
   "outputs": [],
   "source": [
    "abbrvs = list()\n",
    "\n",
    "for s in poll_data[\"state\"]:\n",
    "    if (s == 'ME-1') | (s == 'ME-2') | (s == 'Maine Cd 2'):\n",
    "        abbrvs.append(\"ME\")\n",
    "    elif s == \"NE-2\":\n",
    "        abbrvs.append(\"NE\")\n",
    "    elif s == \"Nebraska Cd 2\":\n",
    "        abbrvs.append(\"NE\")\n",
    "    elif s == \"National\":\n",
    "        abbrvs.append(\"National\")\n",
    "    else:\n",
    "        abbrvs.append(state_abbrvs[\"Abbreviation\"][s])\n",
    "    \n",
    "poll_data[\"state_abbrv\"] = abbrvs\n",
    "# poll_data"
   ]
  },
  {
   "cell_type": "code",
   "execution_count": 61,
   "metadata": {},
   "outputs": [],
   "source": [
    "harris_spending_23_24 = spending_df[spending_df[\"cand_nm\"] == \"Harris, Kamala\"]\n",
    "hs_spending_per_day = harris_spending_23_24.groupby(\"disb_dt\")[\"disb_amt\"].sum()\n",
    "# hs_spending_per_day"
   ]
  },
  {
   "cell_type": "code",
   "execution_count": 62,
   "metadata": {},
   "outputs": [],
   "source": [
    "harris_spending_23_24 = spending_df[spending_df[\"cand_nm\"] == \"Harris, Kamala\"]\n",
    "hs_spending_per_day_per_state = harris_spending_23_24.groupby([\"recipient_st\",\"disb_dt\"])[\"disb_amt\"].sum()\n",
    "hs_spending_per_day_per_state_df = pd.DataFrame(index = hs_spending_per_day_per_state.index.get_level_values(\"disb_dt\").unique(), columns = hs_spending_per_day_per_state.index.get_level_values(\"recipient_st\").unique())\n",
    "\n",
    "for st in hs_spending_per_day_per_state_df.columns:\n",
    "    hs_spending_per_day_per_state_df[st] = hs_spending_per_day_per_state[st]\n",
    "\n",
    "hs_spending_per_day_per_state_df =hs_spending_per_day_per_state_df.fillna(0)\n",
    "# hs_spending_per_day_per_state_df "
   ]
  },
  {
   "cell_type": "code",
   "execution_count": 63,
   "metadata": {},
   "outputs": [],
   "source": [
    "trump_spending_23_24 = spending_df[(spending_df[\"cand_nm\"] == \"Trump, Donald J.\")]\n",
    "tp_spending_per_day = trump_spending_23_24.groupby(\"disb_dt\")[\"disb_amt\"].sum()\n",
    "# tp_spending_per_day"
   ]
  },
  {
   "cell_type": "code",
   "execution_count": 64,
   "metadata": {},
   "outputs": [],
   "source": [
    "trump_spending_23_24 = spending_df[spending_df[\"cand_nm\"] == \"Trump, Donald J.\"]\n",
    "tp_spending_per_day_per_state = trump_spending_23_24.groupby([\"recipient_st\",\"disb_dt\"])[\"disb_amt\"].sum()\n",
    "tp_spending_per_day_per_state_df = pd.DataFrame(index = tp_spending_per_day_per_state.index.get_level_values(\"disb_dt\").unique(), columns = tp_spending_per_day_per_state.index.get_level_values(\"recipient_st\").unique())\n",
    "\n",
    "for st in tp_spending_per_day_per_state_df.columns:\n",
    "    tp_spending_per_day_per_state_df[st] = tp_spending_per_day_per_state[st]\n",
    "tp_spending_per_day_per_state_df = tp_spending_per_day_per_state_df.fillna(0)    \n",
    "# tp_spending_per_day_per_state_df.head() "
   ]
  },
  {
   "cell_type": "code",
   "execution_count": 65,
   "metadata": {},
   "outputs": [],
   "source": [
    "harris_nat_polls = poll_data[(poll_data[\"candidate\"] == \"Harris\") & (poll_data[\"state\"] == \"National\")]\n",
    "# harris_nat_polls"
   ]
  },
  {
   "cell_type": "code",
   "execution_count": 66,
   "metadata": {},
   "outputs": [],
   "source": [
    "trump_nat_polls = poll_data[(poll_data[\"candidate\"] == \"Trump\") & (poll_data[\"state\"] == \"National\")]\n",
    "# trump_nat_polls.head()"
   ]
  },
  {
   "cell_type": "code",
   "execution_count": 67,
   "metadata": {},
   "outputs": [],
   "source": [
    "trump_spending_to_polls = trump_nat_polls[[\"date\", \"pct_estimate\"]].set_index(\"date\")\n",
    "trump_spending_to_polls = trump_spending_to_polls[trump_spending_to_polls.index.isin(tp_spending_per_day.index)]\n",
    "trump_spending_to_polls[\"total_spending\"] = tp_spending_per_day\n",
    "# trump_spending_to_polls"
   ]
  },
  {
   "cell_type": "code",
   "execution_count": 68,
   "metadata": {},
   "outputs": [],
   "source": [
    "harris_spending_to_polls = harris_nat_polls[[\"date\", \"pct_estimate\"]].set_index(\"date\")\n",
    "harris_spending_to_polls = harris_spending_to_polls[harris_spending_to_polls.index.isin(hs_spending_per_day.index)]\n",
    "harris_spending_to_polls[\"total_spending\"] = hs_spending_per_day\n",
    "# harris_spending_to_polls.head()"
   ]
  },
  {
   "cell_type": "code",
   "execution_count": 69,
   "metadata": {},
   "outputs": [
    {
     "data": {
      "text/html": [
       "<div>\n",
       "<style scoped>\n",
       "    .dataframe tbody tr th:only-of-type {\n",
       "        vertical-align: middle;\n",
       "    }\n",
       "\n",
       "    .dataframe tbody tr th {\n",
       "        vertical-align: top;\n",
       "    }\n",
       "\n",
       "    .dataframe thead th {\n",
       "        text-align: right;\n",
       "    }\n",
       "</style>\n",
       "<table border=\"1\" class=\"dataframe\">\n",
       "  <thead>\n",
       "    <tr style=\"text-align: right;\">\n",
       "      <th></th>\n",
       "      <th>pct_estimate</th>\n",
       "      <th>total_spending</th>\n",
       "    </tr>\n",
       "  </thead>\n",
       "  <tbody>\n",
       "    <tr>\n",
       "      <th>pct_estimate</th>\n",
       "      <td>1.000000</td>\n",
       "      <td>0.126721</td>\n",
       "    </tr>\n",
       "    <tr>\n",
       "      <th>total_spending</th>\n",
       "      <td>0.126721</td>\n",
       "      <td>1.000000</td>\n",
       "    </tr>\n",
       "  </tbody>\n",
       "</table>\n",
       "</div>"
      ],
      "text/plain": [
       "                pct_estimate  total_spending\n",
       "pct_estimate        1.000000        0.126721\n",
       "total_spending      0.126721        1.000000"
      ]
     },
     "execution_count": 69,
     "metadata": {},
     "output_type": "execute_result"
    }
   ],
   "source": [
    "harris_corr_mtx = harris_spending_to_polls.corr(method=\"spearman\")\n",
    "harris_corr_mtx"
   ]
  },
  {
   "cell_type": "code",
   "execution_count": 70,
   "metadata": {},
   "outputs": [
    {
     "data": {
      "text/html": [
       "<div>\n",
       "<style scoped>\n",
       "    .dataframe tbody tr th:only-of-type {\n",
       "        vertical-align: middle;\n",
       "    }\n",
       "\n",
       "    .dataframe tbody tr th {\n",
       "        vertical-align: top;\n",
       "    }\n",
       "\n",
       "    .dataframe thead th {\n",
       "        text-align: right;\n",
       "    }\n",
       "</style>\n",
       "<table border=\"1\" class=\"dataframe\">\n",
       "  <thead>\n",
       "    <tr style=\"text-align: right;\">\n",
       "      <th></th>\n",
       "      <th>pct_estimate</th>\n",
       "      <th>total_spending</th>\n",
       "    </tr>\n",
       "  </thead>\n",
       "  <tbody>\n",
       "    <tr>\n",
       "      <th>pct_estimate</th>\n",
       "      <td>1.000000</td>\n",
       "      <td>-0.038858</td>\n",
       "    </tr>\n",
       "    <tr>\n",
       "      <th>total_spending</th>\n",
       "      <td>-0.038858</td>\n",
       "      <td>1.000000</td>\n",
       "    </tr>\n",
       "  </tbody>\n",
       "</table>\n",
       "</div>"
      ],
      "text/plain": [
       "                pct_estimate  total_spending\n",
       "pct_estimate        1.000000       -0.038858\n",
       "total_spending     -0.038858        1.000000"
      ]
     },
     "execution_count": 70,
     "metadata": {},
     "output_type": "execute_result"
    }
   ],
   "source": [
    "trump_corr_mtx = trump_spending_to_polls.corr(method=\"spearman\")\n",
    "trump_corr_mtx"
   ]
  },
  {
   "cell_type": "code",
   "execution_count": 71,
   "metadata": {},
   "outputs": [
    {
     "data": {
      "image/png": "[encoded data removed]",
      "text/plain": [
       "<Figure size 640x480 with 1 Axes>"
      ]
     },
     "metadata": {},
     "output_type": "display_data"
    }
   ],
   "source": [
    "fig, ax = plt.subplots()\n",
    "im = ax.imshow(harris_corr_mtx)\n",
    "\n",
    "# Show all ticks and label them with the respective list entries\n",
    "ax.set_xticks(range(2), labels=harris_corr_mtx.index)\n",
    "ax.set_yticks(range(2), labels=harris_corr_mtx.columns)\n",
    "\n",
    "# Rotate the tick labels and set their alignment.\n",
    "plt.setp(ax.get_xticklabels(), rotation=45, ha=\"right\",\n",
    "         rotation_mode=\"anchor\")\n",
    "\n",
    "ax.set_title(\"Correlation heatmap of Harris's total spending vs. national poll average per day\")\n",
    "fig.tight_layout()\n",
    "plt.show()"
   ]
  },
  {
   "cell_type": "code",
   "execution_count": 72,
   "metadata": {},
   "outputs": [
    {
     "data": {
      "image/png": "[encoded data removed]",
      "text/plain": [
       "<Figure size 640x480 with 1 Axes>"
      ]
     },
     "metadata": {},
     "output_type": "display_data"
    }
   ],
   "source": [
    "fig, ax = plt.subplots()\n",
    "im = ax.imshow(trump_corr_mtx)\n",
    "\n",
    "# Show all ticks and label them with the respective list entries\n",
    "ax.set_xticks(range(2), labels=trump_corr_mtx.index)\n",
    "ax.set_yticks(range(2), labels=trump_corr_mtx.columns)\n",
    "\n",
    "# Rotate the tick labels and set their alignment.\n",
    "plt.setp(ax.get_xticklabels(), rotation=45, ha=\"right\",\n",
    "         rotation_mode=\"anchor\")\n",
    "\n",
    "ax.set_title(\"Correlation heatmap of Trump's total spending vs. national poll average per day\")\n",
    "fig.tight_layout()\n",
    "plt.show()"
   ]
  },
  {
   "cell_type": "code",
   "execution_count": 73,
   "metadata": {},
   "outputs": [],
   "source": [
    "harris_corr_mtx = hs_spending_per_day_per_state_df.corr(method=\"spearman\") "
   ]
  },
  {
   "cell_type": "code",
   "execution_count": 74,
   "metadata": {},
   "outputs": [
    {
     "data": {
      "image/png": "[encoded data removed]",
      "text/plain": [
       "<Figure size 1000x1000 with 1 Axes>"
      ]
     },
     "metadata": {},
     "output_type": "display_data"
    },
    {
     "data": {
      "text/plain": [
       "<Figure size 100000x100000 with 0 Axes>"
      ]
     },
     "metadata": {},
     "output_type": "display_data"
    }
   ],
   "source": [
    "fig, ax = plt.subplots(figsize = (10, 10))\n",
    "im = ax.imshow(harris_corr_mtx)\n",
    "\n",
    "plt.figure(figsize=(1000,1000))\n",
    "\n",
    "ax.set_title(\"Correlation heatmap of Harris's total spending per state\")\n",
    "fig.tight_layout()\n",
    "plt.show()"
   ]
  },
  {
   "cell_type": "code",
   "execution_count": 75,
   "metadata": {},
   "outputs": [],
   "source": [
    "trump_corr_mtx = tp_spending_per_day_per_state_df.corr(method=\"spearman\")"
   ]
  },
  {
   "cell_type": "code",
   "execution_count": 76,
   "metadata": {},
   "outputs": [
    {
     "data": {
      "image/png": "[encoded data removed]",
      "text/plain": [
       "<Figure size 1000x1000 with 1 Axes>"
      ]
     },
     "metadata": {},
     "output_type": "display_data"
    }
   ],
   "source": [
    "fig, ax = plt.subplots(figsize=(10, 10))\n",
    "im = ax.imshow(trump_corr_mtx)\n",
    "\n",
    "# Show all ticks and label them with the respective list entries\n",
    "ax.set_xticks(range(55), labels=trump_corr_mtx.index, fontsize=10)\n",
    "ax.set_yticks(range(55), labels=trump_corr_mtx.columns, fontsize=10)\n",
    "\n",
    "#Rotate the tick labels and set their alignment.\n",
    "plt.setp(ax.get_xticklabels(), rotation=90, ha=\"right\",\n",
    "         rotation_mode=\"anchor\")\n",
    "\n",
    "ax.set_title(\"Correlation heatmap of Trump's total spending per state\")\n",
    "fig.tight_layout()\n",
    "plt.show()"
   ]
  },
  {
   "cell_type": "markdown",
   "metadata": {},
   "source": [
    "Analysis:\n",
    "\n",
    "When discovering the correlation between estimated poll and total spending, Spearman correlation is applied due to the unknown nature of the relationship.\n",
    "Harris' stats present a weak positive correlation between her spending and her estimated poll.\n",
    "This implies that the increased spending have little impact on her polling performance.\n",
    "Trump's stats present a weak negative correlation between his spending and his estimated poll. \n",
    "This implies that the increased spending wouldn't likely to impact on his polling performance or have slight negative impact.\n",
    "Harris have benefits little from the spending, while trump didn't. This may impies that Trump have more solid brand recognition than Harris.\n",
    "Volters volt Trump dispite his spending. While Harris may need to spend more to gain public recognition. \n",
    "The spending of both candidates presents low impact on the result.\n",
    "This may implies that officially count spending is not the primary factor that influence the poll.\n",
    "External influences like support from public celebrities (e.g. Elon Musk/Taylor Swift) or donation to Pro-Trump, Pro-Harris Committee impact more. \n",
    "Another possible reason is that some states are Pro-Democrates or Pro-Republics by default. Both candidates may spend more at states that oppose with their party and receive relatively weak response.\n",
    "\n",
    "For the correlation between spending of each states, The presence of more green clusters on Harris’s heatmap compared to Trump’s indicates that Harris's state-level spending patterns are more correlated across multiple states.\n",
    "This implies that Harris have more consistent spending strategy across states. Her spending may be more universal across multiple states.\n",
    "On the opposite, Trump's spending may be more targeted, focusing on specific states independently with different priorities.\n",
    "Trump may allocate resources opportunistically, depending on shifting poll numbers or last-minute campaign needs, leading to less consistency in spending patterns."
   ]
  },
  {
   "cell_type": "markdown",
   "metadata": {},
   "source": [
    "# Test 3: 1 Tailed Wilcoxon Test"
   ]
  },
  {
   "cell_type": "code",
   "execution_count": 77,
   "metadata": {},
   "outputs": [
    {
     "data": {
      "text/plain": [
       "WilcoxonResult(statistic=5565.0, pvalue=2.917717369616875e-19)"
      ]
     },
     "execution_count": 77,
     "metadata": {},
     "output_type": "execute_result"
    }
   ],
   "source": [
    "polling_df = pd.read_csv('presidential_general_averages.csv')\n",
    "polling_df['date'] = pd.to_datetime(polling_df['date']).dt.date\n",
    "\n",
    "harris_df = polling_df[(polling_df['candidate'].str.contains('Harris')) & (polling_df['date'] >= datetime.date(2024, 7, 24)) & (polling_df['state'] == 'National')][['date', 'pct_estimate']]\n",
    "\n",
    "trump_df = polling_df[(polling_df['candidate'].str.contains('Trump')) & (polling_df['date'] >= datetime.date(2024, 7, 24)) & (polling_df['state'] == 'National')][['date', 'pct_estimate']]\n",
    "\n",
    "wilcoxon(harris_df['pct_estimate'], trump_df['pct_estimate'], alternative='greater')"
   ]
  },
  {
   "cell_type": "code",
   "execution_count": 78,
   "metadata": {},
   "outputs": [],
   "source": [
    "polling_df = pd.read_csv('presidential_general_averages.csv')\n",
    "polling_df['date'] = pd.to_datetime(polling_df['date']).dt.date"
   ]
  },
  {
   "cell_type": "markdown",
   "metadata": {},
   "source": [
    "Analysis: \n",
    "The 'date' column is stored as a string and must be converted to a datetime value before use. The pct_trend_adjusted and pct_estimate columns are mutually exclusive, all rows which have a number in the pct_trend_adjusted column have NaN in the pct_estimate column, and vice versa. All of the most recent polls have pct_estimate and not pct_trend_adjusted. Some of the entries contain the full names of the candidates, e.g. 'Joseph R. Biden', while others only contain the last name 'Biden'. The polls include both state specific poll numbers and national averages. \n",
    "\n",
    "In the code below, a one-tailed Wilcoxon Signed-Rank test is performed where the pairs consist of the national poll averages for Harris and Trump on the same date. This test was chosen because the polling numbers for Harris and Trump are related, especially on the same date, and polling averages cannot safely be assumed to be normal over time.\n",
    "\n",
    "$H_0 = \\mu_{\\text{Harris}} <= \\mu_{\\text{Trump}}$\\\n",
    "$H_A = \\mu_{\\text{Harris}} > \\mu_{\\text{Trump}}$\n",
    "\n",
    "$\\alpha = 0.05$\n",
    "\n",
    "Wilcoxon Test Results:\\\n",
    "test statistic: 3828.0\\\n",
    "p-value (right-tailed) = 2.730e-16\n",
    "\n",
    "Since p-value < $\\alpha$, we reject the null hypothesis. Given the incredibly small p-value, it is incredibly unlikely that Harris's national polling numbers are less than or equal to Trump's. Harris's poll numbers are greater than Trump's in a statistically significant manner."
   ]
  },
  {
   "cell_type": "code",
   "execution_count": 79,
   "metadata": {},
   "outputs": [
    {
     "data": {
      "image/png": "[encoded data removed]",
      "text/plain": [
       "<Figure size 640x480 with 1 Axes>"
      ]
     },
     "metadata": {},
     "output_type": "display_data"
    }
   ],
   "source": [
    "sns.lineplot(data=harris_df, x='date', y='pct_estimate', label='Harris')\n",
    "sns.lineplot(data=trump_df, x='date', y='pct_estimate', label='Trump')\n",
    "\n",
    "plt.title('National Polling Averages for 2024 Presidential Race (Harris - Trump)')\n",
    "plt.xlabel('Date')\n",
    "plt.ylabel('Percentage Estimate')\n",
    "\n",
    "plt.xticks(rotation=45)\n",
    "plt.ylim(bottom=25, top=75)\n",
    "plt.show()"
   ]
  },
  {
   "cell_type": "markdown",
   "metadata": {},
   "source": [
    "# **SECTION 5: Primary Analysis**"
   ]
  },
  {
   "cell_type": "markdown",
   "metadata": {},
   "source": [
    "Need a constant that will help convert the predicted states into actual electoral vote counts."
   ]
  },
  {
   "cell_type": "code",
   "execution_count": 80,
   "metadata": {},
   "outputs": [],
   "source": [
    "electoral_votes = {\n",
    "    \"Alabama\": 9,\n",
    "    \"Alaska\": 3,\n",
    "    \"Arizona\": 11,\n",
    "    \"Arkansas\": 6,\n",
    "    \"California\": 54,\n",
    "    \"Colorado\": 10,\n",
    "    \"Connecticut\": 7,\n",
    "    \"Delaware\": 3,\n",
    "    \"District of Columbia\": 3,\n",
    "    \"Florida\": 30,\n",
    "    \"Georgia\": 16,\n",
    "    \"Hawaii\": 4,\n",
    "    \"Idaho\": 4,\n",
    "    \"Illinois\": 19,\n",
    "    \"Indiana\": 11,\n",
    "    \"Iowa\": 6,\n",
    "    \"Kansas\": 6,\n",
    "    \"Kentucky\": 8,\n",
    "    \"Louisiana\": 8,\n",
    "    \"Maine\": 2,\n",
    "    \"ME-1\": 1,\n",
    "    \"ME-2\": 1,\n",
    "    \"Maryland\": 10,\n",
    "    \"Massachusetts\": 11,\n",
    "    \"Michigan\": 15,\n",
    "    \"Minnesota\": 10,\n",
    "    \"Mississippi\": 6,\n",
    "    \"Missouri\": 10,\n",
    "    \"Montana\": 4,\n",
    "    \"Nebraska\": 2,\n",
    "    \"NE-1\": 1,\n",
    "    \"NE-2\": 1,\n",
    "    \"NE-3\": 1,\n",
    "    \"Nevada\": 6,\n",
    "    \"New Hampshire\": 4,\n",
    "    \"New Jersey\": 14,\n",
    "    \"New Mexico\": 5,\n",
    "    \"New York\": 28,\n",
    "    \"North Carolina\": 16,\n",
    "    \"North Dakota\": 3,\n",
    "    \"Ohio\": 17,\n",
    "    \"Oklahoma\": 7,\n",
    "    \"Oregon\": 8,\n",
    "    \"Pennsylvania\": 19,\n",
    "    \"Rhode Island\": 4,\n",
    "    \"South Carolina\": 9,\n",
    "    \"South Dakota\": 3,\n",
    "    \"Tennessee\": 11,\n",
    "    \"Texas\": 40,\n",
    "    \"Utah\": 6,\n",
    "    \"Vermont\": 3,\n",
    "    \"Virginia\": 13,\n",
    "    \"Washington\": 12,\n",
    "    \"West Virginia\": 4,\n",
    "    \"Wisconsin\": 10,\n",
    "    \"Wyoming\": 3\n",
    "}"
   ]
  },
  {
   "cell_type": "markdown",
   "metadata": {},
   "source": [
    "From our data exploration, we have found that polling and spending data do not have a straightforward relationship with the results of an election. Higher polls or higher spending often does not correlate with winning the state. There is clearly a very complicated relationship between these features and which party wins the state. \n",
    "\n",
    "Due to this complex relationship between polling and spending data and election results, we decided to use a Multi-layer Perceptron. Being a neural network, it is better suited to handle more complex relationships. \n",
    "\n",
    "Furthermore, because we want to avoid label encoding in order to avoid introducing unintended ordinal relationships for the states, we will use One-Hot Encoding. Since there are 56 state/districts, this encoding will greatly increase the dimensionality of our dataset. Neural networks are also better suited to handling higher dimensional data.\n",
    "\n",
    "Note: Because our dataset is relatively small, we will use the lbfgs solver for the Multi-layer Perceptron Classifier as it tends to perform better on smaller datasets.\n",
    "\n",
    "To learn more about the inner workings of Multi-layer Perceptrons, go to: https://www.datacamp.com/tutorial/multilayer-perceptrons-in-machine-learning"
   ]
  },
  {
   "cell_type": "markdown",
   "metadata": {},
   "source": [
    "1. We will need to convert some categorical variables into encodings and normalize the numeric columns."
   ]
  },
  {
   "cell_type": "code",
   "execution_count": 81,
   "metadata": {},
   "outputs": [],
   "source": [
    "# Specify the column to apply OneHotEncoder\n",
    "categorical_columns = ['state']\n",
    "\n",
    "# Specify the columns for StandardScaler (assuming X_train is a DataFrame)\n",
    "numerical_columns = [col for col in X_train.columns if col not in categorical_columns]\n",
    "\n",
    "# Set up a preprocessor to help convert categorial columns into One Hot Encodings, and normalize the other values\n",
    "preprocessor = ColumnTransformer(\n",
    "    transformers=[\n",
    "        ('onehot', OneHotEncoder(handle_unknown='ignore'), categorical_columns),\n",
    "        ('scaler', StandardScaler(), numerical_columns)\n",
    "    ]\n",
    ")"
   ]
  },
  {
   "cell_type": "markdown",
   "metadata": {},
   "source": [
    "2. Now, we will need to create a MLPClassifier"
   ]
  },
  {
   "cell_type": "code",
   "execution_count": 82,
   "metadata": {},
   "outputs": [],
   "source": [
    "classifier = MLPClassifier(max_iter=500, solver='lbfgs')"
   ]
  },
  {
   "cell_type": "markdown",
   "metadata": {},
   "source": [
    "3. We will add each classifier to a pipline with the preprocessor and run it on the data. "
   ]
  },
  {
   "cell_type": "code",
   "execution_count": 83,
   "metadata": {},
   "outputs": [
    {
     "data": {
      "text/html": [
       "<div>\n",
       "<style scoped>\n",
       "    .dataframe tbody tr th:only-of-type {\n",
       "        vertical-align: middle;\n",
       "    }\n",
       "\n",
       "    .dataframe tbody tr th {\n",
       "        vertical-align: top;\n",
       "    }\n",
       "\n",
       "    .dataframe thead th {\n",
       "        text-align: right;\n",
       "    }\n",
       "</style>\n",
       "<table border=\"1\" class=\"dataframe\">\n",
       "  <thead>\n",
       "    <tr style=\"text-align: right;\">\n",
       "      <th></th>\n",
       "      <th>electoral_votes</th>\n",
       "    </tr>\n",
       "    <tr>\n",
       "      <th>predict</th>\n",
       "      <th></th>\n",
       "    </tr>\n",
       "  </thead>\n",
       "  <tbody>\n",
       "    <tr>\n",
       "      <th>DEMOCRAT</th>\n",
       "      <td>225</td>\n",
       "    </tr>\n",
       "    <tr>\n",
       "      <th>REPUBLICAN</th>\n",
       "      <td>310</td>\n",
       "    </tr>\n",
       "  </tbody>\n",
       "</table>\n",
       "</div>"
      ],
      "text/plain": [
       "            electoral_votes\n",
       "predict                    \n",
       "DEMOCRAT                225\n",
       "REPUBLICAN              310"
      ]
     },
     "execution_count": 83,
     "metadata": {},
     "output_type": "execute_result"
    }
   ],
   "source": [
    "pipeline = Pipeline(steps=[\n",
    "    ('preprocessor', preprocessor),\n",
    "    ('model', classifier)\n",
    "])\n",
    "\n",
    "pipeline.fit(X_train, y_train)\n",
    "\n",
    "y_pred = pipeline.predict(X_test)\n",
    "\n",
    "final_results = X_test.copy()\n",
    "final_results['actual'] = y_test\n",
    "final_results['predict'] = y_pred\n",
    "final_results[~(final_results['actual'] == final_results['predict'])]\n",
    "\n",
    "final_results['electoral_votes'] = final_results['state'].map(lambda e: electoral_votes[e])\n",
    "\n",
    "# Get the total electoral votes for each party\n",
    "final_results[['predict', 'electoral_votes']].groupby('predict').sum()"
   ]
  },
  {
   "cell_type": "markdown",
   "metadata": {},
   "source": [
    "Note: Because DC was lacking any polling for the 2024 cycle, it was not predicted, so the predicted electoral vote totals do not add to the correct 538."
   ]
  },
  {
   "cell_type": "markdown",
   "metadata": {},
   "source": [
    "Compare the predicted results to the actual results below:\n",
    "\n",
    "DEMOCRAT: 226\n",
    "\n",
    "REPUBLICAN: 312\n",
    "\n",
    "Real results excluding DC:\n",
    "\n",
    "DEMOCRAT: 223\n",
    "REPUBLICAN: 312"
   ]
  }
 ],
 "metadata": {
  "kernelspec": {
   "display_name": "jupyter",
   "language": "python",
   "name": "python3"
  },
  "language_info": {
   "codemirror_mode": {
    "name": "ipython",
    "version": 3
   },
   "file_extension": ".py",
   "mimetype": "text/x-python",
   "name": "python",
   "nbconvert_exporter": "python",
   "pygments_lexer": "ipython3",
   "version": "3.9.6"
  }
 },
 "nbformat": 4,
 "nbformat_minor": 2
}
