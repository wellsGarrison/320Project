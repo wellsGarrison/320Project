{
 "cells": [
  {
   "cell_type": "code",
   "execution_count": 64,
   "metadata": {},
   "outputs": [],
   "source": [
    "import numpy as np\n",
    "import pandas as pd\n",
    "import seaborn as sns\n",
    "import matplotlib.pyplot as plt\n",
    "import matplotlib.ticker as ticker\n",
    "import scipy\n",
    "from scipy.stats import wilcoxon\n",
    "import datetime"
   ]
  },
  {
   "cell_type": "markdown",
   "metadata": {},
   "source": [
    "Get total amount spent in each state for the 2024 election. "
   ]
  },
  {
   "cell_type": "code",
   "execution_count": 65,
   "metadata": {},
   "outputs": [],
   "source": [
    "years = ['2008', '2012', '2016', '2020', '2024']\n",
    "spending_dfs = dict()\n",
    "state_sums = dict()\n",
    "for year in years:\n",
    "    spending_dfs[year] = pd.read_csv(f\"spending_data_{year}.csv\", index_col=False, low_memory=False)\n",
    "    # state_sums[year] = spending_dfs[year].groupby('recipient_st').sum('disb_amt').sort_values('disb_amt')\n",
    "\n",
    "# spending_24_df = pd.read_csv(\"spending_data_2024.csv\", index_col=False, low_memory=False)\n",
    "# spending_24_df.groupby('recipient_st').sum('disb_amt').sort_values('disb_amt')\n",
    "# spending_24_df.head()\n",
    "# spending_dfs\n",
    "# state_sums['2024']"
   ]
  },
  {
   "cell_type": "code",
   "execution_count": 66,
   "metadata": {},
   "outputs": [
    {
     "data": {
      "text/plain": [
       "'2008'"
      ]
     },
     "metadata": {},
     "output_type": "display_data"
    },
    {
     "data": {
      "text/plain": [
       "array(['AL', 'AZ', 'CA', 'DC', 'DE', 'FL', 'GA', 'IA', 'ID', 'IL', 'MA',\n",
       "       'MD', 'MO', 'NC', 'NE', 'NH', 'NJ', 'NY', 'OH', 'OK', 'SC', 'SD',\n",
       "       'TN', 'TX', 'VA', 'WA', 'WV', 'AK', 'AR', 'CO', 'CT', 'IN', 'KY',\n",
       "       'LA', 'ME', 'MI', 'MN', 'NV', 'PA', 'UT', '99', 'FF', 'GU', 'HI',\n",
       "       'KS', 'MS', 'MT', 'ND', 'NM', 'NS', 'ON', 'OR', 'PR', 'QC', 'RI',\n",
       "       'UK', 'VT', 'WI', 'WY', 'XX', 'Z', 'ZZ', 'AA', 'AB', 'BC', 'CH',\n",
       "       'JA', 'KL', 'MB', 'SO', '10', '13', '60', 'AS', 'BE', 'C', 'CN',\n",
       "       'EN', 'FR', 'GE', 'GR', 'I', 'II', 'IS', 'JO', 'JR', 'K', 'KA',\n",
       "       'LU', 'N', 'RP', 'SH', 'SW', 'TW', 'VI', 'VW', '46', 'IR', 'MY',\n",
       "       'OA', 'PU', 'T', 'WW'], dtype=object)"
      ]
     },
     "metadata": {},
     "output_type": "display_data"
    },
    {
     "data": {
      "text/plain": [
       "'2012'"
      ]
     },
     "metadata": {},
     "output_type": "display_data"
    },
    {
     "data": {
      "text/plain": [
       "array(['AZ', 'CA', 'CO', 'DC', 'FL', 'GA', 'IA', 'IL', 'KS', 'LA', 'MD',\n",
       "       'MN', 'NE', 'NH', 'NJ', 'NY', 'OH', 'PA', 'SC', 'TX', 'UT', 'VA',\n",
       "       'WA', 'WI', 'AK', 'AL', 'AR', 'BC', 'CT', 'D.', 'DE', 'HI', 'ID',\n",
       "       'IN', 'KY', 'MA', 'ME', 'MI', 'MO', 'MS', 'MT', 'MY', 'NC', 'ND',\n",
       "       'NM', 'NV', 'OK', 'OR', 'PO', 'PR', 'RI', 'SD', 'SW', 'TN', 'VT',\n",
       "       'WV', 'WY', 'HA', 'JO', 'MH', 'NS', 'ON', 'QC', 'ZZ', 'GU', 'AU',\n",
       "       'N.', 'HN'], dtype=object)"
      ]
     },
     "metadata": {},
     "output_type": "display_data"
    },
    {
     "data": {
      "text/plain": [
       "'2016'"
      ]
     },
     "metadata": {},
     "output_type": "display_data"
    },
    {
     "data": {
      "text/plain": [
       "array(['AK', 'AL', 'AR', 'AZ', 'CA', 'CO', 'CT', 'DC', 'DE', 'FL', 'GA',\n",
       "       'HI', 'IA', 'ID', 'IL', 'IN', 'KA', 'KS', 'KY', 'LA', 'MA', 'MD',\n",
       "       'ME', 'MI', 'MN', 'MO', 'MP', 'MT', 'NB', 'NC', 'NH', 'NJ', 'NV',\n",
       "       'NY', 'OH', 'OK', 'ON', 'PA', 'PR', 'RI', 'SA', 'SC', 'SD', 'TN',\n",
       "       'TX', 'UK', 'UT', 'VA', 'VI', 'VT', 'WA', 'WI', 'WV', 'WY', 'AB',\n",
       "       'AM', 'BC', 'NE', 'OR', 'ZZ', 'AU', 'GB', 'GU', 'MS', 'ND', 'NM',\n",
       "       'QC', 'D.', 'LO', 'AS', 'FF'], dtype=object)"
      ]
     },
     "metadata": {},
     "output_type": "display_data"
    },
    {
     "data": {
      "text/plain": [
       "'2020'"
      ]
     },
     "metadata": {},
     "output_type": "display_data"
    },
    {
     "data": {
      "text/plain": [
       "array(['AZ', 'CA', 'CO', 'CT', 'DC', 'FL', 'GA', 'IA', 'IL', 'LA', 'MD',\n",
       "       'MN', 'MO', 'NC', 'NE', 'NH', 'NJ', 'NV', 'NY', 'OH', 'OK', 'PA',\n",
       "       'SC', 'TN', 'TX', 'UK', 'WA', 'AL', 'AR', 'BC', 'DE', 'HI', 'ID',\n",
       "       'IN', 'KY', 'MA', 'ME', 'MI', 'ND', 'OR', 'SD', 'UT', 'VA', 'WI',\n",
       "       'WV', 'WY', 'VT', 'AK', 'KS', 'MP', 'MS', 'MT', 'NM', 'RI', 'ZZ',\n",
       "       'AB', 'EA', 'ON', 'PE', 'ST', 'PR', 'AS', 'NS', 'AU', 'VI', 'SU',\n",
       "       'BR', 'AA', 'AE'], dtype=object)"
      ]
     },
     "metadata": {},
     "output_type": "display_data"
    },
    {
     "data": {
      "text/plain": [
       "'2024'"
      ]
     },
     "metadata": {},
     "output_type": "display_data"
    },
    {
     "data": {
      "text/plain": [
       "array(['AL', 'AR', 'AZ', 'CA', 'CO', 'CT', 'DC', 'FL', 'GA', 'IA', 'IL',\n",
       "       'IN', 'LA', 'MA', 'MD', 'ME', 'MN', 'MO', 'NC', 'NE', 'NH', 'NJ',\n",
       "       'NY', 'OK', 'PA', 'SC', 'TN', 'TX', 'VA', 'VI', 'WA', 'WI', 'WY',\n",
       "       'ZZ', 'OH', 'WV', 'AK', 'AS', 'DE', 'HI', 'ID', 'KS', 'KY', 'MI',\n",
       "       'MP', 'MS', 'MT', 'ND', 'NM', 'NV', 'OR', 'RI', 'UT', 'VT', 'GU',\n",
       "       'PR', 'SD', 'AB', 'GB', 'ON', 'AU', 'C', 'F', 'G', 'I', 'N', 'QC',\n",
       "       'T', 'TH', 'UK', 'W', 'AA'], dtype=object)"
      ]
     },
     "metadata": {},
     "output_type": "display_data"
    }
   ],
   "source": [
    "for year, df in spending_dfs.items():\n",
    "    display(year, df['recipient_st'].unique())\n",
    "    # display(df.groupby('recipient_st').count())\n",
    "\n",
    "# display(spending_24_df['recipient_st'].unique())\n",
    "states = ['AL', 'AR', 'AZ', 'CA', 'CO', 'CT', 'DC', 'FL', 'GA', 'IA', 'IL',\n",
    "       'IN', 'LA', 'MA', 'MD', 'ME', 'MN', 'MO', 'NC', 'NE', 'NH', 'NJ',\n",
    "       'NY', 'OK', 'PA', 'SC', 'TN', 'TX', 'VA', 'WA', 'WI', 'WY',\n",
    "       'OH', 'WV', 'AK', 'DE', 'HI', 'ID', 'KS', 'KY', 'MI',\n",
    "       'MS', 'MT', 'ND', 'NM', 'NV', 'OR', 'RI', 'UT', 'VT',\n",
    "       'SD', 'C', 'F', 'G', 'I', 'N',\n",
    "       'T', 'AA'] \n",
    "# C F G I N T AA are errors that need to be replaced with the correct state "
   ]
  },
  {
   "cell_type": "markdown",
   "metadata": {},
   "source": [
    "Upon inspection some states have been labeled wrong. For example some rows have C, since they occur in san francisco we can assume this should be CA. "
   ]
  },
  {
   "cell_type": "code",
   "execution_count": 79,
   "metadata": {},
   "outputs": [
    {
     "name": "stdout",
     "output_type": "stream",
     "text": [
      "90\n",
      "63\n",
      "70\n",
      "69\n",
      "51\n"
     ]
    }
   ],
   "source": [
    "# correct 2008 states \n",
    "spending_dfs['2008']['recipient_st']= spending_dfs['2008']['recipient_st'].replace({'AA': 'MA', 'C': 'CA', 'I': 'IA', 'II': 'IL', 'K': 'KS', 'KA': 'KS' , 'N': 'NC', 'VW': 'WV', '46': 'IN', 'MY': 'MT', 'OA': 'PA', 'T': 'TX', 'WW': 'WA'})\n",
    "\n",
    "# AA = MA\n",
    "# C = CA\n",
    "# I = Iowa\n",
    "# ii = illinois\n",
    "# k = kansas\n",
    "# ka = kansas \n",
    "# N = nc\n",
    "# vw = wv\n",
    "# 46 = indianapolis\n",
    "# MY = MT\n",
    "# OA = pa\n",
    "# t = tx\n",
    "# ww = wa\n",
    "\n",
    "\n",
    "# correct 2012 states \n",
    "spending_dfs['2012']['recipient_st']= spending_dfs['2012']['recipient_st'].replace({'D.': 'DC', 'MY': 'NY', 'HA': 'HI', 'MH': 'NH', 'HN': 'NH'})\n",
    "\n",
    "# \"D.\" = \"DC\"\n",
    "# MY = NY\n",
    "# HA = HI\n",
    "# MH = NH\n",
    "# HN = HN\n",
    "\n",
    "# correct 2016 states \n",
    "spending_dfs['2016']['recipient_st']= spending_dfs['2016']['recipient_st'].replace({'D.': 'DC', 'MY': 'NY', 'HA': 'HI', 'MH': 'NH', 'HN': 'NH'})\n",
    "\n",
    "# nb = ne\n",
    "# d. = dc\n",
    "\n",
    "\n",
    "# correct 2020 states \n",
    "# none\n",
    "\n",
    "\n",
    "# correct 2024 states \n",
    "spending_dfs['2024']['recipient_st']= spending_dfs['2024']['recipient_st'].replace({'C': 'CA', 'AA': 'CA', 'F': 'FL', 'G': 'GA', 'T': 'TX'})\n",
    "spending_dfs['2024'].loc[spending_dfs['2024']['recipient_zip'] == '46038', 'recipient_st'] = 'IN'\n",
    "spending_dfs['2024']['recipient_st'] = spending_dfs['2024']['recipient_st'].replace('I', 'IA')\n",
    "spending_dfs['2024'].loc[spending_dfs['2024']['recipient_zip'] == '03276', 'recipient_st'] = 'NH'\n",
    "spending_dfs['2024'].loc[spending_dfs['2024']['recipient_zip'] == '03063', 'recipient_st'] = 'NH'\n",
    "spending_dfs['2024']['recipient_st'] = spending_dfs['2024']['recipient_st'].replace('N', 'NY')\n",
    "\n",
    "\n",
    "# display(spending_dfs['2024']['recipient_st'].unique())\n",
    "\n",
    "\n",
    "# display(spending_dfs['2024'][spending_dfs['2024']['recipient_st'] == \"N\"])\n",
    "# I needs to be handled separatley, 3 are Iowa 1 is indiana, so does N\n",
    "# display(spending_dfs['2024']['recipient_st'].unique())\n",
    "# states = ['AL', 'AR', 'AZ', 'CA', 'CO', 'CT', 'DC', 'FL', 'GA', 'IA', 'IL',\n",
    "#        'IN', 'LA', 'MA', 'MD', 'ME', 'MN', 'MO', 'NC', 'NE', 'NH', 'NJ',\n",
    "#        'NY', 'OK', 'PA', 'SC', 'TN', 'TX', 'VA', 'WA', 'WI', 'WY',\n",
    "#        'OH', 'WV', 'AK', 'DE', 'HI', 'ID', 'KS', 'KY', 'MI',\n",
    "#        'MS', 'MT', 'ND', 'NM', 'NV', 'OR', 'RI', 'UT', 'VT',\n",
    "#        'SD', 'C', 'F', 'G', 'I', 'N',\n",
    "#        'T', 'AA'] \n",
    "\n",
    "# spending_dfs['2024']['recipient_st'].unique()\n",
    "# spending_dfs['2024'][spending_dfs['2024']['recipient_st'].isin(['MD', 'NC'])]\n",
    "\n",
    "states = [\n",
    "        'AL', 'AR', 'AZ', 'CA', 'CO', 'CT', 'DC', 'FL', 'GA', 'IA', \n",
    "        'IL', 'IN', 'LA', 'MA', 'MD', 'ME', 'MN', 'MO', 'NC', 'NE', \n",
    "        'NH', 'NJ', 'NY', 'OK', 'PA', 'SC', 'TN', 'TX', 'VA', 'SD',\n",
    "        'WA', 'WI', 'WY', 'OH', 'WV', 'AK', 'DE', 'HI', 'ID', 'KS', \n",
    "        'KY', 'MI', 'MS', 'MT', 'ND', 'NM', 'NV', 'OR', 'RI', 'UT', \n",
    "        'VT'\n",
    "        ]\n",
    "\n",
    "# print(spending_dfs['2024']['recipient_st'].unique())\n",
    "# spending_dfs['2024'] = spending_dfs['2024'][spending_dfs['2024']['recipient_st'].isin(states)]\n",
    "# spending_dfs['2024'] = spending_dfs['2024'][spending_dfs['2024']['recipient_st'].isin(states)]\n",
    "# spending_dfs['2024'] = spending_dfs['2024'][spending_dfs['2024']['recipient_st'].isin(states)]\n",
    "# spending_dfs['2024'] = spending_dfs['2024'][spending_dfs['2024']['recipient_st'].isin(states)]\n",
    "# spending_dfs['2024'] = spending_dfs['2024'][spending_dfs['2024']['recipient_st'].isin(states)]\n",
    "\n",
    "# print(len(spending_dfs['2024']['recipient_st'].unique()))\n",
    "for year in spending_dfs:\n",
    "    spending_dfs[year] = spending_dfs[year][spending_dfs[year]['recipient_st'].isin(states)]\n",
    "    # print(len(df['recipient_st'].unique()))\n",
    "\n",
    "for df in spending_dfs.values():\n",
    "    # df = df[df['recipient_st'].isin(states)]\n",
    "    print(len(df['recipient_st'].unique()))\n",
    "    \n",
    "# spending_dfs['2024']['recipient_st'].unique()"
   ]
  },
  {
   "cell_type": "code",
   "execution_count": 78,
   "metadata": {},
   "outputs": [
    {
     "name": "stdout",
     "output_type": "stream",
     "text": [
      "90\n",
      "63\n",
      "70\n",
      "69\n",
      "51\n"
     ]
    }
   ],
   "source": [
    "# spending_dfs[\"2024\"]['new_col'] = spending_dfs[\"2024\"]['recipient_st'] + \"_2024\"\n",
    "# spending_dfs[\"2024\"]\n",
    "\n",
    "for year in years:\n",
    "    print(len(spending_dfs[year]['recipient_st'].unique()))\n",
    "    state_sums[year] = spending_dfs[year].groupby('recipient_st').sum('disb_amt').sort_values('disb_amt')\n",
    "\n",
    "\n",
    "for year, st_sum in state_sums.items():\n",
    "    st_sum['state_year'] = st_sum.index + f\"_{year}\"\n",
    "\n",
    "\n",
    "# state_sums['2024']\n",
    "# spending_dfs[\"2024\"]['recipient_st']"
   ]
  },
  {
   "cell_type": "code",
   "execution_count": 77,
   "metadata": {},
   "outputs": [
    {
     "data": {
      "text/html": [
       "<div>\n",
       "<style scoped>\n",
       "    .dataframe tbody tr th:only-of-type {\n",
       "        vertical-align: middle;\n",
       "    }\n",
       "\n",
       "    .dataframe tbody tr th {\n",
       "        vertical-align: top;\n",
       "    }\n",
       "\n",
       "    .dataframe thead th {\n",
       "        text-align: right;\n",
       "    }\n",
       "</style>\n",
       "<table border=\"1\" class=\"dataframe\">\n",
       "  <thead>\n",
       "    <tr style=\"text-align: right;\">\n",
       "      <th></th>\n",
       "      <th>disb_amt</th>\n",
       "      <th>file_num</th>\n",
       "      <th>state_year</th>\n",
       "    </tr>\n",
       "    <tr>\n",
       "      <th>recipient_st</th>\n",
       "      <th></th>\n",
       "      <th></th>\n",
       "      <th></th>\n",
       "    </tr>\n",
       "  </thead>\n",
       "  <tbody>\n",
       "    <tr>\n",
       "      <th>QC</th>\n",
       "      <td>5.063000e+01</td>\n",
       "      <td>876920</td>\n",
       "      <td>QC_2008</td>\n",
       "    </tr>\n",
       "    <tr>\n",
       "      <th>LU</th>\n",
       "      <td>8.753000e+01</td>\n",
       "      <td>10159293</td>\n",
       "      <td>LU_2008</td>\n",
       "    </tr>\n",
       "    <tr>\n",
       "      <th>RP</th>\n",
       "      <td>2.321000e+02</td>\n",
       "      <td>753674</td>\n",
       "      <td>RP_2008</td>\n",
       "    </tr>\n",
       "    <tr>\n",
       "      <th>AS</th>\n",
       "      <td>2.500000e+02</td>\n",
       "      <td>753674</td>\n",
       "      <td>AS_2008</td>\n",
       "    </tr>\n",
       "    <tr>\n",
       "      <th>CN</th>\n",
       "      <td>3.450000e+02</td>\n",
       "      <td>753817</td>\n",
       "      <td>CN_2008</td>\n",
       "    </tr>\n",
       "    <tr>\n",
       "      <th>...</th>\n",
       "      <td>...</td>\n",
       "      <td>...</td>\n",
       "      <td>...</td>\n",
       "    </tr>\n",
       "    <tr>\n",
       "      <th>FL</th>\n",
       "      <td>5.477338e+07</td>\n",
       "      <td>6992813013</td>\n",
       "      <td>FL_2024</td>\n",
       "    </tr>\n",
       "    <tr>\n",
       "      <th>CA</th>\n",
       "      <td>6.363917e+07</td>\n",
       "      <td>39235915976</td>\n",
       "      <td>CA_2024</td>\n",
       "    </tr>\n",
       "    <tr>\n",
       "      <th>VA</th>\n",
       "      <td>1.432239e+08</td>\n",
       "      <td>15642195573</td>\n",
       "      <td>VA_2024</td>\n",
       "    </tr>\n",
       "    <tr>\n",
       "      <th>GA</th>\n",
       "      <td>1.442737e+08</td>\n",
       "      <td>9776219954</td>\n",
       "      <td>GA_2024</td>\n",
       "    </tr>\n",
       "    <tr>\n",
       "      <th>DC</th>\n",
       "      <td>2.215692e+08</td>\n",
       "      <td>8484361191</td>\n",
       "      <td>DC_2024</td>\n",
       "    </tr>\n",
       "  </tbody>\n",
       "</table>\n",
       "<p>343 rows × 3 columns</p>\n",
       "</div>"
      ],
      "text/plain": [
       "                  disb_amt     file_num state_year\n",
       "recipient_st                                      \n",
       "QC            5.063000e+01       876920    QC_2008\n",
       "LU            8.753000e+01     10159293    LU_2008\n",
       "RP            2.321000e+02       753674    RP_2008\n",
       "AS            2.500000e+02       753674    AS_2008\n",
       "CN            3.450000e+02       753817    CN_2008\n",
       "...                    ...          ...        ...\n",
       "FL            5.477338e+07   6992813013    FL_2024\n",
       "CA            6.363917e+07  39235915976    CA_2024\n",
       "VA            1.432239e+08  15642195573    VA_2024\n",
       "GA            1.442737e+08   9776219954    GA_2024\n",
       "DC            2.215692e+08   8484361191    DC_2024\n",
       "\n",
       "[343 rows x 3 columns]"
      ]
     },
     "execution_count": 77,
     "metadata": {},
     "output_type": "execute_result"
    }
   ],
   "source": [
    "all_state_sums_df = pd.concat(state_sums.values())\n",
    "all_state_sums_df"
   ]
  }
 ],
 "metadata": {
  "kernelspec": {
   "display_name": "Python 3",
   "language": "python",
   "name": "python3"
  },
  "language_info": {
   "codemirror_mode": {
    "name": "ipython",
    "version": 3
   },
   "file_extension": ".py",
   "mimetype": "text/x-python",
   "name": "python",
   "nbconvert_exporter": "python",
   "pygments_lexer": "ipython3",
   "version": "3.9.6"
  },
  "orig_nbformat": 4
 },
 "nbformat": 4,
 "nbformat_minor": 2
}
