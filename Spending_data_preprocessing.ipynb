{
 "cells": [
  {
   "cell_type": "markdown",
   "metadata": {},
   "source": [
    "Spending data processing\n",
    "\n",
    "In this section I will process the data from the FEC to get the total amount spent by each presidential candidate in each state for the 2008, 2012, 2016, 2020, and 2024 elctions. \n",
    "\n",
    "Raw data is from here: https://www.fec.gov/data/candidates/president/presidential-map/ \n",
    "To get the data yourself, use the dropdown menu to select the electin year, open the tab on the side of the map for spending, and click \"Export spending data\". \n",
    "The files do not have labeled names so you need to label them accordingly, we have followed the pattern \"spending_data_{year}.csv\". "
   ]
  },
  {
   "cell_type": "code",
   "execution_count": 125,
   "metadata": {},
   "outputs": [],
   "source": [
    "import numpy as np\n",
    "import pandas as pd\n",
    "import seaborn as sns\n",
    "import matplotlib.pyplot as plt\n",
    "import matplotlib.ticker as ticker\n",
    "import scipy\n",
    "from scipy.stats import wilcoxon\n",
    "import datetime"
   ]
  },
  {
   "cell_type": "markdown",
   "metadata": {},
   "source": [
    "Import spending data of presidential candidates for the 2008, 2012, 2016, 2020, and 2024 elctions. "
   ]
  },
  {
   "cell_type": "code",
   "execution_count": 126,
   "metadata": {},
   "outputs": [],
   "source": [
    "years = ['2008', '2012', '2016', '2020', '2024']\n",
    "spending_dfs = dict()\n",
    "state_sums = dict()\n",
    "for year in years:\n",
    "    spending_dfs[year] = pd.read_csv(f\"spending_data_{year}.csv\", index_col=False, low_memory=False)\n",
    "    # state_sums[year] = spending_dfs[year].groupby('recipient_st').sum('disb_amt').sort_values('disb_amt')\n",
    "\n",
    "# spending_24_df = pd.read_csv(\"spending_data_2024.csv\", index_col=False, low_memory=False)\n",
    "# spending_24_df.groupby('recipient_st').sum('disb_amt').sort_values('disb_amt')\n",
    "# spending_24_df.head()\n",
    "# spending_dfs\n",
    "# state_sums['2024']"
   ]
  },
  {
   "cell_type": "markdown",
   "metadata": {},
   "source": [
    "Upon inspection some states have been labeled wrong. For example some rows have C, since they occur in san francisco we can assume this should be CA. \n",
    "\n",
    "For each year I have a comment labeling which abbreviations need to be replaced, for example in 2008 'AA' needs to be replaced by 'MA'. \n",
    "\n",
    "Most were done with a simple dictionary replace, but in 2024 some bad labels were for different states, for example zip codes in Iowa and Indiana were both labled 'I', so these require extra attention to replace them by zip code. \n",
    "\n",
    "Then once all errors are corrected we remove all rows where the recipient state is not one of the 50 US states or DC, for example some transactions are labled as \"UK\" which isn't useful for our analysis. "
   ]
  },
  {
   "cell_type": "code",
   "execution_count": 166,
   "metadata": {},
   "outputs": [],
   "source": [
    "# correct 2008 states \n",
    "spending_dfs['2008']['recipient_st']= spending_dfs['2008']['recipient_st'].replace({'AA': 'MA', 'C': 'CA', 'I': 'IA', 'II': 'IL', 'K': 'KS', 'KA': 'KS' , 'N': 'NC', 'VW': 'WV', '46': 'IN', 'MY': 'MT', 'OA': 'PA', 'T': 'TX', 'WW': 'WA'})\n",
    "\n",
    "# AA = MA\n",
    "# C = CA\n",
    "# I = IA\n",
    "# II = IL\n",
    "# K = KS\n",
    "# KA = KS \n",
    "# N = NC\n",
    "# VW = WV\n",
    "# 46 = IN\n",
    "# MY = MT\n",
    "# OA = PA\n",
    "# T = TX\n",
    "# WW = WA\n",
    "\n",
    "\n",
    "# correct 2012 states \n",
    "spending_dfs['2012']['recipient_st']= spending_dfs['2012']['recipient_st'].replace({'D.': 'DC', 'MY': 'NY', 'HA': 'HI', 'MH': 'NH', 'HN': 'NH'})\n",
    "\n",
    "# \"D.\" = \"DC\"\n",
    "# MY = NY\n",
    "# HA = HI\n",
    "# MH = NH\n",
    "# HN = HN\n",
    "\n",
    "# correct 2016 states \n",
    "spending_dfs['2016']['recipient_st']= spending_dfs['2016']['recipient_st'].replace({'D.': 'DC', 'MY': 'NY', 'HA': 'HI', 'MH': 'NH', 'HN': 'NH'})\n",
    "\n",
    "# NB = NE\n",
    "# D. = DC\n",
    "\n",
    "\n",
    "# correct 2020 states \n",
    "# none\n",
    "\n",
    "\n",
    "# correct 2024 states \n",
    "spending_dfs['2024']['recipient_st']= spending_dfs['2024']['recipient_st'].replace({'C': 'CA', 'AA': 'CA', 'F': 'FL', 'G': 'GA', 'T': 'TX'})\n",
    "spending_dfs['2024'].loc[spending_dfs['2024']['recipient_zip'] == '46038', 'recipient_st'] = 'IN'\n",
    "spending_dfs['2024']['recipient_st'] = spending_dfs['2024']['recipient_st'].replace('I', 'IA')\n",
    "spending_dfs['2024'].loc[spending_dfs['2024']['recipient_zip'] == '03276', 'recipient_st'] = 'NH'\n",
    "spending_dfs['2024'].loc[spending_dfs['2024']['recipient_zip'] == '03063', 'recipient_st'] = 'NH'\n",
    "spending_dfs['2024']['recipient_st'] = spending_dfs['2024']['recipient_st'].replace('N', 'NY')\n",
    "\n",
    "# C = CA,\n",
    "# AA = CA\n",
    "# F = FL\n",
    "# G = GA\n",
    "# T = TX\n",
    "# I = IN or IA\n",
    "# N = NH or NY\n",
    "\n",
    "\n",
    "states = [\n",
    "        'AL', 'AR', 'AZ', 'CA', 'CO', 'CT', 'DC', 'FL', 'GA', 'IA', \n",
    "        'IL', 'IN', 'LA', 'MA', 'MD', 'ME', 'MN', 'MO', 'NC', 'NE', \n",
    "        'NH', 'NJ', 'NY', 'OK', 'PA', 'SC', 'TN', 'TX', 'VA', 'SD',\n",
    "        'WA', 'WI', 'WY', 'OH', 'WV', 'AK', 'DE', 'HI', 'ID', 'KS', \n",
    "        'KY', 'MI', 'MS', 'MT', 'ND', 'NM', 'NV', 'OR', 'RI', 'UT', \n",
    "        'VT'\n",
    "        ]\n",
    "\n",
    "# remove transactions not in the 50 states or DC\n",
    "for year in spending_dfs:\n",
    "    spending_dfs[year] = spending_dfs[year][spending_dfs[year]['recipient_st'].isin(states)]\n"
   ]
  },
  {
   "cell_type": "markdown",
   "metadata": {},
   "source": [
    "Next we want to remove the candidates that aren't either the Democratic or Republican nominee, while other candidates exist they don't receive a significant amount of votes. This will leave us with a dataframe per candidate per election year, so 10 in total. "
   ]
  },
  {
   "cell_type": "code",
   "execution_count": 168,
   "metadata": {},
   "outputs": [],
   "source": [
    "party_spending_dfs = {}\n",
    "\n",
    "# 2008\n",
    "# Republican: 'McCain, John S'\n",
    "# Dem : 'Obama, Barack'\n",
    "# spending_dfs['2008'] = spending_dfs['2024'][spending_dfs['2024']['cand_nm'].isin(['McCain, John S', 'Obama, Barack'])]\n",
    "party_spending_dfs['2008_R'] = spending_dfs['2008'][spending_dfs['2008']['cand_nm'] == 'McCain, John S']\n",
    "party_spending_dfs['2008_D'] = spending_dfs['2008'][spending_dfs['2008']['cand_nm'] == 'Obama, Barack']\n",
    "\n",
    "# 2012\n",
    "# Rep: 'Romney, Mitt'\n",
    "# Dem: 'Obama, Barack'\n",
    "# spending_dfs['2012'] = spending_dfs['2024'][spending_dfs['2024']['cand_nm'].isin(['Romney, Mitt', 'Obama, Barack'])]\n",
    "party_spending_dfs['2012_R'] = spending_dfs['2012'][spending_dfs['2012']['cand_nm'] == 'Romney, Mitt']\n",
    "party_spending_dfs['2012_D'] = spending_dfs['2012'][spending_dfs['2012']['cand_nm'] == 'Obama, Barack']\n",
    "\n",
    "# 2016\n",
    "# Rep: 'Trump, Donald J.'\n",
    "# Dem: 'Clinton, Hillary Rodham'\n",
    "# spending_dfs['2016'] = spending_dfs['2024'][spending_dfs['2024']['cand_nm'].isin(['Trump, Donald J.', 'Clinton, Hillary Rodham'])]\n",
    "party_spending_dfs['2016_R'] = spending_dfs['2016'][spending_dfs['2016']['cand_nm'] == 'Trump, Donald J.']\n",
    "party_spending_dfs['2016_D'] = spending_dfs['2016'][spending_dfs['2016']['cand_nm'] == 'Clinton, Hillary Rodham']\n",
    "\n",
    "# 2020\n",
    "# Rep: 'Trump, Donald J.'\n",
    "# Dem: 'Biden, Joseph R Jr'\n",
    "# spending_dfs['2020'] = spending_dfs['2024'][spending_dfs['2024']['cand_nm'].isin(['Trump, Donald J.', 'Biden, Joseph R Jr'])]\n",
    "party_spending_dfs['2020_R'] = spending_dfs['2020'][spending_dfs['2020']['cand_nm'] == 'Trump, Donald J.']\n",
    "party_spending_dfs['2020_D'] = spending_dfs['2020'][spending_dfs['2020']['cand_nm'] == 'Biden, Joseph R Jr']\n",
    "\n",
    "# 2024\n",
    "# Rep: 'Trump, Donald J.'\n",
    "# Dem: 'Harris, Kamala' \n",
    "# spending_dfs['2024'] = spending_dfs['2024'][spending_dfs['2024']['cand_nm'].isin(['Trump, Donald J.', 'Harris, Kamala'])]\n",
    "party_spending_dfs['2024_R'] = spending_dfs['2024'][spending_dfs['2024']['cand_nm'] == 'Trump, Donald J.']\n",
    "party_spending_dfs['2024_D'] = spending_dfs['2024'][spending_dfs['2024']['cand_nm'] == 'Harris, Kamala']\n"
   ]
  },
  {
   "cell_type": "markdown",
   "metadata": {},
   "source": [
    "At the end we check to see if any states/DC are missing data, and see both 2024 "
   ]
  },
  {
   "cell_type": "code",
   "execution_count": null,
   "metadata": {},
   "outputs": [],
   "source": [
    "for year in party_spending_dfs:\n",
    "    print(year, len(party_spending_dfs[year]['recipient_st'].unique()))"
   ]
  },
  {
   "cell_type": "code",
   "execution_count": 139,
   "metadata": {},
   "outputs": [
    {
     "name": "stdout",
     "output_type": "stream",
     "text": [
      "SD\n"
     ]
    }
   ],
   "source": [
    "# print(spending_dfs['2024']['recipient_st'].unique())\n",
    "\n",
    "for state in states:\n",
    "    if state not in party_spending_dfs['2024_R']['recipient_st'].unique():\n",
    "        print(state)"
   ]
  },
  {
   "cell_type": "code",
   "execution_count": 131,
   "metadata": {},
   "outputs": [],
   "source": [
    "# print(spending_dfs.keys())\n",
    "# print(party_spending_dfs.keys())\n",
    "party_years = list(party_spending_dfs.keys())"
   ]
  },
  {
   "cell_type": "code",
   "execution_count": 165,
   "metadata": {},
   "outputs": [],
   "source": [
    "# spending_dfs[\"2024\"]['new_col'] = spending_dfs[\"2024\"]['recipient_st'] + \"_2024\"\n",
    "# spending_dfs[\"2024\"]\n",
    "\n",
    "for year in party_years:\n",
    "    # print(len(spending_dfs[year]['recipient_st'].unique()))\n",
    "    state_sums[year] = party_spending_dfs[year].groupby('recipient_st').sum('disb_amt').sort_values('disb_amt')\n",
    "    state_sums[year] = state_sums[year].drop('file_num', axis=1)\n",
    "\n",
    "\n",
    "for year, st_sum in state_sums.items():\n",
    "    st_sum['state_year'] = st_sum.index + f\"_{year}\"\n"
   ]
  },
  {
   "cell_type": "markdown",
   "metadata": {},
   "source": [
    "For 2024, neither Harris nor Trump recorded spending in South Dakota. so we add rows for this missing data to keep it consistent with previous years. "
   ]
  },
  {
   "cell_type": "code",
   "execution_count": 163,
   "metadata": {},
   "outputs": [],
   "source": [
    "state_sums['2024_D'].loc['SD']=[0, \"SD_2024_D\"]\n",
    "state_sums['2024_R'].loc['SD']=[0, \"SD_2024_R\"]\n"
   ]
  },
  {
   "cell_type": "code",
   "execution_count": 164,
   "metadata": {},
   "outputs": [
    {
     "data": {
      "text/html": [
       "<div>\n",
       "<style scoped>\n",
       "    .dataframe tbody tr th:only-of-type {\n",
       "        vertical-align: middle;\n",
       "    }\n",
       "\n",
       "    .dataframe tbody tr th {\n",
       "        vertical-align: top;\n",
       "    }\n",
       "\n",
       "    .dataframe thead th {\n",
       "        text-align: right;\n",
       "    }\n",
       "</style>\n",
       "<table border=\"1\" class=\"dataframe\">\n",
       "  <thead>\n",
       "    <tr style=\"text-align: right;\">\n",
       "      <th></th>\n",
       "      <th>disb_amt</th>\n",
       "      <th>state_year</th>\n",
       "    </tr>\n",
       "    <tr>\n",
       "      <th>recipient_st</th>\n",
       "      <th></th>\n",
       "      <th></th>\n",
       "    </tr>\n",
       "  </thead>\n",
       "  <tbody>\n",
       "    <tr>\n",
       "      <th>ND</th>\n",
       "      <td>2.982530e+03</td>\n",
       "      <td>ND_2008_R</td>\n",
       "    </tr>\n",
       "    <tr>\n",
       "      <th>WY</th>\n",
       "      <td>4.573600e+03</td>\n",
       "      <td>WY_2008_R</td>\n",
       "    </tr>\n",
       "    <tr>\n",
       "      <th>ID</th>\n",
       "      <td>6.016700e+03</td>\n",
       "      <td>ID_2008_R</td>\n",
       "    </tr>\n",
       "    <tr>\n",
       "      <th>HI</th>\n",
       "      <td>6.673290e+03</td>\n",
       "      <td>HI_2008_R</td>\n",
       "    </tr>\n",
       "    <tr>\n",
       "      <th>DE</th>\n",
       "      <td>6.685440e+03</td>\n",
       "      <td>DE_2008_R</td>\n",
       "    </tr>\n",
       "    <tr>\n",
       "      <th>...</th>\n",
       "      <td>...</td>\n",
       "      <td>...</td>\n",
       "    </tr>\n",
       "    <tr>\n",
       "      <th>CA</th>\n",
       "      <td>1.724403e+07</td>\n",
       "      <td>CA_2024_D</td>\n",
       "    </tr>\n",
       "    <tr>\n",
       "      <th>PA</th>\n",
       "      <td>1.908446e+07</td>\n",
       "      <td>PA_2024_D</td>\n",
       "    </tr>\n",
       "    <tr>\n",
       "      <th>GA</th>\n",
       "      <td>1.399371e+08</td>\n",
       "      <td>GA_2024_D</td>\n",
       "    </tr>\n",
       "    <tr>\n",
       "      <th>DC</th>\n",
       "      <td>2.110289e+08</td>\n",
       "      <td>DC_2024_D</td>\n",
       "    </tr>\n",
       "    <tr>\n",
       "      <th>SD</th>\n",
       "      <td>0.000000e+00</td>\n",
       "      <td>SD_2024_D</td>\n",
       "    </tr>\n",
       "  </tbody>\n",
       "</table>\n",
       "<p>510 rows × 2 columns</p>\n",
       "</div>"
      ],
      "text/plain": [
       "                  disb_amt state_year\n",
       "recipient_st                         \n",
       "ND            2.982530e+03  ND_2008_R\n",
       "WY            4.573600e+03  WY_2008_R\n",
       "ID            6.016700e+03  ID_2008_R\n",
       "HI            6.673290e+03  HI_2008_R\n",
       "DE            6.685440e+03  DE_2008_R\n",
       "...                    ...        ...\n",
       "CA            1.724403e+07  CA_2024_D\n",
       "PA            1.908446e+07  PA_2024_D\n",
       "GA            1.399371e+08  GA_2024_D\n",
       "DC            2.110289e+08  DC_2024_D\n",
       "SD            0.000000e+00  SD_2024_D\n",
       "\n",
       "[510 rows x 2 columns]"
      ]
     },
     "execution_count": 164,
     "metadata": {},
     "output_type": "execute_result"
    }
   ],
   "source": [
    "all_state_sums_df = pd.concat(state_sums.values())\n",
    "all_state_sums_df"
   ]
  }
 ],
 "metadata": {
  "kernelspec": {
   "display_name": "Python 3",
   "language": "python",
   "name": "python3"
  },
  "language_info": {
   "codemirror_mode": {
    "name": "ipython",
    "version": 3
   },
   "file_extension": ".py",
   "mimetype": "text/x-python",
   "name": "python",
   "nbconvert_exporter": "python",
   "pygments_lexer": "ipython3",
   "version": "3.9.6"
  },
  "orig_nbformat": 4
 },
 "nbformat": 4,
 "nbformat_minor": 2
}
