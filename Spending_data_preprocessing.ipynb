{
 "cells": [
  {
   "cell_type": "code",
   "execution_count": 1,
   "metadata": {},
   "outputs": [],
   "source": [
    "import numpy as np\n",
    "import pandas as pd\n",
    "import seaborn as sns\n",
    "import matplotlib.pyplot as plt\n",
    "import matplotlib.ticker as ticker\n",
    "import scipy\n",
    "from scipy.stats import wilcoxon\n",
    "import datetime"
   ]
  },
  {
   "cell_type": "markdown",
   "metadata": {},
   "source": [
    "Get total amount spent in each state for the 2024 election. "
   ]
  },
  {
   "cell_type": "code",
   "execution_count": 8,
   "metadata": {},
   "outputs": [
    {
     "data": {
      "text/html": [
       "<div>\n",
       "<style scoped>\n",
       "    .dataframe tbody tr th:only-of-type {\n",
       "        vertical-align: middle;\n",
       "    }\n",
       "\n",
       "    .dataframe tbody tr th {\n",
       "        vertical-align: top;\n",
       "    }\n",
       "\n",
       "    .dataframe thead th {\n",
       "        text-align: right;\n",
       "    }\n",
       "</style>\n",
       "<table border=\"1\" class=\"dataframe\">\n",
       "  <thead>\n",
       "    <tr style=\"text-align: right;\">\n",
       "      <th></th>\n",
       "      <th>disb_amt</th>\n",
       "      <th>file_num</th>\n",
       "    </tr>\n",
       "    <tr>\n",
       "      <th>recipient_st</th>\n",
       "      <th></th>\n",
       "      <th></th>\n",
       "    </tr>\n",
       "  </thead>\n",
       "  <tbody>\n",
       "    <tr>\n",
       "      <th>GB</th>\n",
       "      <td>1.799600e+02</td>\n",
       "      <td>7020812</td>\n",
       "    </tr>\n",
       "    <tr>\n",
       "      <th>T</th>\n",
       "      <td>2.946500e+02</td>\n",
       "      <td>1751641</td>\n",
       "    </tr>\n",
       "    <tr>\n",
       "      <th>UK</th>\n",
       "      <td>5.520000e+02</td>\n",
       "      <td>14085106</td>\n",
       "    </tr>\n",
       "    <tr>\n",
       "      <th>QC</th>\n",
       "      <td>5.538000e+02</td>\n",
       "      <td>10522914</td>\n",
       "    </tr>\n",
       "    <tr>\n",
       "      <th>C</th>\n",
       "      <td>7.285800e+02</td>\n",
       "      <td>3503282</td>\n",
       "    </tr>\n",
       "    <tr>\n",
       "      <th>...</th>\n",
       "      <td>...</td>\n",
       "      <td>...</td>\n",
       "    </tr>\n",
       "    <tr>\n",
       "      <th>FL</th>\n",
       "      <td>5.477138e+07</td>\n",
       "      <td>6984054808</td>\n",
       "    </tr>\n",
       "    <tr>\n",
       "      <th>CA</th>\n",
       "      <td>6.363736e+07</td>\n",
       "      <td>39228883214</td>\n",
       "    </tr>\n",
       "    <tr>\n",
       "      <th>VA</th>\n",
       "      <td>1.432239e+08</td>\n",
       "      <td>15642195573</td>\n",
       "    </tr>\n",
       "    <tr>\n",
       "      <th>GA</th>\n",
       "      <td>1.442724e+08</td>\n",
       "      <td>9774468313</td>\n",
       "    </tr>\n",
       "    <tr>\n",
       "      <th>DC</th>\n",
       "      <td>2.215692e+08</td>\n",
       "      <td>8484361191</td>\n",
       "    </tr>\n",
       "  </tbody>\n",
       "</table>\n",
       "<p>72 rows × 2 columns</p>\n",
       "</div>"
      ],
      "text/plain": [
       "                  disb_amt     file_num\n",
       "recipient_st                           \n",
       "GB            1.799600e+02      7020812\n",
       "T             2.946500e+02      1751641\n",
       "UK            5.520000e+02     14085106\n",
       "QC            5.538000e+02     10522914\n",
       "C             7.285800e+02      3503282\n",
       "...                    ...          ...\n",
       "FL            5.477138e+07   6984054808\n",
       "CA            6.363736e+07  39228883214\n",
       "VA            1.432239e+08  15642195573\n",
       "GA            1.442724e+08   9774468313\n",
       "DC            2.215692e+08   8484361191\n",
       "\n",
       "[72 rows x 2 columns]"
      ]
     },
     "execution_count": 8,
     "metadata": {},
     "output_type": "execute_result"
    }
   ],
   "source": [
    "spending_24_df = pd.read_csv(\"spending_data_2024.csv\", index_col=False, low_memory=False)\n",
    "spending_24_df.groupby('recipient_st').sum('disb_amt').sort_values('disb_amt')\n",
    "# spending_24_df.head()"
   ]
  },
  {
   "cell_type": "code",
   "execution_count": 4,
   "metadata": {},
   "outputs": [
    {
     "data": {
      "text/plain": [
       "array(['AL', 'AR', 'AZ', 'CA', 'CO', 'CT', 'DC', 'FL', 'GA', 'IA', 'IL',\n",
       "       'IN', 'LA', 'MA', 'MD', 'ME', 'MN', 'MO', 'NC', 'NE', 'NH', 'NJ',\n",
       "       'NY', 'OK', 'PA', 'SC', 'TN', 'TX', 'VA', 'VI', 'WA', 'WI', 'WY',\n",
       "       'ZZ', 'OH', 'WV', 'AK', 'AS', 'DE', 'HI', 'ID', 'KS', 'KY', 'MI',\n",
       "       'MP', 'MS', 'MT', 'ND', 'NM', 'NV', 'OR', 'RI', 'UT', 'VT', 'GU',\n",
       "       'PR', 'SD', 'AB', 'GB', 'ON', 'AU', 'C', 'F', 'G', 'I', 'N', 'QC',\n",
       "       'T', 'TH', 'UK', 'W', 'AA'], dtype=object)"
      ]
     },
     "execution_count": 4,
     "metadata": {},
     "output_type": "execute_result"
    }
   ],
   "source": [
    "spending_24_df['recipient_st'].unique()\n",
    "['AL', 'AR', 'AZ', 'CA', 'CO', 'CT', 'DC', 'FL', 'GA', 'IA', 'IL',\n",
    "       'IN', 'LA', 'MA', 'MD', 'ME', 'MN', 'MO', 'NC', 'NE', 'NH', 'NJ',\n",
    "       'NY', 'OK', 'PA', 'SC', 'TN', 'TX', 'VA', 'WA', 'WI', 'WY',\n",
    "       'OH', 'WV', 'AK', 'DE', 'HI', 'ID', 'KS', 'KY', 'MI',\n",
    "       'MS', 'MT', 'ND', 'NM', 'NV', 'OR', 'RI', 'UT', 'VT',\n",
    "       'SD', 'C', 'F', 'G', 'I', 'N',\n",
    "       'T', 'AA'] \n",
    "# C F G I N T AA are errors that need to be replaced with the correct state "
   ]
  }
 ],
 "metadata": {
  "kernelspec": {
   "display_name": "Python 3",
   "language": "python",
   "name": "python3"
  },
  "language_info": {
   "codemirror_mode": {
    "name": "ipython",
    "version": 3
   },
   "file_extension": ".py",
   "mimetype": "text/x-python",
   "name": "python",
   "nbconvert_exporter": "python",
   "pygments_lexer": "ipython3",
   "version": "3.9.6"
  },
  "orig_nbformat": 4
 },
 "nbformat": 4,
 "nbformat_minor": 2
}
