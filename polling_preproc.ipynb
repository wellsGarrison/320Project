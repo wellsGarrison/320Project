{
 "cells": [
  {
   "cell_type": "code",
   "execution_count": 101,
   "metadata": {},
   "outputs": [],
   "source": [
    "import numpy as np\n",
    "import pandas as pd\n",
    "import seaborn as sns\n",
    "import matplotlib.pyplot as plt\n",
    "import matplotlib.ticker as ticker\n",
    "import scipy\n",
    "from scipy.stats import wilcoxon\n",
    "import datetime\n",
    "from dateutil.relativedelta import relativedelta\n"
   ]
  },
  {
   "cell_type": "markdown",
   "metadata": {},
   "source": [
    "Set the constants needed to process the data.\n",
    "\n",
    "Date of each election being processed.\n",
    "\n",
    "Party Affiliation of Candidates"
   ]
  },
  {
   "cell_type": "code",
   "execution_count": 102,
   "metadata": {},
   "outputs": [],
   "source": [
    "election_days = {\n",
    "    2024: datetime.date(2024, 11, 5),\n",
    "    2020: datetime.date(2020, 11, 3),\n",
    "    2016: datetime.date(2016, 11, 8),\n",
    "    2012: datetime.date(2012, 11, 6),\n",
    "    2008: datetime.date(2008, 11, 4),\n",
    "    2004: datetime.date(2004, 11, 2)\n",
    "}\n",
    "\n",
    "candidate_parties = {\n",
    "    'Donald Trump': 'Republican', \n",
    "    'Hillary Rodham Clinton': 'Democrat', \n",
    "    'Barack Obama': 'Democrat', \n",
    "    'Mitt Romney': 'Republican', \n",
    "    'John McCain': 'Republican', \n",
    "    'George W. Bush': 'Republican', \n",
    "    'John Kerry': 'Democrat',\n",
    "    'Harris': 'Democrat',\n",
    "    'Trump': 'Republican',\n",
    "    'Joseph R. Biden Jr.': 'Democrat'\n",
    "}\n",
    "\n",
    "fix_party = {'DEM': 'Democrat', 'REP': 'Republican'}\n",
    "\n",
    "standard_states = {\n",
    "    'Nebraska CD-1': 'NE-1',\n",
    "    'Nebraska CD-2': 'NE-2',\n",
    "    'Nebraska CD-3': 'NE-3',\n",
    "    'Maine CD-1': 'ME-1',\n",
    "    'Maine CD-2': 'ME-2'\n",
    "}"
   ]
  },
  {
   "cell_type": "markdown",
   "metadata": {},
   "source": [
    "**Load Datasets**"
   ]
  },
  {
   "cell_type": "markdown",
   "metadata": {},
   "source": [
    "Load the data for past election results from\n",
    "\n",
    "MIT Election Data and Science Lab, 2017, \"U.S. President 1976–2020\", https://doi.org/10.7910/DVN/42MVDX, Harvard Dataverse, V8, UNF:6:F0opd1IRbeYI9QyVfzglUw== [fileUNF]"
   ]
  },
  {
   "cell_type": "code",
   "execution_count": 103,
   "metadata": {},
   "outputs": [],
   "source": [
    "past_elections = pd.read_csv('1976-2020-president.csv')"
   ]
  },
  {
   "cell_type": "markdown",
   "metadata": {},
   "source": [
    "**Data Exploration**"
   ]
  },
  {
   "cell_type": "code",
   "execution_count": 104,
   "metadata": {},
   "outputs": [],
   "source": [
    "## No exploration so far"
   ]
  },
  {
   "cell_type": "markdown",
   "metadata": {},
   "source": [
    "**Data Processing**"
   ]
  },
  {
   "cell_type": "markdown",
   "metadata": {},
   "source": [
    "Extract the important columns.\n",
    "\n",
    "Then, for each state in each cycle, assign the party which won that state, this will be used later to label the data."
   ]
  },
  {
   "cell_type": "code",
   "execution_count": 105,
   "metadata": {},
   "outputs": [],
   "source": [
    "past_elections = past_elections[['state', 'year', 'party_detailed', 'candidatevotes']]\n",
    "\n",
    "winning_parties = (past_elections.loc[past_elections.groupby(['state', 'year'])['candidatevotes'].idxmax()][['state', 'year', 'party_detailed']])"
   ]
  },
  {
   "cell_type": "markdown",
   "metadata": {},
   "source": [
    "Load the polling data for all the elections from the two csv files.\n",
    "\n",
    "Convert the dates to datetime format for easier processing, and rename the columns so that they match between the dataframes."
   ]
  },
  {
   "cell_type": "code",
   "execution_count": 106,
   "metadata": {},
   "outputs": [],
   "source": [
    "polling_20to24 = pd.read_csv('presidential_general_averages.csv')\n",
    "\n",
    "## Convert columns to useable datatypes\n",
    "polling_20to24['date'] = pd.to_datetime(polling_20to24['date']).dt.date\n",
    "polling_20to24['cycle'] = polling_20to24['cycle'].astype(int)\n",
    "\n",
    "polling_else = pd.read_csv('pres_pollaverages_1968-2016.csv')\n",
    "\n",
    "## Convert columns to useable datatypes\n",
    "polling_else['modeldate'] = pd.to_datetime(polling_else['modeldate']).dt.date\n",
    "polling_else['cycle'] = polling_else['cycle'].astype(int)\n",
    "\n",
    "## Extract important columns from both dataframes\n",
    "important_20to24 = polling_20to24[['state', 'cycle', 'candidate', 'date', 'pct_estimate']].copy()\n",
    "important_else = polling_else[['state', 'cycle', 'candidate_name', 'modeldate', 'pct_estimate']][polling_else['cycle'] >= 2004]\n",
    "\n",
    "## Rename columns so that they match\n",
    "important_20to24.rename(columns={'candidate': 'party'}, inplace=True)\n",
    "important_else.rename(columns={'candidate_name': 'party', 'modeldate': 'date'}, inplace=True)\n",
    "\n",
    "## Convert candidate names to their corresponding party\n",
    "important_20to24['party'] = important_20to24['party'].map(lambda e: candidate_parties[e] if e in candidate_parties.keys() else e)\n",
    "important_else['party'] = important_else['party'].map(lambda e: candidate_parties[e] if e in candidate_parties.keys() else e)\n",
    "\n",
    "## Fill in missing values\n",
    "important_20to24['pct_estimate'] = important_20to24['pct_estimate'].fillna(polling_20to24['pct_trend_adjusted'])\n",
    "\n",
    "## Combine all cycles into one dataframe\n",
    "combined_df = pd.concat([important_20to24, important_else], ignore_index=True)\n",
    "combined_df.reset_index(inplace=True)\n",
    "combined_df = combined_df[combined_df['state'] != 'National']\n",
    "\n",
    "## Fix some inconsistent naming of the congressional districts for Nebraska and Maine\n",
    "combined_df['state'] = combined_df['state'].map(lambda e: 'NE-2' if e == 'Nebraska Cd 2' else e)\n",
    "combined_df['state'] = combined_df['state'].map(lambda e: 'ME-2' if e == 'Maine Cd 2' else e)"
   ]
  },
  {
   "cell_type": "markdown",
   "metadata": {},
   "source": [
    "From our data exploration, we know that the 2024 data is missing for quite a few states, so we need to add those states using the raw polling data.\n",
    "1. Load the raw polling data"
   ]
  },
  {
   "cell_type": "code",
   "execution_count": 107,
   "metadata": {},
   "outputs": [],
   "source": [
    "poll_data = pd.read_csv('president_polls.csv')"
   ]
  },
  {
   "cell_type": "markdown",
   "metadata": {},
   "source": [
    "Grab the most important columns"
   ]
  },
  {
   "cell_type": "code",
   "execution_count": 108,
   "metadata": {},
   "outputs": [],
   "source": [
    "processed_polls = poll_data[['pollster_id', 'state', 'end_date', 'party', 'pct', 'office_type']]\n",
    "\n",
    "## Ignore the rows with NaN states bc those are national polls\n",
    "processed_polls = processed_polls[processed_polls['state'].notna()].reset_index()\n",
    "\n",
    "## Convert the dates to datetime\n",
    "processed_polls['end_date'] = pd.to_datetime(processed_polls['end_date'], format=\"mixed\", dayfirst=False).dt.date"
   ]
  },
  {
   "cell_type": "markdown",
   "metadata": {},
   "source": [
    "2. Get the pollsters with grades higher than 2.3. This ensures that the polling average is not skewed by biased pollsters."
   ]
  },
  {
   "cell_type": "code",
   "execution_count": 109,
   "metadata": {},
   "outputs": [],
   "source": [
    "top_pollsters = poll_data.groupby('pollster_id', as_index=False).agg({'numeric_grade': 'max'})\n",
    "top_pollsters.sort_values(by='numeric_grade', ascending=False, inplace=True)\n",
    "top_pollsters = top_pollsters[top_pollsters['numeric_grade'] > 1.6]['pollster_id'].to_list()"
   ]
  },
  {
   "cell_type": "markdown",
   "metadata": {},
   "source": [
    "Remove all entries that aren't by the top pollsters. And fix the state names for the Nebraska and Maine districts"
   ]
  },
  {
   "cell_type": "code",
   "execution_count": 110,
   "metadata": {},
   "outputs": [],
   "source": [
    "processed_polls = processed_polls[processed_polls['pollster_id'].isin(top_pollsters)]\n",
    "processed_polls['party'] = processed_polls['party'].map(lambda e: fix_party[e] if e in fix_party.keys() else e)\n",
    "processed_polls['state'] = processed_polls['state'].map(lambda e: standard_states[e] if e in standard_states.keys() else e)"
   ]
  },
  {
   "cell_type": "markdown",
   "metadata": {},
   "source": [
    "3. Add the necessary columns to the polls to match the combined_df, and also reorder them too"
   ]
  },
  {
   "cell_type": "code",
   "execution_count": 111,
   "metadata": {},
   "outputs": [],
   "source": [
    "processed_polls['cycle'] = 2024\n",
    "processed_polls = processed_polls[['state', 'cycle', 'party', 'end_date', 'pct']].copy()"
   ]
  },
  {
   "cell_type": "markdown",
   "metadata": {},
   "source": [
    "4. Concat the new data onto the combined data"
   ]
  },
  {
   "cell_type": "code",
   "execution_count": 112,
   "metadata": {},
   "outputs": [],
   "source": [
    "processed_polls.rename(columns={'pct': 'pct_estimate', 'end_date': 'date'}, inplace=True)\n",
    "combined_df = pd.concat([combined_df, processed_polls], ignore_index=True)"
   ]
  },
  {
   "cell_type": "markdown",
   "metadata": {},
   "source": [
    "Some states don't have polls within the month of the 2024 election because of how recent it was, so we will instead use the most recent poll for those states."
   ]
  },
  {
   "cell_type": "code",
   "execution_count": 113,
   "metadata": {},
   "outputs": [
    {
     "data": {
      "text/html": [
       "<div>\n",
       "<style scoped>\n",
       "    .dataframe tbody tr th:only-of-type {\n",
       "        vertical-align: middle;\n",
       "    }\n",
       "\n",
       "    .dataframe tbody tr th {\n",
       "        vertical-align: top;\n",
       "    }\n",
       "\n",
       "    .dataframe thead th {\n",
       "        text-align: right;\n",
       "    }\n",
       "</style>\n",
       "<table border=\"1\" class=\"dataframe\">\n",
       "  <thead>\n",
       "    <tr style=\"text-align: right;\">\n",
       "      <th></th>\n",
       "      <th>cycle</th>\n",
       "      <th>party</th>\n",
       "      <th>date</th>\n",
       "      <th>pct_estimate</th>\n",
       "    </tr>\n",
       "    <tr>\n",
       "      <th>state</th>\n",
       "      <th></th>\n",
       "      <th></th>\n",
       "      <th></th>\n",
       "      <th></th>\n",
       "    </tr>\n",
       "  </thead>\n",
       "  <tbody>\n",
       "    <tr>\n",
       "      <th>Alabama</th>\n",
       "      <td>6</td>\n",
       "      <td>6</td>\n",
       "      <td>6</td>\n",
       "      <td>6</td>\n",
       "    </tr>\n",
       "    <tr>\n",
       "      <th>Alaska</th>\n",
       "      <td>33</td>\n",
       "      <td>33</td>\n",
       "      <td>33</td>\n",
       "      <td>33</td>\n",
       "    </tr>\n",
       "    <tr>\n",
       "      <th>Arizona</th>\n",
       "      <td>631</td>\n",
       "      <td>631</td>\n",
       "      <td>631</td>\n",
       "      <td>631</td>\n",
       "    </tr>\n",
       "    <tr>\n",
       "      <th>Arkansas</th>\n",
       "      <td>10</td>\n",
       "      <td>10</td>\n",
       "      <td>10</td>\n",
       "      <td>10</td>\n",
       "    </tr>\n",
       "    <tr>\n",
       "      <th>California</th>\n",
       "      <td>130</td>\n",
       "      <td>130</td>\n",
       "      <td>130</td>\n",
       "      <td>130</td>\n",
       "    </tr>\n",
       "    <tr>\n",
       "      <th>Colorado</th>\n",
       "      <td>33</td>\n",
       "      <td>33</td>\n",
       "      <td>33</td>\n",
       "      <td>33</td>\n",
       "    </tr>\n",
       "    <tr>\n",
       "      <th>Connecticut</th>\n",
       "      <td>13</td>\n",
       "      <td>13</td>\n",
       "      <td>13</td>\n",
       "      <td>13</td>\n",
       "    </tr>\n",
       "    <tr>\n",
       "      <th>Delaware</th>\n",
       "      <td>4</td>\n",
       "      <td>4</td>\n",
       "      <td>4</td>\n",
       "      <td>4</td>\n",
       "    </tr>\n",
       "    <tr>\n",
       "      <th>Florida</th>\n",
       "      <td>241</td>\n",
       "      <td>241</td>\n",
       "      <td>241</td>\n",
       "      <td>241</td>\n",
       "    </tr>\n",
       "    <tr>\n",
       "      <th>Georgia</th>\n",
       "      <td>658</td>\n",
       "      <td>658</td>\n",
       "      <td>658</td>\n",
       "      <td>658</td>\n",
       "    </tr>\n",
       "    <tr>\n",
       "      <th>Hawaii</th>\n",
       "      <td>4</td>\n",
       "      <td>4</td>\n",
       "      <td>4</td>\n",
       "      <td>4</td>\n",
       "    </tr>\n",
       "    <tr>\n",
       "      <th>Idaho</th>\n",
       "      <td>6</td>\n",
       "      <td>6</td>\n",
       "      <td>6</td>\n",
       "      <td>6</td>\n",
       "    </tr>\n",
       "    <tr>\n",
       "      <th>Illinois</th>\n",
       "      <td>10</td>\n",
       "      <td>10</td>\n",
       "      <td>10</td>\n",
       "      <td>10</td>\n",
       "    </tr>\n",
       "    <tr>\n",
       "      <th>Indiana</th>\n",
       "      <td>12</td>\n",
       "      <td>12</td>\n",
       "      <td>12</td>\n",
       "      <td>12</td>\n",
       "    </tr>\n",
       "    <tr>\n",
       "      <th>Iowa</th>\n",
       "      <td>63</td>\n",
       "      <td>63</td>\n",
       "      <td>63</td>\n",
       "      <td>63</td>\n",
       "    </tr>\n",
       "    <tr>\n",
       "      <th>Kansas</th>\n",
       "      <td>14</td>\n",
       "      <td>14</td>\n",
       "      <td>14</td>\n",
       "      <td>14</td>\n",
       "    </tr>\n",
       "    <tr>\n",
       "      <th>Kentucky</th>\n",
       "      <td>6</td>\n",
       "      <td>6</td>\n",
       "      <td>6</td>\n",
       "      <td>6</td>\n",
       "    </tr>\n",
       "    <tr>\n",
       "      <th>Louisiana</th>\n",
       "      <td>8</td>\n",
       "      <td>8</td>\n",
       "      <td>8</td>\n",
       "      <td>8</td>\n",
       "    </tr>\n",
       "    <tr>\n",
       "      <th>ME-1</th>\n",
       "      <td>30</td>\n",
       "      <td>30</td>\n",
       "      <td>30</td>\n",
       "      <td>30</td>\n",
       "    </tr>\n",
       "    <tr>\n",
       "      <th>ME-2</th>\n",
       "      <td>30</td>\n",
       "      <td>30</td>\n",
       "      <td>30</td>\n",
       "      <td>30</td>\n",
       "    </tr>\n",
       "    <tr>\n",
       "      <th>Maine</th>\n",
       "      <td>39</td>\n",
       "      <td>39</td>\n",
       "      <td>39</td>\n",
       "      <td>39</td>\n",
       "    </tr>\n",
       "    <tr>\n",
       "      <th>Maryland</th>\n",
       "      <td>56</td>\n",
       "      <td>56</td>\n",
       "      <td>56</td>\n",
       "      <td>56</td>\n",
       "    </tr>\n",
       "    <tr>\n",
       "      <th>Massachusetts</th>\n",
       "      <td>78</td>\n",
       "      <td>78</td>\n",
       "      <td>78</td>\n",
       "      <td>78</td>\n",
       "    </tr>\n",
       "    <tr>\n",
       "      <th>Michigan</th>\n",
       "      <td>824</td>\n",
       "      <td>824</td>\n",
       "      <td>824</td>\n",
       "      <td>824</td>\n",
       "    </tr>\n",
       "    <tr>\n",
       "      <th>Minnesota</th>\n",
       "      <td>103</td>\n",
       "      <td>103</td>\n",
       "      <td>103</td>\n",
       "      <td>103</td>\n",
       "    </tr>\n",
       "    <tr>\n",
       "      <th>Mississippi</th>\n",
       "      <td>8</td>\n",
       "      <td>8</td>\n",
       "      <td>8</td>\n",
       "      <td>8</td>\n",
       "    </tr>\n",
       "    <tr>\n",
       "      <th>Missouri</th>\n",
       "      <td>49</td>\n",
       "      <td>49</td>\n",
       "      <td>49</td>\n",
       "      <td>49</td>\n",
       "    </tr>\n",
       "    <tr>\n",
       "      <th>Montana</th>\n",
       "      <td>62</td>\n",
       "      <td>62</td>\n",
       "      <td>62</td>\n",
       "      <td>62</td>\n",
       "    </tr>\n",
       "    <tr>\n",
       "      <th>NE-1</th>\n",
       "      <td>5</td>\n",
       "      <td>5</td>\n",
       "      <td>5</td>\n",
       "      <td>5</td>\n",
       "    </tr>\n",
       "    <tr>\n",
       "      <th>NE-2</th>\n",
       "      <td>37</td>\n",
       "      <td>37</td>\n",
       "      <td>37</td>\n",
       "      <td>37</td>\n",
       "    </tr>\n",
       "    <tr>\n",
       "      <th>NE-3</th>\n",
       "      <td>5</td>\n",
       "      <td>5</td>\n",
       "      <td>5</td>\n",
       "      <td>5</td>\n",
       "    </tr>\n",
       "    <tr>\n",
       "      <th>Nebraska</th>\n",
       "      <td>33</td>\n",
       "      <td>33</td>\n",
       "      <td>33</td>\n",
       "      <td>33</td>\n",
       "    </tr>\n",
       "    <tr>\n",
       "      <th>Nevada</th>\n",
       "      <td>474</td>\n",
       "      <td>474</td>\n",
       "      <td>474</td>\n",
       "      <td>474</td>\n",
       "    </tr>\n",
       "    <tr>\n",
       "      <th>New Hampshire</th>\n",
       "      <td>184</td>\n",
       "      <td>184</td>\n",
       "      <td>184</td>\n",
       "      <td>184</td>\n",
       "    </tr>\n",
       "    <tr>\n",
       "      <th>New Jersey</th>\n",
       "      <td>21</td>\n",
       "      <td>21</td>\n",
       "      <td>21</td>\n",
       "      <td>21</td>\n",
       "    </tr>\n",
       "    <tr>\n",
       "      <th>New Mexico</th>\n",
       "      <td>47</td>\n",
       "      <td>47</td>\n",
       "      <td>47</td>\n",
       "      <td>47</td>\n",
       "    </tr>\n",
       "    <tr>\n",
       "      <th>New York</th>\n",
       "      <td>91</td>\n",
       "      <td>91</td>\n",
       "      <td>91</td>\n",
       "      <td>91</td>\n",
       "    </tr>\n",
       "    <tr>\n",
       "      <th>North Carolina</th>\n",
       "      <td>594</td>\n",
       "      <td>594</td>\n",
       "      <td>594</td>\n",
       "      <td>594</td>\n",
       "    </tr>\n",
       "    <tr>\n",
       "      <th>North Dakota</th>\n",
       "      <td>9</td>\n",
       "      <td>9</td>\n",
       "      <td>9</td>\n",
       "      <td>9</td>\n",
       "    </tr>\n",
       "    <tr>\n",
       "      <th>Ohio</th>\n",
       "      <td>128</td>\n",
       "      <td>128</td>\n",
       "      <td>128</td>\n",
       "      <td>128</td>\n",
       "    </tr>\n",
       "    <tr>\n",
       "      <th>Oklahoma</th>\n",
       "      <td>27</td>\n",
       "      <td>27</td>\n",
       "      <td>27</td>\n",
       "      <td>27</td>\n",
       "    </tr>\n",
       "    <tr>\n",
       "      <th>Oregon</th>\n",
       "      <td>14</td>\n",
       "      <td>14</td>\n",
       "      <td>14</td>\n",
       "      <td>14</td>\n",
       "    </tr>\n",
       "    <tr>\n",
       "      <th>Pennsylvania</th>\n",
       "      <td>850</td>\n",
       "      <td>850</td>\n",
       "      <td>850</td>\n",
       "      <td>850</td>\n",
       "    </tr>\n",
       "    <tr>\n",
       "      <th>Rhode Island</th>\n",
       "      <td>35</td>\n",
       "      <td>35</td>\n",
       "      <td>35</td>\n",
       "      <td>35</td>\n",
       "    </tr>\n",
       "    <tr>\n",
       "      <th>South Carolina</th>\n",
       "      <td>21</td>\n",
       "      <td>21</td>\n",
       "      <td>21</td>\n",
       "      <td>21</td>\n",
       "    </tr>\n",
       "    <tr>\n",
       "      <th>South Dakota</th>\n",
       "      <td>17</td>\n",
       "      <td>17</td>\n",
       "      <td>17</td>\n",
       "      <td>17</td>\n",
       "    </tr>\n",
       "    <tr>\n",
       "      <th>Tennessee</th>\n",
       "      <td>78</td>\n",
       "      <td>78</td>\n",
       "      <td>78</td>\n",
       "      <td>78</td>\n",
       "    </tr>\n",
       "    <tr>\n",
       "      <th>Texas</th>\n",
       "      <td>220</td>\n",
       "      <td>220</td>\n",
       "      <td>220</td>\n",
       "      <td>220</td>\n",
       "    </tr>\n",
       "    <tr>\n",
       "      <th>Utah</th>\n",
       "      <td>38</td>\n",
       "      <td>38</td>\n",
       "      <td>38</td>\n",
       "      <td>38</td>\n",
       "    </tr>\n",
       "    <tr>\n",
       "      <th>Vermont</th>\n",
       "      <td>17</td>\n",
       "      <td>17</td>\n",
       "      <td>17</td>\n",
       "      <td>17</td>\n",
       "    </tr>\n",
       "    <tr>\n",
       "      <th>Virginia</th>\n",
       "      <td>189</td>\n",
       "      <td>189</td>\n",
       "      <td>189</td>\n",
       "      <td>189</td>\n",
       "    </tr>\n",
       "    <tr>\n",
       "      <th>Washington</th>\n",
       "      <td>38</td>\n",
       "      <td>38</td>\n",
       "      <td>38</td>\n",
       "      <td>38</td>\n",
       "    </tr>\n",
       "    <tr>\n",
       "      <th>West Virginia</th>\n",
       "      <td>9</td>\n",
       "      <td>9</td>\n",
       "      <td>9</td>\n",
       "      <td>9</td>\n",
       "    </tr>\n",
       "    <tr>\n",
       "      <th>Wisconsin</th>\n",
       "      <td>746</td>\n",
       "      <td>746</td>\n",
       "      <td>746</td>\n",
       "      <td>746</td>\n",
       "    </tr>\n",
       "    <tr>\n",
       "      <th>Wyoming</th>\n",
       "      <td>9</td>\n",
       "      <td>9</td>\n",
       "      <td>9</td>\n",
       "      <td>9</td>\n",
       "    </tr>\n",
       "  </tbody>\n",
       "</table>\n",
       "</div>"
      ],
      "text/plain": [
       "                cycle  party  date  pct_estimate\n",
       "state                                           \n",
       "Alabama             6      6     6             6\n",
       "Alaska             33     33    33            33\n",
       "Arizona           631    631   631           631\n",
       "Arkansas           10     10    10            10\n",
       "California        130    130   130           130\n",
       "Colorado           33     33    33            33\n",
       "Connecticut        13     13    13            13\n",
       "Delaware            4      4     4             4\n",
       "Florida           241    241   241           241\n",
       "Georgia           658    658   658           658\n",
       "Hawaii              4      4     4             4\n",
       "Idaho               6      6     6             6\n",
       "Illinois           10     10    10            10\n",
       "Indiana            12     12    12            12\n",
       "Iowa               63     63    63            63\n",
       "Kansas             14     14    14            14\n",
       "Kentucky            6      6     6             6\n",
       "Louisiana           8      8     8             8\n",
       "ME-1               30     30    30            30\n",
       "ME-2               30     30    30            30\n",
       "Maine              39     39    39            39\n",
       "Maryland           56     56    56            56\n",
       "Massachusetts      78     78    78            78\n",
       "Michigan          824    824   824           824\n",
       "Minnesota         103    103   103           103\n",
       "Mississippi         8      8     8             8\n",
       "Missouri           49     49    49            49\n",
       "Montana            62     62    62            62\n",
       "NE-1                5      5     5             5\n",
       "NE-2               37     37    37            37\n",
       "NE-3                5      5     5             5\n",
       "Nebraska           33     33    33            33\n",
       "Nevada            474    474   474           474\n",
       "New Hampshire     184    184   184           184\n",
       "New Jersey         21     21    21            21\n",
       "New Mexico         47     47    47            47\n",
       "New York           91     91    91            91\n",
       "North Carolina    594    594   594           594\n",
       "North Dakota        9      9     9             9\n",
       "Ohio              128    128   128           128\n",
       "Oklahoma           27     27    27            27\n",
       "Oregon             14     14    14            14\n",
       "Pennsylvania      850    850   850           850\n",
       "Rhode Island       35     35    35            35\n",
       "South Carolina     21     21    21            21\n",
       "South Dakota       17     17    17            17\n",
       "Tennessee          78     78    78            78\n",
       "Texas             220    220   220           220\n",
       "Utah               38     38    38            38\n",
       "Vermont            17     17    17            17\n",
       "Virginia          189    189   189           189\n",
       "Washington         38     38    38            38\n",
       "West Virginia       9      9     9             9\n",
       "Wisconsin         746    746   746           746\n",
       "Wyoming             9      9     9             9"
      ]
     },
     "execution_count": 113,
     "metadata": {},
     "output_type": "execute_result"
    }
   ],
   "source": [
    "most_recent = processed_polls.groupby('state')['date'].max().reset_index()\n",
    "most_recent = most_recent[most_recent['date'] < (election_days[2024] + relativedelta(months=-1))].to_dict()\n",
    "\n",
    "temp = {}\n",
    "for k in most_recent['state'].keys():\n",
    "    temp[most_recent['state'][k]] = most_recent['date'][k]\n",
    "\n",
    "most_recent = temp\n",
    "most_recent\n",
    "processed_polls.groupby('state').count()"
   ]
  },
  {
   "cell_type": "markdown",
   "metadata": {},
   "source": [
    "For each of the elections being processed, get the one month average for each major party, \n",
    "\n"
   ]
  },
  {
   "cell_type": "code",
   "execution_count": 114,
   "metadata": {},
   "outputs": [
    {
     "name": "stdout",
     "output_type": "stream",
     "text": [
      "Empty DataFrame\n",
      "Columns: [index, state, cycle, party, date, pct_estimate]\n",
      "Index: []\n",
      "    index    state  cycle       party        date  pct_estimate\n",
      "0     0.0  Alabama   2020    Democrat  2020-11-03      37.82732\n",
      "1     1.0  Alabama   2020  Republican  2020-11-03      57.36126\n",
      "2     2.0  Alabama   2020    Democrat  2020-11-02      37.82732\n",
      "3     3.0  Alabama   2020  Republican  2020-11-02      57.36126\n",
      "4     4.0  Alabama   2020    Democrat  2020-11-01      38.07011\n",
      "..    ...      ...    ...         ...         ...           ...\n",
      "59   59.0  Alabama   2020  Republican  2020-10-05      56.89531\n",
      "60   60.0  Alabama   2020    Democrat  2020-10-04      38.79457\n",
      "61   61.0  Alabama   2020  Republican  2020-10-04      56.16731\n",
      "62   62.0  Alabama   2020    Democrat  2020-10-03      38.74995\n",
      "63   63.0  Alabama   2020  Republican  2020-10-03      56.24868\n",
      "\n",
      "[64 rows x 6 columns]\n",
      "        index    state  cycle       party        date  pct_estimate\n",
      "0     52757.0  Alabama   2016  Republican  2016-10-08      60.69123\n",
      "55    52813.0  Alabama   2016    Democrat  2016-10-08      33.42359\n",
      "110   52922.0  Alabama   2016  Republican  2016-10-09      60.71487\n",
      "165   52978.0  Alabama   2016    Democrat  2016-10-09      33.43875\n",
      "220   53087.0  Alabama   2016  Republican  2016-10-10      60.58911\n",
      "...       ...      ...    ...         ...         ...           ...\n",
      "3270  57650.0  Alabama   2016    Democrat  2016-11-06      35.06635\n",
      "3326  57762.0  Alabama   2016  Republican  2016-11-07      56.33739\n",
      "3382  57819.0  Alabama   2016    Democrat  2016-11-07      35.14891\n",
      "3438  57931.0  Alabama   2016  Republican  2016-11-08      56.33739\n",
      "3494  57988.0  Alabama   2016    Democrat  2016-11-08      35.14891\n",
      "\n",
      "[64 rows x 6 columns]\n",
      "        index    state  cycle       party        date  pct_estimate\n",
      "0     76767.0  Alabama   2012    Democrat  2012-10-06     35.634298\n",
      "50    76818.0  Alabama   2012  Republican  2012-10-06     53.786453\n",
      "100   76869.0  Alabama   2012    Democrat  2012-10-07     35.628099\n",
      "150   76920.0  Alabama   2012  Republican  2012-10-07     53.796213\n",
      "200   76971.0  Alabama   2012    Democrat  2012-10-08     35.624963\n",
      "...       ...      ...    ...         ...         ...           ...\n",
      "3044  79870.0  Alabama   2012  Republican  2012-11-04     53.701491\n",
      "3096  79923.0  Alabama   2012    Democrat  2012-11-05     35.623535\n",
      "3148  79976.0  Alabama   2012  Republican  2012-11-05     53.690322\n",
      "3200  80029.0  Alabama   2012    Democrat  2012-11-06     35.623535\n",
      "3252  80082.0  Alabama   2012  Republican  2012-11-06     53.690322\n",
      "\n",
      "[64 rows x 6 columns]\n",
      "         index    state  cycle       party        date  pct_estimate\n",
      "0     102469.0  Alabama   2008  Republican  2008-10-04     58.954569\n",
      "50    102520.0  Alabama   2008    Democrat  2008-10-04     34.379813\n",
      "100   102571.0  Alabama   2008  Republican  2008-10-05     58.838870\n",
      "150   102622.0  Alabama   2008    Democrat  2008-10-05     34.465440\n",
      "200   102673.0  Alabama   2008  Republican  2008-10-06     58.837137\n",
      "...        ...      ...    ...         ...         ...           ...\n",
      "2950  105478.0  Alabama   2008    Democrat  2008-11-02     35.873942\n",
      "3000  105529.0  Alabama   2008  Republican  2008-11-03     58.282539\n",
      "3050  105580.0  Alabama   2008    Democrat  2008-11-03     35.858475\n",
      "3100  105631.0  Alabama   2008  Republican  2008-11-04     58.282539\n",
      "3150  105682.0  Alabama   2008    Democrat  2008-11-04     35.858475\n",
      "\n",
      "[64 rows x 6 columns]\n",
      "         index    state  cycle       party        date  pct_estimate\n",
      "0     123527.0  Alabama   2004  Republican  2004-10-02     55.745184\n",
      "49    123577.0  Alabama   2004    Democrat  2004-10-02     33.749181\n",
      "98    123627.0  Alabama   2004  Republican  2004-10-03     57.165742\n",
      "147   123677.0  Alabama   2004    Democrat  2004-10-03     33.772150\n",
      "196   123727.0  Alabama   2004  Republican  2004-10-04     57.174139\n",
      "...        ...      ...    ...         ...         ...           ...\n",
      "2891  126477.0  Alabama   2004    Democrat  2004-10-31     35.154524\n",
      "2940  126527.0  Alabama   2004  Republican  2004-11-01     56.781719\n",
      "2989  126577.0  Alabama   2004    Democrat  2004-11-01     35.150294\n",
      "3038  126627.0  Alabama   2004  Republican  2004-11-02     56.778493\n",
      "3087  126677.0  Alabama   2004    Democrat  2004-11-02     35.153022\n",
      "\n",
      "[64 rows x 6 columns]\n"
     ]
    },
    {
     "data": {
      "text/plain": [
       "state                      316\n",
       "polling_avg_republican     316\n",
       "polling_avg_democrat       316\n",
       "cycle                      316\n",
       "jkey                       316\n",
       "month_change_republican    316\n",
       "month_change_democrat      316\n",
       "dtype: int64"
      ]
     },
     "execution_count": 114,
     "metadata": {},
     "output_type": "execute_result"
    }
   ],
   "source": [
    "processed_data = None\n",
    "\n",
    "for year in election_days.keys():\n",
    "    ## Set the dates needed, election day, one and two months before\n",
    "    election_date = election_days[year]\n",
    "    one_month_before = election_date + relativedelta(months=-1)\n",
    "    two_month_before = election_date + relativedelta(months=-2)\n",
    "    \n",
    "    ## Filter combined dataframe with the dates\n",
    "    one_month_filtered = combined_df[(combined_df['date'] >= one_month_before) & (combined_df['date'] <= election_date) & (combined_df['party'].isin(['Democrat', 'Republican']))].reset_index(drop=True)\n",
    "\n",
    "    print(one_month_filtered[one_month_filtered['state'] == 'Alabama'])\n",
    "    \n",
    "    two_month_filtered = combined_df[(combined_df['date'] >= two_month_before) & (combined_df['date'] <= one_month_before) & (combined_df['party'].isin(['Democrat', 'Republican']))]\n",
    "\n",
    "    if year == 2024:\n",
    "        for st in most_recent.keys():\n",
    "            date = most_recent[st]\n",
    "\n",
    "            recent = combined_df[(combined_df['date'] >= date + relativedelta(months=-1)) & (combined_df['date'] <= date) & (combined_df['party'].isin(['Democrat', 'Republican'])) & (combined_df['state'] == st)]\n",
    "\n",
    "            one_month_filtered = pd.concat([one_month_filtered, recent], ignore_index=True).reset_index(drop=True)\n",
    "        \n",
    "        two_month_filtered = two_month_filtered[~two_month_filtered['state'].isin(most_recent.keys())]\n",
    "\n",
    "    ## Group by state then party, then get average over month\n",
    "    grouped_one_month = one_month_filtered.groupby(['state', 'party'])['pct_estimate'].mean().reset_index()\n",
    "\n",
    "    grouped_two_month = two_month_filtered.groupby(['state', 'party'])['pct_estimate'].mean().reset_index()\n",
    "\n",
    "    ## Pivot dataframe so that the Democrat and Republican polling averages are on the same rows\n",
    "    temp = grouped_two_month.pivot(index='state', columns='party', values='pct_estimate').reset_index()\n",
    "\n",
    "    ## Reorder and rename columns\n",
    "    temp = temp[['state', 'Republican', 'Democrat']]\n",
    "    temp.columns = ['state', 'polling_avg_republican2', 'polling_avg_democrat2']\n",
    "\n",
    "    temp['cycle'] = year\n",
    "\n",
    "    ## Create a key to merge the one month and two month dataframes on\n",
    "    temp['jkey'] = temp['state'] + temp['cycle'].astype(str)\n",
    "\n",
    "    ## Repeat above for the one month dataframe\n",
    "    result = grouped_one_month.pivot(index='state', columns='party', values='pct_estimate').reset_index()\n",
    "\n",
    "    result = result[['state', 'Republican', 'Democrat']]\n",
    "\n",
    "    result.columns = ['state', 'polling_avg_republican', 'polling_avg_democrat']\n",
    "\n",
    "    result['cycle'] = year\n",
    "    result['jkey'] = result['state'] + result['cycle'].astype(str)\n",
    "\n",
    "    ## Merge the two dataframes\n",
    "    result = pd.merge(result, temp[['polling_avg_republican2', 'polling_avg_democrat2', 'jkey']], on='jkey', how='outer')\n",
    "\n",
    "    ## Convert the 2 month polling average columns into polling change columns\n",
    "    result['polling_avg_republican2'] -= result['polling_avg_republican']\n",
    "    result['polling_avg_democrat2'] -= result['polling_avg_democrat']\n",
    "\n",
    "    result.columns = ['state', 'polling_avg_republican', 'polling_avg_democrat', 'cycle', 'jkey', 'month_change_republican', 'month_change_democrat']\n",
    "\n",
    "    # result.drop(['jkey', 'cycle'], axis=1, inplace=True)\n",
    "\n",
    "    ## Add the new dataframe onto the accumulator\n",
    "    if processed_data is None:\n",
    "        processed_data = result\n",
    "    else:\n",
    "        processed_data = pd.concat([processed_data, result], ignore_index=True).reset_index(drop=True)\n",
    "\n",
    "processed_data.fillna(0, inplace=True)\n",
    "processed_data.count()"
   ]
  },
  {
   "cell_type": "markdown",
   "metadata": {},
   "source": [
    "**Labeling Data**"
   ]
  },
  {
   "cell_type": "markdown",
   "metadata": {},
   "source": [
    "Now that we have the processed data, all that is left is for us to label the data since we will be using supervised learning.\n",
    "\n",
    "The data labeling will consist of a new column which will contain either Democrat or Republican, marking which party won that state in the given cycle."
   ]
  },
  {
   "cell_type": "markdown",
   "metadata": {},
   "source": [
    "1. First, add the merging key to the winning_parties dataframe to prepare for merging with the processed data"
   ]
  },
  {
   "cell_type": "code",
   "execution_count": 115,
   "metadata": {},
   "outputs": [],
   "source": [
    "winning_parties['jkey'] = winning_parties['state'].map(lambda e: e.lower()) + winning_parties['year'].astype(str)"
   ]
  },
  {
   "cell_type": "markdown",
   "metadata": {},
   "source": [
    "2. Ensure that the merging key will match properly, so convert all to lower case."
   ]
  },
  {
   "cell_type": "code",
   "execution_count": 116,
   "metadata": {},
   "outputs": [],
   "source": [
    "processed_data['jkey'] = processed_data['jkey'].map(lambda e: e.lower())"
   ]
  },
  {
   "cell_type": "markdown",
   "metadata": {},
   "source": [
    "3. Merge the two dataframes so that the data is all labeled, except for the 2024 data, which will need to be filled in manually.\n",
    "\n",
    "**Make sure to check for NaN values, especially due to the Maine and Nebraska splitting their electoral votes.**"
   ]
  },
  {
   "cell_type": "code",
   "execution_count": 117,
   "metadata": {},
   "outputs": [],
   "source": [
    "# result = pd.merge(result, temp[['polling_avg_republican2', 'polling_avg_democrat2', 'jkey']], on='jkey', how='outer')\n",
    "processed_data = pd.merge(processed_data, winning_parties[['party_detailed', 'jkey']], on='jkey', how='left')"
   ]
  },
  {
   "cell_type": "code",
   "execution_count": 118,
   "metadata": {},
   "outputs": [
    {
     "data": {
      "text/plain": [
       "state                      316\n",
       "polling_avg_republican     316\n",
       "polling_avg_democrat       316\n",
       "cycle                      316\n",
       "jkey                       316\n",
       "month_change_republican    316\n",
       "month_change_democrat      316\n",
       "winning_party              248\n",
       "dtype: int64"
      ]
     },
     "execution_count": 118,
     "metadata": {},
     "output_type": "execute_result"
    }
   ],
   "source": [
    "processed_data.rename(columns={'party_detailed': 'winning_party'}, inplace=True)\n",
    "processed_data.count()"
   ]
  },
  {
   "cell_type": "code",
   "execution_count": 119,
   "metadata": {},
   "outputs": [
    {
     "data": {
      "text/plain": [
       "state                      55\n",
       "polling_avg_republican     55\n",
       "polling_avg_democrat       55\n",
       "cycle                      55\n",
       "jkey                       55\n",
       "month_change_republican    55\n",
       "month_change_democrat      55\n",
       "winning_party               0\n",
       "dtype: int64"
      ]
     },
     "execution_count": 119,
     "metadata": {},
     "output_type": "execute_result"
    }
   ],
   "source": [
    "processed_data[processed_data['cycle'] == 2024].count()"
   ]
  },
  {
   "cell_type": "markdown",
   "metadata": {},
   "source": [
    "There it is, there are 52 entries from the 2024 cycle which are expected to not have labels, yet 65 rows are missing a winning_party label."
   ]
  },
  {
   "cell_type": "markdown",
   "metadata": {},
   "source": [
    "4. We need to fix some of that missing data, unfortunately this will need to be done manually."
   ]
  },
  {
   "cell_type": "markdown",
   "metadata": {},
   "source": [
    "Get the merge keys for the missing values that are not from 2024. Any 2024 cycle row is expected to not have a label because the official results are not out yet and thus aren't in any dataset."
   ]
  },
  {
   "cell_type": "code",
   "execution_count": 120,
   "metadata": {},
   "outputs": [
    {
     "data": {
      "text/plain": [
       "['me-12020',\n",
       " 'me-22020',\n",
       " 'ne-22020',\n",
       " 'me-12016',\n",
       " 'me-22016',\n",
       " 'ne-12016',\n",
       " 'ne-22016',\n",
       " 'ne-32016',\n",
       " 'me-12012',\n",
       " 'me-22012',\n",
       " 'ne-12012',\n",
       " 'ne-22012',\n",
       " 'ne-32012']"
      ]
     },
     "execution_count": 120,
     "metadata": {},
     "output_type": "execute_result"
    }
   ],
   "source": [
    "missing_jkeys = processed_data[(processed_data['winning_party'].isna()) & (processed_data['cycle'] != 2024)]['jkey'].to_list()\n",
    "missing_jkeys"
   ]
  },
  {
   "cell_type": "code",
   "execution_count": 121,
   "metadata": {},
   "outputs": [
    {
     "data": {
      "text/html": [
       "<div>\n",
       "<style scoped>\n",
       "    .dataframe tbody tr th:only-of-type {\n",
       "        vertical-align: middle;\n",
       "    }\n",
       "\n",
       "    .dataframe tbody tr th {\n",
       "        vertical-align: top;\n",
       "    }\n",
       "\n",
       "    .dataframe thead th {\n",
       "        text-align: right;\n",
       "    }\n",
       "</style>\n",
       "<table border=\"1\" class=\"dataframe\">\n",
       "  <thead>\n",
       "    <tr style=\"text-align: right;\">\n",
       "      <th></th>\n",
       "      <th>state</th>\n",
       "      <th>cycle</th>\n",
       "    </tr>\n",
       "  </thead>\n",
       "  <tbody>\n",
       "    <tr>\n",
       "      <th>74</th>\n",
       "      <td>ME-1</td>\n",
       "      <td>2020</td>\n",
       "    </tr>\n",
       "    <tr>\n",
       "      <th>75</th>\n",
       "      <td>ME-2</td>\n",
       "      <td>2020</td>\n",
       "    </tr>\n",
       "    <tr>\n",
       "      <th>84</th>\n",
       "      <td>NE-2</td>\n",
       "      <td>2020</td>\n",
       "    </tr>\n",
       "    <tr>\n",
       "      <th>128</th>\n",
       "      <td>ME-1</td>\n",
       "      <td>2016</td>\n",
       "    </tr>\n",
       "    <tr>\n",
       "      <th>129</th>\n",
       "      <td>ME-2</td>\n",
       "      <td>2016</td>\n",
       "    </tr>\n",
       "    <tr>\n",
       "      <th>138</th>\n",
       "      <td>NE-1</td>\n",
       "      <td>2016</td>\n",
       "    </tr>\n",
       "    <tr>\n",
       "      <th>139</th>\n",
       "      <td>NE-2</td>\n",
       "      <td>2016</td>\n",
       "    </tr>\n",
       "    <tr>\n",
       "      <th>140</th>\n",
       "      <td>NE-3</td>\n",
       "      <td>2016</td>\n",
       "    </tr>\n",
       "    <tr>\n",
       "      <th>182</th>\n",
       "      <td>ME-1</td>\n",
       "      <td>2012</td>\n",
       "    </tr>\n",
       "    <tr>\n",
       "      <th>183</th>\n",
       "      <td>ME-2</td>\n",
       "      <td>2012</td>\n",
       "    </tr>\n",
       "    <tr>\n",
       "      <th>191</th>\n",
       "      <td>NE-1</td>\n",
       "      <td>2012</td>\n",
       "    </tr>\n",
       "    <tr>\n",
       "      <th>192</th>\n",
       "      <td>NE-2</td>\n",
       "      <td>2012</td>\n",
       "    </tr>\n",
       "    <tr>\n",
       "      <th>193</th>\n",
       "      <td>NE-3</td>\n",
       "      <td>2012</td>\n",
       "    </tr>\n",
       "  </tbody>\n",
       "</table>\n",
       "</div>"
      ],
      "text/plain": [
       "    state  cycle\n",
       "74   ME-1   2020\n",
       "75   ME-2   2020\n",
       "84   NE-2   2020\n",
       "128  ME-1   2016\n",
       "129  ME-2   2016\n",
       "138  NE-1   2016\n",
       "139  NE-2   2016\n",
       "140  NE-3   2016\n",
       "182  ME-1   2012\n",
       "183  ME-2   2012\n",
       "191  NE-1   2012\n",
       "192  NE-2   2012\n",
       "193  NE-3   2012"
      ]
     },
     "execution_count": 121,
     "metadata": {},
     "output_type": "execute_result"
    }
   ],
   "source": [
    "processed_data[(processed_data['winning_party'].isna()) & (processed_data['cycle'] != 2024)][['state', 'cycle']]"
   ]
  },
  {
   "cell_type": "markdown",
   "metadata": {},
   "source": [
    "Create a dataframe with the missing data, using the jkey."
   ]
  },
  {
   "cell_type": "code",
   "execution_count": 122,
   "metadata": {},
   "outputs": [],
   "source": [
    "missing_data = {\n",
    "    'jkey': missing_jkeys,\n",
    "    'winning_party': [\n",
    "        'Democrat',\n",
    "        'Republican',\n",
    "        'Democrat',\n",
    "        'Democrat',\n",
    "        'Republican',\n",
    "        'Republican',\n",
    "        'Republican',\n",
    "        'Republican',\n",
    "        'Democrat',\n",
    "        'Democrat',\n",
    "        'Republican',\n",
    "        'Republican',\n",
    "        'Republican'\n",
    "    ]\n",
    "}"
   ]
  },
  {
   "cell_type": "markdown",
   "metadata": {},
   "source": [
    "Now merge it with the dataset"
   ]
  },
  {
   "cell_type": "code",
   "execution_count": 123,
   "metadata": {},
   "outputs": [],
   "source": [
    "for key in missing_data['jkey']:\n",
    "    processed_data.loc[processed_data['jkey'] == key, 'winning_party'] = missing_data['winning_party'][missing_data['jkey'].index(key)]"
   ]
  },
  {
   "cell_type": "markdown",
   "metadata": {},
   "source": [
    "Check that it worked. It did, only 52 entries are missing labels. This is expected."
   ]
  },
  {
   "cell_type": "code",
   "execution_count": 124,
   "metadata": {},
   "outputs": [
    {
     "data": {
      "text/plain": [
       "state                      316\n",
       "polling_avg_republican     316\n",
       "polling_avg_democrat       316\n",
       "cycle                      316\n",
       "jkey                       316\n",
       "month_change_republican    316\n",
       "month_change_democrat      316\n",
       "winning_party              261\n",
       "dtype: int64"
      ]
     },
     "execution_count": 124,
     "metadata": {},
     "output_type": "execute_result"
    }
   ],
   "source": [
    "processed_data.count()"
   ]
  },
  {
   "cell_type": "markdown",
   "metadata": {},
   "source": [
    "**Final Fixups**"
   ]
  },
  {
   "cell_type": "markdown",
   "metadata": {},
   "source": [
    "Time to add the labels for 2024, unfortunately this must be done manually since the 2024 results aren't available in any dataset yet."
   ]
  },
  {
   "cell_type": "code",
   "execution_count": 125,
   "metadata": {},
   "outputs": [],
   "source": [
    "election_results = {\n",
    "    \"Alabama\": \"Republican\",\n",
    "    \"Alaska\": \"Republican\",\n",
    "    \"Arizona\": \"Republican\",\n",
    "    \"Arkansas\": \"Republican\",\n",
    "    \"California\": \"Democrat\",\n",
    "    \"Colorado\": \"Democrat\",\n",
    "    \"Connecticut\": \"Democrat\",\n",
    "    \"Delaware\": \"Democrat\",\n",
    "    \"Florida\": \"Republican\",\n",
    "    \"Georgia\": \"Republican\",\n",
    "    \"Hawaii\": \"Democrat\",\n",
    "    \"Idaho\": \"Republican\",\n",
    "    \"Illinois\": \"Democrat\",\n",
    "    \"Indiana\": \"Republican\",\n",
    "    \"Iowa\": \"Republican\",\n",
    "    \"Kansas\": \"Republican\",\n",
    "    \"Kentucky\": \"Republican\",\n",
    "    \"Louisiana\": \"Republican\",\n",
    "    \"Maine\": \"Democrat\",\n",
    "    \"ME-1\": \"Democrat\", \n",
    "    \"ME-2\": \"Republican\",\n",
    "    \"Maryland\": \"Democrat\",\n",
    "    \"Massachusetts\": \"Democrat\",\n",
    "    \"Michigan\": \"Republican\",\n",
    "    \"Minnesota\": \"Democrat\",\n",
    "    \"Mississippi\": \"Republican\",\n",
    "    \"Missouri\": \"Republican\",\n",
    "    \"Montana\": \"Republican\",\n",
    "    \"Nebraska\": \"Republican\", \n",
    "    \"NE-1\": \"Republican\", \n",
    "    \"NE-2\": \"Democrat\", \n",
    "    \"NE-3\": \"Republican\",\n",
    "    \"Nevada\": \"Republican\",\n",
    "    \"New Hampshire\": \"Democrat\",\n",
    "    \"New Jersey\": \"Democrat\",\n",
    "    \"New Mexico\": \"Democrat\",\n",
    "    \"New York\": \"Democrat\",\n",
    "    \"North Carolina\": \"Republican\",\n",
    "    \"North Dakota\": \"Republican\",\n",
    "    \"Ohio\": \"Republican\",\n",
    "    \"Oklahoma\": \"Republican\",\n",
    "    \"Oregon\": \"Democrat\",\n",
    "    \"Pennsylvania\": \"Republican\",\n",
    "    \"Rhode Island\": \"Democrat\",\n",
    "    \"South Carolina\": \"Republican\",\n",
    "    \"South Dakota\": \"Republican\",\n",
    "    \"Tennessee\": \"Republican\",\n",
    "    \"Texas\": \"Republican\",\n",
    "    \"Utah\": \"Republican\",\n",
    "    \"Vermont\": \"Democrat\",\n",
    "    \"Virginia\": \"Democrat\",\n",
    "    \"Washington\": \"Democrat\",\n",
    "    \"West Virginia\": \"Republican\",\n",
    "    \"Wisconsin\": \"Republican\",\n",
    "    \"Wyoming\": \"Republican\",\n",
    "    \"District of Columbia\": \"Democrat\"\n",
    "}"
   ]
  },
  {
   "cell_type": "code",
   "execution_count": 126,
   "metadata": {},
   "outputs": [
    {
     "name": "stdout",
     "output_type": "stream",
     "text": [
      "District of Columbia\n"
     ]
    }
   ],
   "source": [
    "for v in sorted(election_results.keys()):\n",
    "    if v not in list(processed_data[processed_data['cycle'] == 2024]['state'].unique()):\n",
    "        print(v)"
   ]
  },
  {
   "cell_type": "markdown",
   "metadata": {},
   "source": [
    "Apply those results to the combined dataframe"
   ]
  },
  {
   "cell_type": "code",
   "execution_count": 127,
   "metadata": {},
   "outputs": [],
   "source": [
    "for key in election_results.keys():\n",
    "    if key != \"District of Columbia\":\n",
    "        processed_data.loc[(processed_data['state'] == key) & (processed_data['cycle'] == 2024), 'winning_party'] = election_results[key]"
   ]
  },
  {
   "cell_type": "markdown",
   "metadata": {},
   "source": [
    "Give it one final check with count"
   ]
  },
  {
   "cell_type": "code",
   "execution_count": 128,
   "metadata": {},
   "outputs": [
    {
     "data": {
      "text/plain": [
       "state                      316\n",
       "polling_avg_republican     316\n",
       "polling_avg_democrat       316\n",
       "cycle                      316\n",
       "jkey                       316\n",
       "month_change_republican    316\n",
       "month_change_democrat      316\n",
       "winning_party              316\n",
       "dtype: int64"
      ]
     },
     "execution_count": 128,
     "metadata": {},
     "output_type": "execute_result"
    }
   ],
   "source": [
    "processed_data.count()"
   ]
  },
  {
   "cell_type": "markdown",
   "metadata": {},
   "source": [
    "**And nothing is missing, meaning, that we are finally done with processing the polling data.**"
   ]
  }
 ],
 "metadata": {
  "kernelspec": {
   "display_name": "jupyter",
   "language": "python",
   "name": "python3"
  },
  "language_info": {
   "codemirror_mode": {
    "name": "ipython",
    "version": 3
   },
   "file_extension": ".py",
   "mimetype": "text/x-python",
   "name": "python",
   "nbconvert_exporter": "python",
   "pygments_lexer": "ipython3",
   "version": "3.12.2"
  }
 },
 "nbformat": 4,
 "nbformat_minor": 2
}
